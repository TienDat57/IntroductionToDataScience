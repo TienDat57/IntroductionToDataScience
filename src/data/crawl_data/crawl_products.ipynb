{
 "cells": [
  {
   "cell_type": "markdown",
   "metadata": {},
   "source": [
    "## File is used to crawl the products using product id.\n"
   ]
  },
  {
   "cell_type": "markdown",
   "metadata": {},
   "source": [
    "### Import the necessary libraries"
   ]
  },
  {
   "cell_type": "code",
   "execution_count": 1,
   "metadata": {},
   "outputs": [],
   "source": [
    "import requests\n",
    "import time\n",
    "import random\n",
    "from tqdm import tqdm\n",
    "import pandas as pd"
   ]
  },
  {
   "cell_type": "markdown",
   "metadata": {},
   "source": [
    "### Headers and parameters for the request"
   ]
  },
  {
   "cell_type": "code",
   "execution_count": 2,
   "metadata": {},
   "outputs": [],
   "source": [
    "headers = {\n",
    "    'User-Agent': 'Mozilla/5.0 (Windows NT 6.3; Win64; x64; rv:83.0) Gecko/20100101 Firefox/83.0',\n",
    "    'Accept': 'application/json, text/plain, */*',\n",
    "    'Accept-Language': 'vi-VN,vi;q=0.8,en-US;q=0.5,en;q=0.3',\n",
    "    'Referer': 'https://tiki.vn/smart-tivi-samsung-4k-65-inch-ua65au7002-p184080975.html?itm_campaign=CTP_YPD_TKA_PLA_UNK_ALL_UNK_UNK_UNK_UNK_X.194405_Y.1776732_Z.3496723_CN.Product-Ads-06-12%252F11_Smart-TV-Android-TV&itm_medium=CPC&itm_source=tiki-ads&spid=184080976',\n",
    "    'x-guest-token': 'xLOIgaKMRSBUwfeYkWJ6rThQbHdE7pDn',\n",
    "    'Connection': 'keep-alive',\n",
    "    'TE': 'Trailers',\n",
    "}\n",
    "\n",
    "params = (\n",
    "    ('platform', 'web'),\n",
    "    ('spid', 184080976),\n",
    ")"
   ]
  },
  {
   "cell_type": "markdown",
   "metadata": {},
   "source": [
    "### Function to crawl the product data"
   ]
  },
  {
   "cell_type": "code",
   "execution_count": 3,
   "metadata": {},
   "outputs": [],
   "source": [
    "def parser_product(json):\n",
    "    product_dict = dict()\n",
    "    product_dict['p_id'] = json.get('id')\n",
    "    product_dict['p_name'] = json.get('name')\n",
    "    product_dict['p_id_shop'] = json.get('current_seller').get('id') if json.get('current_seller') else None\n",
    "    product_dict['p_shop_name'] = json.get('current_seller').get('name') if json.get('current_seller') else None\n",
    "    product_dict['p_brand'] = json.get('brand').get('name') if json.get('brand') else None\n",
    "    product_dict['p_categories'] = json.get('categories').get('name') if json.get('categories') else None\n",
    "    product_dict['p_sold_quantity'] = json.get('quantity_sold').get('value') if json.get('quantity_sold') else 0 \n",
    "    product_dict['p_original_price'] = json.get('original_price') \n",
    "    product_dict['p_current_price'] = json.get('price') \n",
    "    product_dict['p_discount_rate'] = json.get('discount_rate') \n",
    "    return product_dict\n",
    "\n",
    "def get_product_detail(p_ids):\n",
    "    result = []\n",
    "    print('Start crawling...')\n",
    "    for p_id in tqdm(p_ids, total=len(p_ids)):\n",
    "        response = requests.get('https://tiki.vn/api/v2/products/{}'.format(p_id), headers=headers, params=params)\n",
    "        if response.status_code == 200:\n",
    "            result.append(parser_product(response.json()))\n",
    "        # time.sleep(random.randint(1, 3))\n",
    "    print('Crawling completed!')\n",
    "    return result"
   ]
  },
  {
   "cell_type": "code",
   "execution_count": 6,
   "metadata": {},
   "outputs": [
    {
     "name": "stdout",
     "output_type": "stream",
     "text": [
      "Start crawling...\n"
     ]
    },
    {
     "name": "stderr",
     "output_type": "stream",
     "text": [
      "100%|██████████| 1984/1984 [12:22<00:00,  2.67it/s] "
     ]
    },
    {
     "name": "stdout",
     "output_type": "stream",
     "text": [
      "Crawling completed!\n"
     ]
    },
    {
     "name": "stderr",
     "output_type": "stream",
     "text": [
      "\n"
     ]
    }
   ],
   "source": [
    "# Get product ids\n",
    "df_id = pd.read_csv('../../../data/raw/products_id.csv')\n",
    "p_ids = df_id.p_id.to_list()\n",
    "\n",
    "# Get product details and save to products_detail.csv\n",
    "list_products = get_product_detail(p_ids)\n",
    "df_product = pd.DataFrame(list_products)\n",
    "df_product.to_csv('../../../data/raw/products_detail.csv', index=False)"
   ]
  },
  {
   "cell_type": "code",
   "execution_count": null,
   "metadata": {},
   "outputs": [],
   "source": []
  }
 ],
 "metadata": {
  "kernelspec": {
   "display_name": "Python 3.8.8 ('PhatPham_DS')",
   "language": "python",
   "name": "python3"
  },
  "language_info": {
   "codemirror_mode": {
    "name": "ipython",
    "version": 3
   },
   "file_extension": ".py",
   "mimetype": "text/x-python",
   "name": "python",
   "nbconvert_exporter": "python",
   "pygments_lexer": "ipython3",
   "version": "3.8.8"
  },
  "orig_nbformat": 4,
  "vscode": {
   "interpreter": {
    "hash": "1081922fe2b35b81ac001480d050463c54a1f051223a6bd421b382c299c6c18c"
   }
  }
 },
 "nbformat": 4,
 "nbformat_minor": 2
}
