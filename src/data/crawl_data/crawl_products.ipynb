{
 "cells": [
  {
   "cell_type": "markdown",
   "metadata": {},
   "source": [
    "## File is used to crawl the products using product id.\n"
   ]
  },
  {
   "cell_type": "markdown",
   "metadata": {},
   "source": [
    "### Import the necessary libraries"
   ]
  },
  {
   "cell_type": "code",
   "execution_count": 34,
   "metadata": {},
   "outputs": [],
   "source": [
    "import requests\n",
    "import json\n",
    "from tqdm import tqdm\n",
    "import pandas as pd \n",
    "import helpers as hp\n",
    "import time\n",
    "import random"
   ]
  },
  {
   "cell_type": "code",
   "execution_count": 35,
   "metadata": {},
   "outputs": [],
   "source": [
    "# Get product ids\n",
    "df_id = pd.read_csv('../../../data/raw/products_id.csv')"
   ]
  },
  {
   "attachments": {},
   "cell_type": "markdown",
   "metadata": {},
   "source": [
    "#### Remove duplicated products id from the list"
   ]
  },
  {
   "cell_type": "code",
   "execution_count": 36,
   "metadata": {},
   "outputs": [],
   "source": [
    "# show list products id is duplicated\n",
    "df_id[df_id.duplicated(['p_id'], keep=False)]\n",
    "\n",
    "# Remove duplicated products id \n",
    "df_id.drop_duplicates(subset=['p_id'], keep='first', inplace=True)\n",
    "\n",
    "# select columns p_id \n",
    "df_id = df_id[['p_id']]"
   ]
  },
  {
   "attachments": {},
   "cell_type": "markdown",
   "metadata": {},
   "source": [
    "#### Add the product id to the data frame \n"
   ]
  },
  {
   "cell_type": "code",
   "execution_count": 37,
   "metadata": {},
   "outputs": [],
   "source": [
    "# write \n",
    "df_id.to_csv('../../../data/raw/products_id.csv', index=False)"
   ]
  },
  {
   "cell_type": "markdown",
   "metadata": {},
   "source": [
    "### Function to crawl the product data"
   ]
  },
  {
   "cell_type": "code",
   "execution_count": 40,
   "metadata": {},
   "outputs": [],
   "source": [
    "def parser_product(product_detail_json):\n",
    "    product_dict = dict()\n",
    "    product_dict['p_id'] = product_detail_json.get('id') if product_detail_json.get('id') else None\n",
    "    product_dict['p_name'] = product_detail_json.get('name') if product_detail_json.get('name') else None\n",
    "    product_dict['p_id_shop'] = product_detail_json.get('current_seller').get('id') if product_detail_json.get('current_seller') else None\n",
    "    product_dict['p_shop_name'] = product_detail_json.get('current_seller').get('name') if product_detail_json.get('current_seller') else None\n",
    "    product_dict['p_brand'] = product_detail_json.get('brand').get('name') if product_detail_json.get('brand') else None\n",
    "    product_dict['p_categories'] = product_detail_json.get('categories').get('name') if product_detail_json.get('categories') else None\n",
    "    product_dict['p_day_created'] = product_detail_json.get('day_ago_created') if product_detail_json.get('day_ago_created') else None\n",
    "    product_dict['p_sold_quantity'] = product_detail_json.get('quantity_sold').get('value') if product_detail_json.get('quantity_sold') else 0\n",
    "    product_dict['p_original_price'] = product_detail_json.get('original_price') if product_detail_json.get('original_price') else 0\n",
    "    product_dict['p_current_price'] = product_detail_json.get('price') if product_detail_json.get('price') else 0\n",
    "    product_dict['p_discount_rate'] = product_detail_json.get('discount_rate') if product_detail_json.get('discount_rate') else 0\n",
    "    return product_dict\n",
    "\n",
    "def get_product_detail(p_ids):\n",
    "    result = []\n",
    "    print('Start crawling...')\n",
    "    for p_id in tqdm(p_ids, total=len(p_ids)):\n",
    "        response = requests.get('https://tiki.vn/api/v2/products/{}'.format(p_id), headers=hp._HEADERS, params=hp._PARAMS_PRODUCTS_DETAIL)\n",
    "        if response.status_code == 200:\n",
    "            product_detail = parser_product(response.json())\n",
    "            result.append(product_detail)\n",
    "        time.sleep(2)\n",
    "    print('Crawling completed!')\n",
    "    return result"
   ]
  },
  {
   "cell_type": "code",
   "execution_count": 41,
   "metadata": {},
   "outputs": [
    {
     "name": "stdout",
     "output_type": "stream",
     "text": [
      "Start crawling...\n"
     ]
    },
    {
     "name": "stderr",
     "output_type": "stream",
     "text": [
      "100%|██████████| 1977/1977 [1:23:38<00:00,  2.54s/it]"
     ]
    },
    {
     "name": "stdout",
     "output_type": "stream",
     "text": [
      "Crawling completed!\n"
     ]
    },
    {
     "name": "stderr",
     "output_type": "stream",
     "text": [
      "\n"
     ]
    }
   ],
   "source": [
    "# Save to products_detail.csv\n",
    "list_products = get_product_detail(df_id.p_id.to_list())\n",
    "df_product = pd.DataFrame(list_products)\n",
    "df_product.to_csv('../../../data/raw/products_detail.csv', index=False)"
   ]
  },
  {
   "cell_type": "code",
   "execution_count": null,
   "metadata": {},
   "outputs": [],
   "source": []
  }
 ],
 "metadata": {
  "kernelspec": {
   "display_name": "min_ds-env",
   "language": "python",
   "name": "python3"
  },
  "language_info": {
   "codemirror_mode": {
    "name": "ipython",
    "version": 3
   },
   "file_extension": ".py",
   "mimetype": "text/x-python",
   "name": "python",
   "nbconvert_exporter": "python",
   "pygments_lexer": "ipython3",
   "version": "3.8.8 | packaged by conda-forge | (default, Feb 20 2021, 16:22:27) \n[GCC 9.3.0]"
  },
  "orig_nbformat": 4,
  "vscode": {
   "interpreter": {
    "hash": "a5e1ec076bd572246a92e5395011ccb4d0c3c0a63992a65b30abbf30f49ecb0c"
   }
  }
 },
 "nbformat": 4,
 "nbformat_minor": 2
}
