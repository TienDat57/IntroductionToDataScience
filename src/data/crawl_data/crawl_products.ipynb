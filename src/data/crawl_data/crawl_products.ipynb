{
 "cells": [
  {
   "cell_type": "markdown",
   "metadata": {},
   "source": [
    "## File is used to crawl the products using product id.\n"
   ]
  },
  {
   "cell_type": "markdown",
   "metadata": {},
   "source": [
    "### Import the necessary libraries"
   ]
  },
  {
   "cell_type": "code",
   "execution_count": 1,
   "metadata": {},
   "outputs": [],
   "source": [
    "import requests\n",
    "from tqdm import tqdm\n",
    "import pandas as pd\n",
    "import helpers as hp"
   ]
  },
  {
   "cell_type": "markdown",
   "metadata": {},
   "source": [
    "### Function to crawl the product data"
   ]
  },
  {
   "cell_type": "code",
   "execution_count": 2,
   "metadata": {},
   "outputs": [],
   "source": [
    "def parser_product(json):\n",
    "    product_dict = dict()\n",
    "    product_dict['p_id'] = json.get('id')\n",
    "    product_dict['p_name'] = json.get('name')\n",
    "    product_dict['p_id_shop'] = json.get('current_seller').get('id') if json.get('current_seller') else None\n",
    "    product_dict['p_shop_name'] = json.get('current_seller').get('name') if json.get('current_seller') else None\n",
    "    product_dict['p_brand'] = json.get('brand').get('name') if json.get('brand') else None\n",
    "    product_dict['p_categories'] = json.get('categories').get('name') if json.get('categories') else None\n",
    "    product_dict['p_sold_quantity'] = json.get('quantity_sold').get('value') if json.get('quantity_sold') else 0 \n",
    "    product_dict['p_original_price'] = json.get('original_price') \n",
    "    product_dict['p_current_price'] = json.get('price') \n",
    "    product_dict['p_discount_rate'] = json.get('discount_rate') \n",
    "    return product_dict\n",
    "\n",
    "def get_product_detail(p_ids):\n",
    "    result = []\n",
    "    print('Start crawling...')\n",
    "    for p_id in tqdm(p_ids, total=len(p_ids)):\n",
    "        response = requests.get('https://tiki.vn/api/v2/products/{}'.format(p_id), headers=hp._HEADERS, params=hp._PARAMS_PRODUCTS_DETAIL)\n",
    "        if response.status_code == 200:\n",
    "            result.append(parser_product(response.json()))\n",
    "        # time.sleep(random.randint(1, 3))\n",
    "    print('Crawling completed!')\n",
    "    return result"
   ]
  },
  {
   "cell_type": "code",
   "execution_count": 3,
   "metadata": {},
   "outputs": [
    {
     "name": "stdout",
     "output_type": "stream",
     "text": [
      "Start crawling...\n"
     ]
    },
    {
     "name": "stderr",
     "output_type": "stream",
     "text": [
      "100%|██████████| 1974/1974 [12:19<00:00,  2.67it/s]\n"
     ]
    },
    {
     "name": "stdout",
     "output_type": "stream",
     "text": [
      "Crawling completed!\n"
     ]
    }
   ],
   "source": [
    "# Get product ids\n",
    "df_id = pd.read_csv('../../../data/raw/products_id.csv')\n",
    "p_ids = df_id.p_id.to_list()\n",
    "\n",
    "# Get product details and save to products_detail.csv\n",
    "list_products = get_product_detail(p_ids)\n",
    "df_product = pd.DataFrame(list_products)\n",
    "df_product.to_csv('../../../data/raw/products_detail.csv', index=False)"
   ]
  },
  {
   "cell_type": "code",
   "execution_count": null,
   "metadata": {},
   "outputs": [],
   "source": []
  }
 ],
 "metadata": {
  "kernelspec": {
   "display_name": "Python 3.9.12 ('DataScience')",
   "language": "python",
   "name": "python3"
  },
  "language_info": {
   "codemirror_mode": {
    "name": "ipython",
    "version": 3
   },
   "file_extension": ".py",
   "mimetype": "text/x-python",
   "name": "python",
   "nbconvert_exporter": "python",
   "pygments_lexer": "ipython3",
   "version": "3.9.12"
  },
  "orig_nbformat": 4,
  "vscode": {
   "interpreter": {
    "hash": "da5c88a7b415d3aa4fc851a4158d37c895b2b016e8b5a5cb2326d03829d70c8b"
   }
  }
 },
 "nbformat": 4,
 "nbformat_minor": 2
}
