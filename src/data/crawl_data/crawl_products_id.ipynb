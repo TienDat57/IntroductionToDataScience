{
 "cells": [
  {
   "cell_type": "markdown",
   "metadata": {},
   "source": [
    "## This is a file used to crawl the products id from the website"
   ]
  },
  {
   "cell_type": "markdown",
   "metadata": {},
   "source": [
    "### Import the necessary libraries"
   ]
  },
  {
   "cell_type": "code",
   "execution_count": 1,
   "metadata": {},
   "outputs": [],
   "source": [
    "import requests\n",
    "import time\n",
    "import random\n",
    "import pandas as pd"
   ]
  },
  {
   "cell_type": "markdown",
   "metadata": {},
   "source": [
    "### Headers for the request to the API"
   ]
  },
  {
   "cell_type": "code",
   "execution_count": 2,
   "metadata": {},
   "outputs": [],
   "source": [
    "headers = {\n",
    "   'User-Agent': 'Mozilla/5.0 (Windows NT 6.3; Win64; x64; rv:83.0) Gecko/20100101 Firefox/83.0',\n",
    "   'Accept': 'application/json, text/plain, */*',\n",
    "   'Accept-Language': 'vi-VN,vi;q=0.8,en-US;q=0.5,en;q=0.3',\n",
    "   'Referer': 'https://tiki.vn/?src=header_tiki',\n",
    "   #'x-guest-token': 'xLOIgaKMRSBUwfeYkWJ6rThQbHdE7pDn',\n",
    "   'x-guest-token': '8hHebNJizdqGFamf10pQLcOBo5Tl7rw4',\n",
    "   'Connection': 'keep-alive',\n",
    "   'TE': 'Trailers',\n",
    "}"
   ]
  },
  {
   "cell_type": "markdown",
   "metadata": {},
   "source": [
    "### This is the parameter for the request"
   ]
  },
  {
   "cell_type": "code",
   "execution_count": 6,
   "metadata": {},
   "outputs": [],
   "source": [
    "params = {\n",
    "   'limit': '40',\n",
    "   'include': 'sale-attrs,badges,product_links,brand,category,stock_item,advertisement',\n",
    "   'aggregations': '1',\n",
    "   'trackity_id': '70e316b0-96f2-dbe1-a2ed-43ff60419991',\n",
    "   'category': '1883',\n",
    "   'page': '1',\n",
    "   'src': 'c1883',\n",
    "   'urlKey':  'nha-cua-doi-song',\n",
    "}"
   ]
  },
  {
   "cell_type": "markdown",
   "metadata": {},
   "source": [
    "### Here is the function to get all products id from a category"
   ]
  },
  {
   "cell_type": "code",
   "execution_count": 5,
   "metadata": {},
   "outputs": [],
   "source": [
    "def parse_products(product_json):\n",
    "    products = dict()\n",
    "    products['p_id'] = product_json.get('id')\n",
    "    products['p_review_count'] = product_json.get('review_count')\n",
    "    products['p_rating_average'] = product_json.get('rating_average')\n",
    "    return products\n",
    "\n",
    "def get_product_id_all_pages():\n",
    "   all_products = []\n",
    "   for page in range(1, 50):\n",
    "      print('Crawling page: ', page)\n",
    "      params['page'] = page\n",
    "      response = requests.get('https://tiki.vn/api/v2/products', headers=headers, params=params)\n",
    "      if response.status_code == 200:\n",
    "         products_json = response.json().get('data')\n",
    "         for product in products_json:\n",
    "               all_products.append(parse_products(product))\n",
    "      else:\n",
    "         break\n",
    "      time.sleep(random.randint(1, 3))\n",
    "   return all_products"
   ]
  },
  {
   "cell_type": "markdown",
   "metadata": {},
   "source": [
    "### Write the products id to a csv file"
   ]
  },
  {
   "cell_type": "code",
   "execution_count": 7,
   "metadata": {},
   "outputs": [
    {
     "name": "stdout",
     "output_type": "stream",
     "text": [
      "Crawling page:  1\n",
      "Crawling page:  2\n",
      "Crawling page:  3\n",
      "Crawling page:  4\n",
      "Crawling page:  5\n",
      "Crawling page:  6\n",
      "Crawling page:  7\n",
      "Crawling page:  8\n",
      "Crawling page:  9\n",
      "Crawling page:  10\n",
      "Crawling page:  11\n",
      "Crawling page:  12\n",
      "Crawling page:  13\n",
      "Crawling page:  14\n",
      "Crawling page:  15\n",
      "Crawling page:  16\n",
      "Crawling page:  17\n",
      "Crawling page:  18\n",
      "Crawling page:  19\n",
      "Crawling page:  20\n",
      "Crawling page:  21\n",
      "Crawling page:  22\n",
      "Crawling page:  23\n",
      "Crawling page:  24\n",
      "Crawling page:  25\n",
      "Crawling page:  26\n",
      "Crawling page:  27\n",
      "Crawling page:  28\n",
      "Crawling page:  29\n",
      "Crawling page:  30\n",
      "Crawling page:  31\n",
      "Crawling page:  32\n",
      "Crawling page:  33\n",
      "Crawling page:  34\n",
      "Crawling page:  35\n",
      "Crawling page:  36\n",
      "Crawling page:  37\n",
      "Crawling page:  38\n",
      "Crawling page:  39\n",
      "Crawling page:  40\n",
      "Crawling page:  41\n",
      "Crawling page:  42\n",
      "Crawling page:  43\n",
      "Crawling page:  44\n",
      "Crawling page:  45\n",
      "Crawling page:  46\n",
      "Crawling page:  47\n",
      "Crawling page:  48\n",
      "Crawling page:  49\n"
     ]
    }
   ],
   "source": [
    "result = get_product_id_all_pages() \n",
    "df = pd.DataFrame(result)\n",
    "df.to_csv('../../../data/raw/products_id.csv', index=False)"
   ]
  },
  {
   "cell_type": "code",
   "execution_count": null,
   "metadata": {},
   "outputs": [],
   "source": []
  }
 ],
 "metadata": {
  "kernelspec": {
   "display_name": "Python 3.8.8 ('PhatPham_DS')",
   "language": "python",
   "name": "python3"
  },
  "language_info": {
   "codemirror_mode": {
    "name": "ipython",
    "version": 3
   },
   "file_extension": ".py",
   "mimetype": "text/x-python",
   "name": "python",
   "nbconvert_exporter": "python",
   "pygments_lexer": "ipython3",
   "version": "3.8.8"
  },
  "orig_nbformat": 4,
  "vscode": {
   "interpreter": {
    "hash": "1081922fe2b35b81ac001480d050463c54a1f051223a6bd421b382c299c6c18c"
   }
  }
 },
 "nbformat": 4,
 "nbformat_minor": 2
}
