{
 "cells": [
  {
   "attachments": {},
   "cell_type": "markdown",
   "metadata": {},
   "source": [
    "## <strong>Step 1. Data Collection</strong>\n",
    "1. Crawl the products id from the website\n",
    "2. Crawl the products using product id."
   ]
  },
  {
   "attachments": {},
   "cell_type": "markdown",
   "metadata": {},
   "source": [
    "### <strong>Import the necessary libraries</strong>"
   ]
  },
  {
   "cell_type": "code",
   "execution_count": 4,
   "metadata": {},
   "outputs": [],
   "source": [
    "import requests\n",
    "import time\n",
    "from tqdm import tqdm\n",
    "import random\n",
    "import pandas as pd\n",
    "import helpers as hp"
   ]
  },
  {
   "attachments": {},
   "cell_type": "markdown",
   "metadata": {},
   "source": [
    "### <strong>1. Crawl the products id from the website</strong>"
   ]
  },
  {
   "attachments": {},
   "cell_type": "markdown",
   "metadata": {},
   "source": [
    "#### Here is the function to get all products id from a category"
   ]
  },
  {
   "cell_type": "code",
   "execution_count": 5,
   "metadata": {},
   "outputs": [],
   "source": [
    "def parse_products(product_json):\n",
    "    products = dict()\n",
    "    products['p_id'] = product_json.get('id')\n",
    "    return products\n",
    "\n",
    "\n",
    "def get_product_id_all_pages():\n",
    "    all_products = []\n",
    "    for page in tqdm(range(1, 50)):\n",
    "        hp._PARAMS_PRODUCTS_ID['page'] = page\n",
    "        response = requests.get('https://tiki.vn/api/v2/products',\n",
    "                                headers=hp._HEADERS, params=hp._PARAMS_PRODUCTS_ID)\n",
    "        \n",
    "        if response.status_code == 200:\n",
    "            products_json = response.json().get('data')\n",
    "            for product in products_json:\n",
    "                all_products.append(parse_products(product))\n",
    "        else:\n",
    "            break\n",
    "        # time.sleep(random.randint(1, 3))\n",
    "    return all_products"
   ]
  },
  {
   "attachments": {},
   "cell_type": "markdown",
   "metadata": {},
   "source": [
    "#### Write the products id to a csv file"
   ]
  },
  {
   "cell_type": "code",
   "execution_count": 6,
   "metadata": {},
   "outputs": [
    {
     "name": "stderr",
     "output_type": "stream",
     "text": [
      "100%|██████████| 49/49 [00:31<00:00,  1.56it/s]\n"
     ]
    }
   ],
   "source": [
    "result = get_product_id_all_pages() \n",
    "df = pd.DataFrame(result)\n",
    "df.to_csv('../../../data/raw/products_id.csv', index=False)"
   ]
  },
  {
   "attachments": {},
   "cell_type": "markdown",
   "metadata": {},
   "source": [
    "### <strong>2. Crawl the products using product id.</strong>"
   ]
  },
  {
   "cell_type": "code",
   "execution_count": 7,
   "metadata": {},
   "outputs": [],
   "source": [
    "# Get product ids\n",
    "df_id = pd.read_csv('../../../data/raw/products_id.csv')"
   ]
  },
  {
   "attachments": {},
   "cell_type": "markdown",
   "metadata": {},
   "source": [
    "#### Remove duplicated products id from the list"
   ]
  },
  {
   "cell_type": "code",
   "execution_count": 8,
   "metadata": {},
   "outputs": [],
   "source": [
    "# show list products id is duplicated\n",
    "df_id[df_id.duplicated(['p_id'], keep=False)]\n",
    "\n",
    "# Remove duplicated products id \n",
    "df_id.drop_duplicates(subset=['p_id'], keep='first', inplace=True)\n",
    "\n",
    "# select columns p_id \n",
    "df_id = df_id[['p_id']]"
   ]
  },
  {
   "attachments": {},
   "cell_type": "markdown",
   "metadata": {},
   "source": [
    "#### Add the product id to the data frame "
   ]
  },
  {
   "cell_type": "code",
   "execution_count": 9,
   "metadata": {},
   "outputs": [],
   "source": [
    "# write \n",
    "df_id.to_csv('../../../data/raw/products_id.csv', index=False)"
   ]
  },
  {
   "attachments": {},
   "cell_type": "markdown",
   "metadata": {},
   "source": [
    "#### Function to crawl the product data"
   ]
  },
  {
   "cell_type": "code",
   "execution_count": 10,
   "metadata": {},
   "outputs": [],
   "source": [
    "def parser_product(product_detail_json):\n",
    "    product_dict = dict()\n",
    "    product_dict['p_id'] = product_detail_json.get('id') if product_detail_json.get('id') else None\n",
    "    product_dict['p_name'] = product_detail_json.get('name') if product_detail_json.get('name') else None\n",
    "    product_dict['p_id_shop'] = product_detail_json.get('current_seller').get('id') if product_detail_json.get('current_seller') else None\n",
    "    product_dict['p_shop_name'] = product_detail_json.get('current_seller').get('name') if product_detail_json.get('current_seller') else None\n",
    "    product_dict['p_brand'] = product_detail_json.get('brand').get('name') if product_detail_json.get('brand') else None\n",
    "    product_dict['p_categories'] = product_detail_json.get('categories').get('name') if product_detail_json.get('categories') else None\n",
    "    product_dict['p_day_created'] = product_detail_json.get('day_ago_created') if product_detail_json.get('day_ago_created') else None\n",
    "    product_dict['p_sold_quantity'] = product_detail_json.get('quantity_sold').get('value') if product_detail_json.get('quantity_sold') else 0\n",
    "    product_dict['p_original_price'] = product_detail_json.get('original_price') if product_detail_json.get('original_price') else 0\n",
    "    product_dict['p_current_price'] = product_detail_json.get('price') if product_detail_json.get('price') else 0\n",
    "    product_dict['p_discount_rate'] = product_detail_json.get('discount_rate') if product_detail_json.get('discount_rate') else 0\n",
    "    return product_dict\n",
    "\n",
    "def get_product_detail(p_ids):\n",
    "    result = []\n",
    "    print('Start crawling...')\n",
    "    for p_id in tqdm(p_ids, total=len(p_ids)):\n",
    "        response = requests.get('https://tiki.vn/api/v2/products/{}'.format(p_id), headers=hp._HEADERS, params=hp._PARAMS_PRODUCTS_DETAIL)\n",
    "        if response.status_code == 200:\n",
    "            product_detail = parser_product(response.json())\n",
    "            result.append(product_detail)\n",
    "        time.sleep(2)\n",
    "    print('Crawling completed!')\n",
    "    return result"
   ]
  },
  {
   "cell_type": "code",
   "execution_count": null,
   "metadata": {},
   "outputs": [],
   "source": [
    "# Save to products_detail.csv\n",
    "list_products = get_product_detail(df_id.p_id.to_list())\n",
    "df_product = pd.DataFrame(list_products)\n",
    "df_product.to_csv('../../../data/raw/products_detail.csv', index=False)"
   ]
  }
 ],
 "metadata": {
  "kernelspec": {
   "display_name": "Python 3",
   "language": "python",
   "name": "python3"
  },
  "language_info": {
   "codemirror_mode": {
    "name": "ipython",
    "version": 3
   },
   "file_extension": ".py",
   "mimetype": "text/x-python",
   "name": "python",
   "nbconvert_exporter": "python",
   "pygments_lexer": "ipython3",
   "version": "3.10.6 (main, Aug 10 2022, 11:40:04) [GCC 11.3.0]"
  },
  "orig_nbformat": 4,
  "vscode": {
   "interpreter": {
    "hash": "916dbcbb3f70747c44a77c7bcd40155683ae19c65e1c03b4aa3499c5328201f1"
   }
  }
 },
 "nbformat": 4,
 "nbformat_minor": 2
}
