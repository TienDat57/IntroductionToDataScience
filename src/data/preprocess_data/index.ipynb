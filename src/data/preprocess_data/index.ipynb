{
 "cells": [
  {
   "attachments": {},
   "cell_type": "markdown",
   "metadata": {},
   "source": [
    "# Step 2: Data Cleaning and PreparationƯ"
   ]
  },
  {
   "attachments": {},
   "cell_type": "markdown",
   "metadata": {},
   "source": [
    "## 1. What is the meaning of each column?"
   ]
  },
  {
   "attachments": {},
   "cell_type": "markdown",
   "metadata": {},
   "source": [
    "1) p_id: product id\n",
    "2) p_name: product name\n",
    "3) p_id_shop: shop id that sells the product\n",
    "4) p_shop_name: shop name that sells the product\n",
    "5) p_brand : brand of the product\n",
    "6) p_category: category of the product\n",
    "7) p_sold_quantity: number of products sold\n",
    "8) p_original_price: original price of the product\n",
    "9) p_current_price: current price of the product\n",
    "10) p_discount_rate : discount rate of the product"
   ]
  },
  {
   "attachments": {},
   "cell_type": "markdown",
   "metadata": {},
   "source": [
    "#### Importing libraries needed for this step\n"
   ]
  },
  {
   "cell_type": "code",
   "execution_count": 52,
   "metadata": {},
   "outputs": [],
   "source": [
    "import numpy as np\n",
    "import pandas as pd"
   ]
  },
  {
   "attachments": {},
   "cell_type": "markdown",
   "metadata": {},
   "source": [
    "#### Reading the data "
   ]
  },
  {
   "cell_type": "code",
   "execution_count": 53,
   "metadata": {},
   "outputs": [
    {
     "data": {
      "text/html": [
       "<div>\n",
       "<style scoped>\n",
       "    .dataframe tbody tr th:only-of-type {\n",
       "        vertical-align: middle;\n",
       "    }\n",
       "\n",
       "    .dataframe tbody tr th {\n",
       "        vertical-align: top;\n",
       "    }\n",
       "\n",
       "    .dataframe thead th {\n",
       "        text-align: right;\n",
       "    }\n",
       "</style>\n",
       "<table border=\"1\" class=\"dataframe\">\n",
       "  <thead>\n",
       "    <tr style=\"text-align: right;\">\n",
       "      <th></th>\n",
       "      <th>p_id</th>\n",
       "      <th>p_name</th>\n",
       "      <th>p_id_shop</th>\n",
       "      <th>p_shop_name</th>\n",
       "      <th>p_brand</th>\n",
       "      <th>p_categories</th>\n",
       "      <th>p_sold_quantity</th>\n",
       "      <th>p_original_price</th>\n",
       "      <th>p_current_price</th>\n",
       "      <th>p_discount_rate</th>\n",
       "    </tr>\n",
       "  </thead>\n",
       "  <tbody>\n",
       "    <tr>\n",
       "      <th>0</th>\n",
       "      <td>118966833</td>\n",
       "      <td>Móc Treo Cây Lau Nhà Dán Tường Đa Năng  Chịu L...</td>\n",
       "      <td>96639.0</td>\n",
       "      <td>Parroti Store</td>\n",
       "      <td>Parroti</td>\n",
       "      <td>Giá, móc, cây treo</td>\n",
       "      <td>3769</td>\n",
       "      <td>42000</td>\n",
       "      <td>23900</td>\n",
       "      <td>43</td>\n",
       "    </tr>\n",
       "    <tr>\n",
       "      <th>1</th>\n",
       "      <td>83412126</td>\n",
       "      <td>Bình Giữ Nhiệt Lock&amp;Lock Energetic One-Touch T...</td>\n",
       "      <td>1.0</td>\n",
       "      <td>Tiki Trading</td>\n",
       "      <td>Lock&amp;Lock</td>\n",
       "      <td>Bình giữ nhiệt</td>\n",
       "      <td>12430</td>\n",
       "      <td>528000</td>\n",
       "      <td>265000</td>\n",
       "      <td>50</td>\n",
       "    </tr>\n",
       "    <tr>\n",
       "      <th>2</th>\n",
       "      <td>99868980</td>\n",
       "      <td>Bình Giữ Nhiệt Locknlock Bucket Tumbler LHC426...</td>\n",
       "      <td>1.0</td>\n",
       "      <td>Tiki Trading</td>\n",
       "      <td>Lock&amp;Lock</td>\n",
       "      <td>Bình giữ nhiệt</td>\n",
       "      <td>9567</td>\n",
       "      <td>473000</td>\n",
       "      <td>243000</td>\n",
       "      <td>49</td>\n",
       "    </tr>\n",
       "    <tr>\n",
       "      <th>3</th>\n",
       "      <td>73124602</td>\n",
       "      <td>Bình Giữ Nhiệt Bằng Thép Không Gỉ Lock&amp;Lock Va...</td>\n",
       "      <td>1.0</td>\n",
       "      <td>Tiki Trading</td>\n",
       "      <td>Lock&amp;Lock</td>\n",
       "      <td>Nhà Cửa - Đời Sống</td>\n",
       "      <td>34920</td>\n",
       "      <td>677000</td>\n",
       "      <td>339000</td>\n",
       "      <td>50</td>\n",
       "    </tr>\n",
       "    <tr>\n",
       "      <th>4</th>\n",
       "      <td>53583472</td>\n",
       "      <td>Bộ Hộp Cơm Giữ Nhiệt Lock&amp;Lock Easy Carry 2L L...</td>\n",
       "      <td>1.0</td>\n",
       "      <td>Tiki Trading</td>\n",
       "      <td>Lock&amp;Lock</td>\n",
       "      <td>Nhà Cửa - Đời Sống</td>\n",
       "      <td>9501</td>\n",
       "      <td>1667000</td>\n",
       "      <td>834000</td>\n",
       "      <td>50</td>\n",
       "    </tr>\n",
       "  </tbody>\n",
       "</table>\n",
       "</div>"
      ],
      "text/plain": [
       "        p_id                                             p_name  p_id_shop  \\\n",
       "0  118966833  Móc Treo Cây Lau Nhà Dán Tường Đa Năng  Chịu L...    96639.0   \n",
       "1   83412126  Bình Giữ Nhiệt Lock&Lock Energetic One-Touch T...        1.0   \n",
       "2   99868980  Bình Giữ Nhiệt Locknlock Bucket Tumbler LHC426...        1.0   \n",
       "3   73124602  Bình Giữ Nhiệt Bằng Thép Không Gỉ Lock&Lock Va...        1.0   \n",
       "4   53583472  Bộ Hộp Cơm Giữ Nhiệt Lock&Lock Easy Carry 2L L...        1.0   \n",
       "\n",
       "     p_shop_name    p_brand        p_categories  p_sold_quantity  \\\n",
       "0  Parroti Store    Parroti  Giá, móc, cây treo             3769   \n",
       "1   Tiki Trading  Lock&Lock      Bình giữ nhiệt            12430   \n",
       "2   Tiki Trading  Lock&Lock      Bình giữ nhiệt             9567   \n",
       "3   Tiki Trading  Lock&Lock  Nhà Cửa - Đời Sống            34920   \n",
       "4   Tiki Trading  Lock&Lock  Nhà Cửa - Đời Sống             9501   \n",
       "\n",
       "   p_original_price  p_current_price  p_discount_rate  \n",
       "0             42000            23900               43  \n",
       "1            528000           265000               50  \n",
       "2            473000           243000               49  \n",
       "3            677000           339000               50  \n",
       "4           1667000           834000               50  "
      ]
     },
     "execution_count": 53,
     "metadata": {},
     "output_type": "execute_result"
    }
   ],
   "source": [
    "tiki_data = pd.read_csv('../../../data/raw/products_detail.csv')   \n",
    "tiki_data.head()"
   ]
  },
  {
   "attachments": {},
   "cell_type": "markdown",
   "metadata": {},
   "source": [
    "#### Understanding the data "
   ]
  },
  {
   "cell_type": "code",
   "execution_count": 54,
   "metadata": {},
   "outputs": [
    {
     "data": {
      "text/plain": [
       "(1974, 10)"
      ]
     },
     "execution_count": 54,
     "metadata": {},
     "output_type": "execute_result"
    }
   ],
   "source": [
    "tiki_data.shape"
   ]
  },
  {
   "cell_type": "code",
   "execution_count": 55,
   "metadata": {},
   "outputs": [
    {
     "data": {
      "text/html": [
       "<div>\n",
       "<style scoped>\n",
       "    .dataframe tbody tr th:only-of-type {\n",
       "        vertical-align: middle;\n",
       "    }\n",
       "\n",
       "    .dataframe tbody tr th {\n",
       "        vertical-align: top;\n",
       "    }\n",
       "\n",
       "    .dataframe thead th {\n",
       "        text-align: right;\n",
       "    }\n",
       "</style>\n",
       "<table border=\"1\" class=\"dataframe\">\n",
       "  <thead>\n",
       "    <tr style=\"text-align: right;\">\n",
       "      <th></th>\n",
       "      <th>p_id</th>\n",
       "      <th>p_id_shop</th>\n",
       "      <th>p_sold_quantity</th>\n",
       "      <th>p_original_price</th>\n",
       "      <th>p_current_price</th>\n",
       "      <th>p_discount_rate</th>\n",
       "    </tr>\n",
       "  </thead>\n",
       "  <tbody>\n",
       "    <tr>\n",
       "      <th>count</th>\n",
       "      <td>1.974000e+03</td>\n",
       "      <td>1966.000000</td>\n",
       "      <td>1974.000000</td>\n",
       "      <td>1.974000e+03</td>\n",
       "      <td>1.974000e+03</td>\n",
       "      <td>1974.000000</td>\n",
       "    </tr>\n",
       "    <tr>\n",
       "      <th>mean</th>\n",
       "      <td>1.034886e+08</td>\n",
       "      <td>109168.089013</td>\n",
       "      <td>720.616515</td>\n",
       "      <td>2.726703e+05</td>\n",
       "      <td>2.084191e+05</td>\n",
       "      <td>14.721378</td>\n",
       "    </tr>\n",
       "    <tr>\n",
       "      <th>std</th>\n",
       "      <td>6.117190e+07</td>\n",
       "      <td>93967.561518</td>\n",
       "      <td>2068.596611</td>\n",
       "      <td>4.533643e+05</td>\n",
       "      <td>3.246342e+05</td>\n",
       "      <td>18.831565</td>\n",
       "    </tr>\n",
       "    <tr>\n",
       "      <th>min</th>\n",
       "      <td>3.728490e+05</td>\n",
       "      <td>1.000000</td>\n",
       "      <td>0.000000</td>\n",
       "      <td>0.000000e+00</td>\n",
       "      <td>0.000000e+00</td>\n",
       "      <td>0.000000</td>\n",
       "    </tr>\n",
       "    <tr>\n",
       "      <th>25%</th>\n",
       "      <td>5.385458e+07</td>\n",
       "      <td>17480.000000</td>\n",
       "      <td>31.000000</td>\n",
       "      <td>5.800000e+04</td>\n",
       "      <td>5.000000e+04</td>\n",
       "      <td>0.000000</td>\n",
       "    </tr>\n",
       "    <tr>\n",
       "      <th>50%</th>\n",
       "      <td>1.046812e+08</td>\n",
       "      <td>97441.000000</td>\n",
       "      <td>151.000000</td>\n",
       "      <td>1.390000e+05</td>\n",
       "      <td>1.190000e+05</td>\n",
       "      <td>0.000000</td>\n",
       "    </tr>\n",
       "    <tr>\n",
       "      <th>75%</th>\n",
       "      <td>1.603094e+08</td>\n",
       "      <td>180001.500000</td>\n",
       "      <td>589.750000</td>\n",
       "      <td>3.087500e+05</td>\n",
       "      <td>2.477500e+05</td>\n",
       "      <td>32.000000</td>\n",
       "    </tr>\n",
       "    <tr>\n",
       "      <th>max</th>\n",
       "      <td>2.052945e+08</td>\n",
       "      <td>310760.000000</td>\n",
       "      <td>36742.000000</td>\n",
       "      <td>5.800000e+06</td>\n",
       "      <td>4.207000e+06</td>\n",
       "      <td>72.000000</td>\n",
       "    </tr>\n",
       "  </tbody>\n",
       "</table>\n",
       "</div>"
      ],
      "text/plain": [
       "               p_id      p_id_shop  p_sold_quantity  p_original_price  \\\n",
       "count  1.974000e+03    1966.000000      1974.000000      1.974000e+03   \n",
       "mean   1.034886e+08  109168.089013       720.616515      2.726703e+05   \n",
       "std    6.117190e+07   93967.561518      2068.596611      4.533643e+05   \n",
       "min    3.728490e+05       1.000000         0.000000      0.000000e+00   \n",
       "25%    5.385458e+07   17480.000000        31.000000      5.800000e+04   \n",
       "50%    1.046812e+08   97441.000000       151.000000      1.390000e+05   \n",
       "75%    1.603094e+08  180001.500000       589.750000      3.087500e+05   \n",
       "max    2.052945e+08  310760.000000     36742.000000      5.800000e+06   \n",
       "\n",
       "       p_current_price  p_discount_rate  \n",
       "count     1.974000e+03      1974.000000  \n",
       "mean      2.084191e+05        14.721378  \n",
       "std       3.246342e+05        18.831565  \n",
       "min       0.000000e+00         0.000000  \n",
       "25%       5.000000e+04         0.000000  \n",
       "50%       1.190000e+05         0.000000  \n",
       "75%       2.477500e+05        32.000000  \n",
       "max       4.207000e+06        72.000000  "
      ]
     },
     "execution_count": 55,
     "metadata": {},
     "output_type": "execute_result"
    }
   ],
   "source": [
    "tiki_data.describe()"
   ]
  },
  {
   "attachments": {},
   "cell_type": "markdown",
   "metadata": {},
   "source": [
    "## 2. What is the current data type of each column? Are there columns having inappropriate data types?"
   ]
  },
  {
   "cell_type": "code",
   "execution_count": 56,
   "metadata": {},
   "outputs": [
    {
     "data": {
      "text/plain": [
       "p_id                  int64\n",
       "p_name               object\n",
       "p_id_shop           float64\n",
       "p_shop_name          object\n",
       "p_brand              object\n",
       "p_categories         object\n",
       "p_sold_quantity       int64\n",
       "p_original_price      int64\n",
       "p_current_price       int64\n",
       "p_discount_rate       int64\n",
       "dtype: object"
      ]
     },
     "execution_count": 56,
     "metadata": {},
     "output_type": "execute_result"
    }
   ],
   "source": [
    "tiki_data.dtypes"
   ]
  },
  {
   "attachments": {},
   "cell_type": "markdown",
   "metadata": {},
   "source": [
    "There are 4 columns with the datatype of `object`: \"p_name\", \"p_category\", \"p_shop_name\", \"p_branch\". In Pandas, `object` types usually refer to strings. And this is not an exception in this case. "
   ]
  },
  {
   "cell_type": "code",
   "execution_count": 57,
   "metadata": {},
   "outputs": [],
   "source": [
    "def open_object_dtype(s):\n",
    "    dtypes = set(s.apply(type))\n",
    "    return dtypes"
   ]
  },
  {
   "cell_type": "code",
   "execution_count": 58,
   "metadata": {},
   "outputs": [
    {
     "name": "stdout",
     "output_type": "stream",
     "text": [
      "{<class 'str'>}\n",
      "{<class 'str'>, <class 'float'>}\n",
      "{<class 'str'>, <class 'float'>}\n",
      "{<class 'str'>}\n"
     ]
    }
   ],
   "source": [
    "print(open_object_dtype(tiki_data['p_name']))\n",
    "print(open_object_dtype(tiki_data['p_categories']))\n",
    "print(open_object_dtype(tiki_data['p_shop_name']))\n",
    "print(open_object_dtype(tiki_data['p_brand']))"
   ]
  },
  {
   "cell_type": "code",
   "execution_count": 59,
   "metadata": {},
   "outputs": [
    {
     "name": "stdout",
     "output_type": "stream",
     "text": [
      "<class 'pandas.core.frame.DataFrame'>\n",
      "RangeIndex: 1974 entries, 0 to 1973\n",
      "Data columns (total 10 columns):\n",
      " #   Column            Non-Null Count  Dtype  \n",
      "---  ------            --------------  -----  \n",
      " 0   p_id              1974 non-null   int64  \n",
      " 1   p_name            1974 non-null   object \n",
      " 2   p_id_shop         1966 non-null   float64\n",
      " 3   p_shop_name       1966 non-null   object \n",
      " 4   p_brand           1974 non-null   object \n",
      " 5   p_categories      1966 non-null   object \n",
      " 6   p_sold_quantity   1974 non-null   int64  \n",
      " 7   p_original_price  1974 non-null   int64  \n",
      " 8   p_current_price   1974 non-null   int64  \n",
      " 9   p_discount_rate   1974 non-null   int64  \n",
      "dtypes: float64(1), int64(5), object(4)\n",
      "memory usage: 154.3+ KB\n"
     ]
    }
   ],
   "source": [
    "tiki_data.info()"
   ]
  },
  {
   "cell_type": "code",
   "execution_count": 60,
   "metadata": {},
   "outputs": [
    {
     "data": {
      "text/html": [
       "<div>\n",
       "<style scoped>\n",
       "    .dataframe tbody tr th:only-of-type {\n",
       "        vertical-align: middle;\n",
       "    }\n",
       "\n",
       "    .dataframe tbody tr th {\n",
       "        vertical-align: top;\n",
       "    }\n",
       "\n",
       "    .dataframe thead th {\n",
       "        text-align: right;\n",
       "    }\n",
       "</style>\n",
       "<table border=\"1\" class=\"dataframe\">\n",
       "  <thead>\n",
       "    <tr style=\"text-align: right;\">\n",
       "      <th></th>\n",
       "      <th>p_id</th>\n",
       "      <th>p_name</th>\n",
       "      <th>p_category</th>\n",
       "      <th>p_id_shop</th>\n",
       "      <th>p_shop_name</th>\n",
       "      <th>p_brand</th>\n",
       "      <th>p_sold_quantity</th>\n",
       "      <th>p_original_price</th>\n",
       "      <th>p_current_price</th>\n",
       "      <th>p_discount_rate</th>\n",
       "    </tr>\n",
       "  </thead>\n",
       "  <tbody>\n",
       "    <tr>\n",
       "      <th>0</th>\n",
       "      <td>118966833</td>\n",
       "      <td>Móc Treo Cây Lau Nhà Dán Tường Đa Năng  Chịu L...</td>\n",
       "      <td>Giá</td>\n",
       "      <td>96639.0</td>\n",
       "      <td>Parroti Store</td>\n",
       "      <td>Parroti</td>\n",
       "      <td>3769</td>\n",
       "      <td>42000</td>\n",
       "      <td>23900</td>\n",
       "      <td>43</td>\n",
       "    </tr>\n",
       "    <tr>\n",
       "      <th>1</th>\n",
       "      <td>83412126</td>\n",
       "      <td>Bình Giữ Nhiệt Lock&amp;Lock Energetic One-Touch T...</td>\n",
       "      <td>Bình giữ nhiệt</td>\n",
       "      <td>1.0</td>\n",
       "      <td>Tiki Trading</td>\n",
       "      <td>Lock&amp;Lock</td>\n",
       "      <td>12430</td>\n",
       "      <td>528000</td>\n",
       "      <td>265000</td>\n",
       "      <td>50</td>\n",
       "    </tr>\n",
       "    <tr>\n",
       "      <th>2</th>\n",
       "      <td>99868980</td>\n",
       "      <td>Bình Giữ Nhiệt Locknlock Bucket Tumbler LHC426...</td>\n",
       "      <td>Bình giữ nhiệt</td>\n",
       "      <td>1.0</td>\n",
       "      <td>Tiki Trading</td>\n",
       "      <td>Lock&amp;Lock</td>\n",
       "      <td>9567</td>\n",
       "      <td>473000</td>\n",
       "      <td>243000</td>\n",
       "      <td>49</td>\n",
       "    </tr>\n",
       "    <tr>\n",
       "      <th>3</th>\n",
       "      <td>73124602</td>\n",
       "      <td>Bình Giữ Nhiệt Bằng Thép Không Gỉ Lock&amp;Lock Va...</td>\n",
       "      <td>Nhà Cửa - Đời Sống</td>\n",
       "      <td>1.0</td>\n",
       "      <td>Tiki Trading</td>\n",
       "      <td>Lock&amp;Lock</td>\n",
       "      <td>34920</td>\n",
       "      <td>677000</td>\n",
       "      <td>339000</td>\n",
       "      <td>50</td>\n",
       "    </tr>\n",
       "    <tr>\n",
       "      <th>4</th>\n",
       "      <td>53583472</td>\n",
       "      <td>Bộ Hộp Cơm Giữ Nhiệt Lock&amp;Lock Easy Carry 2L L...</td>\n",
       "      <td>Nhà Cửa - Đời Sống</td>\n",
       "      <td>1.0</td>\n",
       "      <td>Tiki Trading</td>\n",
       "      <td>Lock&amp;Lock</td>\n",
       "      <td>9501</td>\n",
       "      <td>1667000</td>\n",
       "      <td>834000</td>\n",
       "      <td>50</td>\n",
       "    </tr>\n",
       "  </tbody>\n",
       "</table>\n",
       "</div>"
      ],
      "text/plain": [
       "        p_id                                             p_name  \\\n",
       "0  118966833  Móc Treo Cây Lau Nhà Dán Tường Đa Năng  Chịu L...   \n",
       "1   83412126  Bình Giữ Nhiệt Lock&Lock Energetic One-Touch T...   \n",
       "2   99868980  Bình Giữ Nhiệt Locknlock Bucket Tumbler LHC426...   \n",
       "3   73124602  Bình Giữ Nhiệt Bằng Thép Không Gỉ Lock&Lock Va...   \n",
       "4   53583472  Bộ Hộp Cơm Giữ Nhiệt Lock&Lock Easy Carry 2L L...   \n",
       "\n",
       "           p_category  p_id_shop    p_shop_name    p_brand  p_sold_quantity  \\\n",
       "0                 Giá    96639.0  Parroti Store    Parroti             3769   \n",
       "1      Bình giữ nhiệt        1.0   Tiki Trading  Lock&Lock            12430   \n",
       "2      Bình giữ nhiệt        1.0   Tiki Trading  Lock&Lock             9567   \n",
       "3  Nhà Cửa - Đời Sống        1.0   Tiki Trading  Lock&Lock            34920   \n",
       "4  Nhà Cửa - Đời Sống        1.0   Tiki Trading  Lock&Lock             9501   \n",
       "\n",
       "   p_original_price  p_current_price  p_discount_rate  \n",
       "0             42000            23900               43  \n",
       "1            528000           265000               50  \n",
       "2            473000           243000               49  \n",
       "3            677000           339000               50  \n",
       "4           1667000           834000               50  "
      ]
     },
     "execution_count": 60,
     "metadata": {},
     "output_type": "execute_result"
    }
   ],
   "source": [
    "# split category from p_categories column \n",
    "category = tiki_data['p_categories'].str.split(',', expand=True)\n",
    "tiki_data.insert(2, 'p_category', category[0])\n",
    "tiki_data.drop(['p_categories'], axis=1, inplace=True)\n",
    "tiki_data.head()"
   ]
  },
  {
   "attachments": {},
   "cell_type": "markdown",
   "metadata": {},
   "source": [
    "## 3. With each column, how are values distributed?\n",
    "-  We will do the following steps: \n",
    "1. Fixing invalid values\n",
    "2. Checking duplicates and removing them \n",
    "3. Checking missing values and removing them"
   ]
  },
  {
   "attachments": {},
   "cell_type": "markdown",
   "metadata": {},
   "source": [
    "#### 1. Fixing invalid values"
   ]
  },
  {
   "cell_type": "code",
   "execution_count": 61,
   "metadata": {},
   "outputs": [
    {
     "data": {
      "text/plain": [
       "array(['Móc Treo Cây Lau Nhà Dán Tường Đa Năng  Chịu Lực Tốt - Parroti Keeper KP02',\n",
       "       'Bình Giữ Nhiệt Lock&Lock Energetic One-Touch Tumbler LHC3249 - 550ML',\n",
       "       'Bình Giữ Nhiệt Locknlock Bucket Tumbler LHC4269 540ml', ...,\n",
       "       'Combo 5 cuộn túi đựng rác tự phân hủy nhiều màu',\n",
       "       'COMBO 03 LÕI THAY THẾ CÂY LĂN BỤI COLOCOLO (CÁN NGẮN VÀ CÁN DÀI)',\n",
       "       'Đồng hồ nước - Đồng hồ nước sinh hoạt'], dtype=object)"
      ]
     },
     "execution_count": 61,
     "metadata": {},
     "output_type": "execute_result"
    }
   ],
   "source": [
    "tiki_data['p_name'].unique()"
   ]
  },
  {
   "cell_type": "code",
   "execution_count": null,
   "metadata": {},
   "outputs": [],
   "source": [
    "tiki_data['p_shop_name'].value_counts().plot(kind='line', figsize=(20, 10)) "
   ]
  },
  {
   "cell_type": "code",
   "execution_count": null,
   "metadata": {},
   "outputs": [],
   "source": [
    "tiki_data['p_category'].unique()"
   ]
  },
  {
   "attachments": {},
   "cell_type": "markdown",
   "metadata": {},
   "source": [
    "#### As we can see, there are categories named \"Root\" and \"Giá\" not mean as a category. "
   ]
  },
  {
   "cell_type": "code",
   "execution_count": 64,
   "metadata": {},
   "outputs": [
    {
     "name": "stdout",
     "output_type": "stream",
     "text": [
      "166\n",
      "38\n"
     ]
    }
   ],
   "source": [
    "# count number of category have name 'Root'\n",
    "print(tiki_data['p_category'].value_counts()['Root'])\n",
    "\n",
    "# count number of category have name 'Giá'\n",
    "print(tiki_data['p_category'].value_counts()['Giá'])"
   ]
  },
  {
   "attachments": {},
   "cell_type": "markdown",
   "metadata": {},
   "source": [
    "#### The number of categories named \"Root\" and \"Giá\" is quite small (166+38/2000), So to avoid data confusion, we will delete it."
   ]
  },
  {
   "cell_type": "code",
   "execution_count": 67,
   "metadata": {},
   "outputs": [],
   "source": [
    "# drop row have category name 'Root' or \"Giá\"\n",
    "tiki_data = tiki_data[tiki_data['p_category'] != 'Root']\n",
    "tiki_data = tiki_data[tiki_data['p_category'] != 'Giá']"
   ]
  },
  {
   "cell_type": "code",
   "execution_count": 68,
   "metadata": {},
   "outputs": [
    {
     "data": {
      "text/plain": [
       "(1770, 10)"
      ]
     },
     "execution_count": 68,
     "metadata": {},
     "output_type": "execute_result"
    }
   ],
   "source": [
    "tiki_data.shape"
   ]
  },
  {
   "attachments": {},
   "cell_type": "markdown",
   "metadata": {},
   "source": [
    "#### As we know, in terms of product price (p_original_price) there is almost no price of 0. So we will check our data has such values."
   ]
  },
  {
   "cell_type": "code",
   "execution_count": null,
   "metadata": {},
   "outputs": [],
   "source": [
    "count = 0\n",
    "\n",
    "for x in tiki_data.index:\n",
    "  if tiki_data.loc[x, \"p_original_price\"] == 0:\n",
    "    count += 1\n",
    "    print(tiki_data.loc[x, :])\n",
    "\n",
    "count"
   ]
  },
  {
   "attachments": {},
   "cell_type": "markdown",
   "metadata": {},
   "source": [
    "#### As we can see above, the products have a price(p_original_price) of 0. So we will delete these rows."
   ]
  },
  {
   "cell_type": "code",
   "execution_count": 70,
   "metadata": {},
   "outputs": [],
   "source": [
    "# drop row have p_original_price = 0\n",
    "tiki_data = tiki_data[tiki_data['p_original_price'] != 0]"
   ]
  },
  {
   "cell_type": "code",
   "execution_count": 71,
   "metadata": {},
   "outputs": [
    {
     "data": {
      "text/plain": [
       "0"
      ]
     },
     "execution_count": 71,
     "metadata": {},
     "output_type": "execute_result"
    }
   ],
   "source": [
    "count = 0\n",
    "\n",
    "for x in tiki_data.index:\n",
    "  if tiki_data.loc[x, \"p_original_price\"] == 0:\n",
    "    count += 1\n",
    "    print(tiki_data.loc[x, :])\n",
    "\n",
    "count"
   ]
  },
  {
   "attachments": {},
   "cell_type": "markdown",
   "metadata": {},
   "source": [
    "### 2. Checking duplicates and removing them"
   ]
  },
  {
   "cell_type": "code",
   "execution_count": 72,
   "metadata": {},
   "outputs": [
    {
     "data": {
      "text/plain": [
       "<AxesSubplot:>"
      ]
     },
     "execution_count": 72,
     "metadata": {},
     "output_type": "execute_result"
    },
    {
     "data": {
      "image/png": "[encoded data removed]",
      "text/plain": [
       "<Figure size 2000x1000 with 1 Axes>"
      ]
     },
     "metadata": {},
     "output_type": "display_data"
    }
   ],
   "source": [
    "tiki_data['p_name'].value_counts().plot(kind='line', figsize=(20, 10))"
   ]
  },
  {
   "attachments": {},
   "cell_type": "markdown",
   "metadata": {},
   "source": [
    "#### We see that the number of identical elements of the name column is only 1!!! so keeping it as it is won't mess up the data"
   ]
  },
  {
   "attachments": {},
   "cell_type": "markdown",
   "metadata": {},
   "source": [
    "### 3. Checking missing values and removing them"
   ]
  },
  {
   "cell_type": "code",
   "execution_count": 16,
   "metadata": {},
   "outputs": [
    {
     "data": {
      "text/plain": [
       "p_id                0\n",
       "p_name              0\n",
       "p_category          0\n",
       "p_id_shop           0\n",
       "p_shop_name         0\n",
       "p_brand             0\n",
       "p_sold_quantity     0\n",
       "p_original_price    0\n",
       "p_current_price     0\n",
       "p_discount_rate     0\n",
       "dtype: int64"
      ]
     },
     "execution_count": 16,
     "metadata": {},
     "output_type": "execute_result"
    }
   ],
   "source": [
    "tiki_data.isnull().sum()"
   ]
  },
  {
   "attachments": {},
   "cell_type": "markdown",
   "metadata": {},
   "source": [
    "#### When displaying the above table, because the number of missing values is very small, and the numbers are the same (both are 8). Predict it on the same 8 rows. We will try to delete the missing values of p_id_shop to see if there are still missing values?"
   ]
  },
  {
   "cell_type": "code",
   "execution_count": 17,
   "metadata": {},
   "outputs": [
    {
     "data": {
      "text/plain": [
       "p_id                0\n",
       "p_name              0\n",
       "p_category          0\n",
       "p_id_shop           0\n",
       "p_shop_name         0\n",
       "p_brand             0\n",
       "p_sold_quantity     0\n",
       "p_original_price    0\n",
       "p_current_price     0\n",
       "p_discount_rate     0\n",
       "dtype: int64"
      ]
     },
     "execution_count": 17,
     "metadata": {},
     "output_type": "execute_result"
    }
   ],
   "source": [
    "tiki_data.dropna(subset=['p_id_shop'], inplace=True)\n",
    "tiki_data.isnull().sum()\n"
   ]
  },
  {
   "attachments": {},
   "cell_type": "markdown",
   "metadata": {},
   "source": [
    "#### As expected, deleting rows where p_id_shop is null also deletes rows where p_shop_name and p_category are null. So the above prediction is correct."
   ]
  },
  {
   "cell_type": "code",
   "execution_count": 73,
   "metadata": {},
   "outputs": [],
   "source": [
    "# save data to csv file\n",
    "tiki_data.to_csv('../../../data/processed/tiki_data.csv', index=False)"
   ]
  }
 ],
 "metadata": {
  "kernelspec": {
   "display_name": "min_ds-env",
   "language": "python",
   "name": "python3"
  },
  "language_info": {
   "codemirror_mode": {
    "name": "ipython",
    "version": 3
   },
   "file_extension": ".py",
   "mimetype": "text/x-python",
   "name": "python",
   "nbconvert_exporter": "python",
   "pygments_lexer": "ipython3",
   "version": "3.8.8"
  },
  "orig_nbformat": 4,
  "vscode": {
   "interpreter": {
    "hash": "a5e1ec076bd572246a92e5395011ccb4d0c3c0a63992a65b30abbf30f49ecb0c"
   }
  }
 },
 "nbformat": 4,
 "nbformat_minor": 2
}
