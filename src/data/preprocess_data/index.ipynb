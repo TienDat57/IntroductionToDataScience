{
 "cells": [
  {
   "attachments": {},
   "cell_type": "markdown",
   "metadata": {},
   "source": [
    "# Step 2: Data Cleaning and Preparation"
   ]
  },
  {
   "attachments": {},
   "cell_type": "markdown",
   "metadata": {},
   "source": [
    "## 1. What is the meaning of each column?"
   ]
  },
  {
   "attachments": {},
   "cell_type": "markdown",
   "metadata": {},
   "source": [
    "1) p_id: product id\n",
    "2) p_name: product name\n",
    "3) p_id_shop: shop id that sells the product\n",
    "4) p_shop_name: shop name that sells the product\n",
    "5) p_brand : brand of the product\n",
    "6) p_category: category of the product\n",
    "7) p_day_created: day the product was created\n",
    "8) p_sold_quantity: number of products sold\n",
    "9) p_original_price: original price of the product\n",
    "10) p_current_price: current price of the product\n",
    "11) p_discount_rate : discount rate of the product"
   ]
  },
  {
   "attachments": {},
   "cell_type": "markdown",
   "metadata": {},
   "source": [
    "#### Importing libraries needed for this step\n"
   ]
  },
  {
   "cell_type": "code",
   "execution_count": 1,
   "metadata": {},
   "outputs": [],
   "source": [
    "import numpy as np\n",
    "import pandas as pd"
   ]
  },
  {
   "attachments": {},
   "cell_type": "markdown",
   "metadata": {},
   "source": [
    "#### Reading the data "
   ]
  },
  {
   "cell_type": "code",
   "execution_count": 2,
   "metadata": {},
   "outputs": [
    {
     "data": {
      "text/html": [
       "<div>\n",
       "<style scoped>\n",
       "    .dataframe tbody tr th:only-of-type {\n",
       "        vertical-align: middle;\n",
       "    }\n",
       "\n",
       "    .dataframe tbody tr th {\n",
       "        vertical-align: top;\n",
       "    }\n",
       "\n",
       "    .dataframe thead th {\n",
       "        text-align: right;\n",
       "    }\n",
       "</style>\n",
       "<table border=\"1\" class=\"dataframe\">\n",
       "  <thead>\n",
       "    <tr style=\"text-align: right;\">\n",
       "      <th></th>\n",
       "      <th>p_id</th>\n",
       "      <th>p_name</th>\n",
       "      <th>p_id_shop</th>\n",
       "      <th>p_shop_name</th>\n",
       "      <th>p_brand</th>\n",
       "      <th>p_categories</th>\n",
       "      <th>p_day_created</th>\n",
       "      <th>p_sold_quantity</th>\n",
       "      <th>p_original_price</th>\n",
       "      <th>p_current_price</th>\n",
       "      <th>p_discount_rate</th>\n",
       "    </tr>\n",
       "  </thead>\n",
       "  <tbody>\n",
       "    <tr>\n",
       "      <th>0</th>\n",
       "      <td>83412126</td>\n",
       "      <td>Bình Giữ Nhiệt Lock&amp;Lock Energetic One-Touch T...</td>\n",
       "      <td>38510.0</td>\n",
       "      <td>JoyMall LocknLock Chính Hãng</td>\n",
       "      <td>LocknLock</td>\n",
       "      <td>Bình giữ nhiệt</td>\n",
       "      <td>659.0</td>\n",
       "      <td>702</td>\n",
       "      <td>528000</td>\n",
       "      <td>269000</td>\n",
       "      <td>49</td>\n",
       "    </tr>\n",
       "    <tr>\n",
       "      <th>1</th>\n",
       "      <td>53789448</td>\n",
       "      <td>Bộ cây lau nhà tự vắt thông minh, chổi lau nhà...</td>\n",
       "      <td>96639.0</td>\n",
       "      <td>Parroti Store</td>\n",
       "      <td>Parroti</td>\n",
       "      <td>Nhà Cửa - Đời Sống</td>\n",
       "      <td>974.0</td>\n",
       "      <td>12844</td>\n",
       "      <td>799000</td>\n",
       "      <td>429000</td>\n",
       "      <td>46</td>\n",
       "    </tr>\n",
       "    <tr>\n",
       "      <th>2</th>\n",
       "      <td>212830295</td>\n",
       "      <td>( hàng sẵn )squyshi to bự</td>\n",
       "      <td>318926.0</td>\n",
       "      <td>Squishy</td>\n",
       "      <td>OEM</td>\n",
       "      <td>Root</td>\n",
       "      <td>8.0</td>\n",
       "      <td>0</td>\n",
       "      <td>59000</td>\n",
       "      <td>59000</td>\n",
       "      <td>0</td>\n",
       "    </tr>\n",
       "    <tr>\n",
       "      <th>3</th>\n",
       "      <td>13334313</td>\n",
       "      <td>Bộ 6 chén (bát) cơm sứ phong cách Nhật Bản hoa...</td>\n",
       "      <td>3340.0</td>\n",
       "      <td>Công ty TNHH TM Minh Gia Lợi</td>\n",
       "      <td>OEM</td>\n",
       "      <td>Nhà Cửa - Đời Sống</td>\n",
       "      <td>1372.0</td>\n",
       "      <td>938</td>\n",
       "      <td>209000</td>\n",
       "      <td>209000</td>\n",
       "      <td>0</td>\n",
       "    </tr>\n",
       "    <tr>\n",
       "      <th>4</th>\n",
       "      <td>99868980</td>\n",
       "      <td>Bình Giữ Nhiệt Locknlock Bucket Tumbler LHC426...</td>\n",
       "      <td>1.0</td>\n",
       "      <td>Tiki Trading</td>\n",
       "      <td>LocknLock</td>\n",
       "      <td>Bình giữ nhiệt</td>\n",
       "      <td>593.0</td>\n",
       "      <td>10359</td>\n",
       "      <td>473000</td>\n",
       "      <td>235000</td>\n",
       "      <td>50</td>\n",
       "    </tr>\n",
       "  </tbody>\n",
       "</table>\n",
       "</div>"
      ],
      "text/plain": [
       "        p_id                                             p_name  p_id_shop  \\\n",
       "0   83412126  Bình Giữ Nhiệt Lock&Lock Energetic One-Touch T...    38510.0   \n",
       "1   53789448  Bộ cây lau nhà tự vắt thông minh, chổi lau nhà...    96639.0   \n",
       "2  212830295                          ( hàng sẵn )squyshi to bự   318926.0   \n",
       "3   13334313  Bộ 6 chén (bát) cơm sứ phong cách Nhật Bản hoa...     3340.0   \n",
       "4   99868980  Bình Giữ Nhiệt Locknlock Bucket Tumbler LHC426...        1.0   \n",
       "\n",
       "                    p_shop_name    p_brand        p_categories  p_day_created  \\\n",
       "0  JoyMall LocknLock Chính Hãng  LocknLock      Bình giữ nhiệt          659.0   \n",
       "1                 Parroti Store    Parroti  Nhà Cửa - Đời Sống          974.0   \n",
       "2                       Squishy        OEM                Root            8.0   \n",
       "3  Công ty TNHH TM Minh Gia Lợi        OEM  Nhà Cửa - Đời Sống         1372.0   \n",
       "4                  Tiki Trading  LocknLock      Bình giữ nhiệt          593.0   \n",
       "\n",
       "   p_sold_quantity  p_original_price  p_current_price  p_discount_rate  \n",
       "0              702            528000           269000               49  \n",
       "1            12844            799000           429000               46  \n",
       "2                0             59000            59000                0  \n",
       "3              938            209000           209000                0  \n",
       "4            10359            473000           235000               50  "
      ]
     },
     "execution_count": 2,
     "metadata": {},
     "output_type": "execute_result"
    }
   ],
   "source": [
    "tiki_data = pd.read_csv('../../../data/raw/products_detail.csv')   \n",
    "tiki_data.head()"
   ]
  },
  {
   "attachments": {},
   "cell_type": "markdown",
   "metadata": {},
   "source": [
    "#### Understanding the data "
   ]
  },
  {
   "cell_type": "code",
   "execution_count": 3,
   "metadata": {},
   "outputs": [
    {
     "data": {
      "text/plain": [
       "(1976, 11)"
      ]
     },
     "execution_count": 3,
     "metadata": {},
     "output_type": "execute_result"
    }
   ],
   "source": [
    "tiki_data.shape"
   ]
  },
  {
   "cell_type": "code",
   "execution_count": 4,
   "metadata": {},
   "outputs": [
    {
     "data": {
      "text/html": [
       "<div>\n",
       "<style scoped>\n",
       "    .dataframe tbody tr th:only-of-type {\n",
       "        vertical-align: middle;\n",
       "    }\n",
       "\n",
       "    .dataframe tbody tr th {\n",
       "        vertical-align: top;\n",
       "    }\n",
       "\n",
       "    .dataframe thead th {\n",
       "        text-align: right;\n",
       "    }\n",
       "</style>\n",
       "<table border=\"1\" class=\"dataframe\">\n",
       "  <thead>\n",
       "    <tr style=\"text-align: right;\">\n",
       "      <th></th>\n",
       "      <th>p_id</th>\n",
       "      <th>p_id_shop</th>\n",
       "      <th>p_day_created</th>\n",
       "      <th>p_sold_quantity</th>\n",
       "      <th>p_original_price</th>\n",
       "      <th>p_current_price</th>\n",
       "      <th>p_discount_rate</th>\n",
       "    </tr>\n",
       "  </thead>\n",
       "  <tbody>\n",
       "    <tr>\n",
       "      <th>count</th>\n",
       "      <td>1.976000e+03</td>\n",
       "      <td>1972.000000</td>\n",
       "      <td>1968.000000</td>\n",
       "      <td>1976.000000</td>\n",
       "      <td>1.976000e+03</td>\n",
       "      <td>1.976000e+03</td>\n",
       "      <td>1976.000000</td>\n",
       "    </tr>\n",
       "    <tr>\n",
       "      <th>mean</th>\n",
       "      <td>1.137176e+08</td>\n",
       "      <td>118776.864604</td>\n",
       "      <td>994.444614</td>\n",
       "      <td>611.413968</td>\n",
       "      <td>4.448611e+05</td>\n",
       "      <td>3.576897e+05</td>\n",
       "      <td>16.437247</td>\n",
       "    </tr>\n",
       "    <tr>\n",
       "      <th>std</th>\n",
       "      <td>6.390670e+07</td>\n",
       "      <td>95339.355321</td>\n",
       "      <td>16623.927494</td>\n",
       "      <td>1577.594227</td>\n",
       "      <td>2.708963e+06</td>\n",
       "      <td>2.466523e+06</td>\n",
       "      <td>19.897360</td>\n",
       "    </tr>\n",
       "    <tr>\n",
       "      <th>min</th>\n",
       "      <td>3.729300e+05</td>\n",
       "      <td>1.000000</td>\n",
       "      <td>4.000000</td>\n",
       "      <td>0.000000</td>\n",
       "      <td>0.000000e+00</td>\n",
       "      <td>0.000000e+00</td>\n",
       "      <td>0.000000</td>\n",
       "    </tr>\n",
       "    <tr>\n",
       "      <th>25%</th>\n",
       "      <td>5.796516e+07</td>\n",
       "      <td>25156.000000</td>\n",
       "      <td>259.000000</td>\n",
       "      <td>33.000000</td>\n",
       "      <td>4.987500e+04</td>\n",
       "      <td>4.375000e+04</td>\n",
       "      <td>0.000000</td>\n",
       "    </tr>\n",
       "    <tr>\n",
       "      <th>50%</th>\n",
       "      <td>1.157376e+08</td>\n",
       "      <td>109746.000000</td>\n",
       "      <td>521.000000</td>\n",
       "      <td>154.000000</td>\n",
       "      <td>1.250000e+05</td>\n",
       "      <td>1.080000e+05</td>\n",
       "      <td>4.000000</td>\n",
       "    </tr>\n",
       "    <tr>\n",
       "      <th>75%</th>\n",
       "      <td>1.749457e+08</td>\n",
       "      <td>189957.750000</td>\n",
       "      <td>904.000000</td>\n",
       "      <td>549.500000</td>\n",
       "      <td>2.890000e+05</td>\n",
       "      <td>2.100000e+05</td>\n",
       "      <td>35.000000</td>\n",
       "    </tr>\n",
       "    <tr>\n",
       "      <th>max</th>\n",
       "      <td>2.139635e+08</td>\n",
       "      <td>320802.000000</td>\n",
       "      <td>737825.000000</td>\n",
       "      <td>23009.000000</td>\n",
       "      <td>6.890000e+07</td>\n",
       "      <td>6.890000e+07</td>\n",
       "      <td>95.000000</td>\n",
       "    </tr>\n",
       "  </tbody>\n",
       "</table>\n",
       "</div>"
      ],
      "text/plain": [
       "               p_id      p_id_shop  p_day_created  p_sold_quantity  \\\n",
       "count  1.976000e+03    1972.000000    1968.000000      1976.000000   \n",
       "mean   1.137176e+08  118776.864604     994.444614       611.413968   \n",
       "std    6.390670e+07   95339.355321   16623.927494      1577.594227   \n",
       "min    3.729300e+05       1.000000       4.000000         0.000000   \n",
       "25%    5.796516e+07   25156.000000     259.000000        33.000000   \n",
       "50%    1.157376e+08  109746.000000     521.000000       154.000000   \n",
       "75%    1.749457e+08  189957.750000     904.000000       549.500000   \n",
       "max    2.139635e+08  320802.000000  737825.000000     23009.000000   \n",
       "\n",
       "       p_original_price  p_current_price  p_discount_rate  \n",
       "count      1.976000e+03     1.976000e+03      1976.000000  \n",
       "mean       4.448611e+05     3.576897e+05        16.437247  \n",
       "std        2.708963e+06     2.466523e+06        19.897360  \n",
       "min        0.000000e+00     0.000000e+00         0.000000  \n",
       "25%        4.987500e+04     4.375000e+04         0.000000  \n",
       "50%        1.250000e+05     1.080000e+05         4.000000  \n",
       "75%        2.890000e+05     2.100000e+05        35.000000  \n",
       "max        6.890000e+07     6.890000e+07        95.000000  "
      ]
     },
     "execution_count": 4,
     "metadata": {},
     "output_type": "execute_result"
    }
   ],
   "source": [
    "tiki_data.describe()"
   ]
  },
  {
   "attachments": {},
   "cell_type": "markdown",
   "metadata": {},
   "source": [
    "## 2. What is the current data type of each column? Are there columns having inappropriate data types?"
   ]
  },
  {
   "cell_type": "code",
   "execution_count": 5,
   "metadata": {},
   "outputs": [
    {
     "data": {
      "text/plain": [
       "p_id                  int64\n",
       "p_name               object\n",
       "p_id_shop           float64\n",
       "p_shop_name          object\n",
       "p_brand              object\n",
       "p_categories         object\n",
       "p_day_created       float64\n",
       "p_sold_quantity       int64\n",
       "p_original_price      int64\n",
       "p_current_price       int64\n",
       "p_discount_rate       int64\n",
       "dtype: object"
      ]
     },
     "execution_count": 5,
     "metadata": {},
     "output_type": "execute_result"
    }
   ],
   "source": [
    "tiki_data.dtypes"
   ]
  },
  {
   "attachments": {},
   "cell_type": "markdown",
   "metadata": {},
   "source": [
    "There are 4 columns with the datatype of `object`: \"p_name\", \"p_category\", \"p_shop_name\", \"p_branch\". In Pandas, `object` types usually refer to strings. And this is not an exception in this case. "
   ]
  },
  {
   "cell_type": "code",
   "execution_count": 6,
   "metadata": {},
   "outputs": [],
   "source": [
    "def open_object_dtype(s):\n",
    "    dtypes = set(s.apply(type))\n",
    "    return dtypes"
   ]
  },
  {
   "cell_type": "code",
   "execution_count": 7,
   "metadata": {},
   "outputs": [
    {
     "name": "stdout",
     "output_type": "stream",
     "text": [
      "{<class 'str'>}\n",
      "{<class 'float'>, <class 'str'>}\n",
      "{<class 'float'>, <class 'str'>}\n",
      "{<class 'float'>, <class 'str'>}\n"
     ]
    }
   ],
   "source": [
    "print(open_object_dtype(tiki_data['p_name']))\n",
    "print(open_object_dtype(tiki_data['p_categories']))\n",
    "print(open_object_dtype(tiki_data['p_shop_name']))\n",
    "print(open_object_dtype(tiki_data['p_brand']))"
   ]
  },
  {
   "cell_type": "code",
   "execution_count": 8,
   "metadata": {},
   "outputs": [
    {
     "name": "stdout",
     "output_type": "stream",
     "text": [
      "<class 'pandas.core.frame.DataFrame'>\n",
      "RangeIndex: 1976 entries, 0 to 1975\n",
      "Data columns (total 11 columns):\n",
      " #   Column            Non-Null Count  Dtype  \n",
      "---  ------            --------------  -----  \n",
      " 0   p_id              1976 non-null   int64  \n",
      " 1   p_name            1976 non-null   object \n",
      " 2   p_id_shop         1972 non-null   float64\n",
      " 3   p_shop_name       1972 non-null   object \n",
      " 4   p_brand           1975 non-null   object \n",
      " 5   p_categories      1972 non-null   object \n",
      " 6   p_day_created     1968 non-null   float64\n",
      " 7   p_sold_quantity   1976 non-null   int64  \n",
      " 8   p_original_price  1976 non-null   int64  \n",
      " 9   p_current_price   1976 non-null   int64  \n",
      " 10  p_discount_rate   1976 non-null   int64  \n",
      "dtypes: float64(2), int64(5), object(4)\n",
      "memory usage: 169.9+ KB\n"
     ]
    }
   ],
   "source": [
    "tiki_data.info()"
   ]
  },
  {
   "cell_type": "code",
   "execution_count": 9,
   "metadata": {},
   "outputs": [
    {
     "data": {
      "text/html": [
       "<div>\n",
       "<style scoped>\n",
       "    .dataframe tbody tr th:only-of-type {\n",
       "        vertical-align: middle;\n",
       "    }\n",
       "\n",
       "    .dataframe tbody tr th {\n",
       "        vertical-align: top;\n",
       "    }\n",
       "\n",
       "    .dataframe thead th {\n",
       "        text-align: right;\n",
       "    }\n",
       "</style>\n",
       "<table border=\"1\" class=\"dataframe\">\n",
       "  <thead>\n",
       "    <tr style=\"text-align: right;\">\n",
       "      <th></th>\n",
       "      <th>p_id</th>\n",
       "      <th>p_name</th>\n",
       "      <th>p_category</th>\n",
       "      <th>p_id_shop</th>\n",
       "      <th>p_shop_name</th>\n",
       "      <th>p_brand</th>\n",
       "      <th>p_day_created</th>\n",
       "      <th>p_sold_quantity</th>\n",
       "      <th>p_original_price</th>\n",
       "      <th>p_current_price</th>\n",
       "      <th>p_discount_rate</th>\n",
       "    </tr>\n",
       "  </thead>\n",
       "  <tbody>\n",
       "    <tr>\n",
       "      <th>0</th>\n",
       "      <td>83412126</td>\n",
       "      <td>Bình Giữ Nhiệt Lock&amp;Lock Energetic One-Touch T...</td>\n",
       "      <td>Bình giữ nhiệt</td>\n",
       "      <td>38510.0</td>\n",
       "      <td>JoyMall LocknLock Chính Hãng</td>\n",
       "      <td>LocknLock</td>\n",
       "      <td>659.0</td>\n",
       "      <td>702</td>\n",
       "      <td>528000</td>\n",
       "      <td>269000</td>\n",
       "      <td>49</td>\n",
       "    </tr>\n",
       "    <tr>\n",
       "      <th>1</th>\n",
       "      <td>53789448</td>\n",
       "      <td>Bộ cây lau nhà tự vắt thông minh, chổi lau nhà...</td>\n",
       "      <td>Nhà Cửa - Đời Sống</td>\n",
       "      <td>96639.0</td>\n",
       "      <td>Parroti Store</td>\n",
       "      <td>Parroti</td>\n",
       "      <td>974.0</td>\n",
       "      <td>12844</td>\n",
       "      <td>799000</td>\n",
       "      <td>429000</td>\n",
       "      <td>46</td>\n",
       "    </tr>\n",
       "    <tr>\n",
       "      <th>2</th>\n",
       "      <td>212830295</td>\n",
       "      <td>( hàng sẵn )squyshi to bự</td>\n",
       "      <td>Root</td>\n",
       "      <td>318926.0</td>\n",
       "      <td>Squishy</td>\n",
       "      <td>OEM</td>\n",
       "      <td>8.0</td>\n",
       "      <td>0</td>\n",
       "      <td>59000</td>\n",
       "      <td>59000</td>\n",
       "      <td>0</td>\n",
       "    </tr>\n",
       "    <tr>\n",
       "      <th>3</th>\n",
       "      <td>13334313</td>\n",
       "      <td>Bộ 6 chén (bát) cơm sứ phong cách Nhật Bản hoa...</td>\n",
       "      <td>Nhà Cửa - Đời Sống</td>\n",
       "      <td>3340.0</td>\n",
       "      <td>Công ty TNHH TM Minh Gia Lợi</td>\n",
       "      <td>OEM</td>\n",
       "      <td>1372.0</td>\n",
       "      <td>938</td>\n",
       "      <td>209000</td>\n",
       "      <td>209000</td>\n",
       "      <td>0</td>\n",
       "    </tr>\n",
       "    <tr>\n",
       "      <th>4</th>\n",
       "      <td>99868980</td>\n",
       "      <td>Bình Giữ Nhiệt Locknlock Bucket Tumbler LHC426...</td>\n",
       "      <td>Bình giữ nhiệt</td>\n",
       "      <td>1.0</td>\n",
       "      <td>Tiki Trading</td>\n",
       "      <td>LocknLock</td>\n",
       "      <td>593.0</td>\n",
       "      <td>10359</td>\n",
       "      <td>473000</td>\n",
       "      <td>235000</td>\n",
       "      <td>50</td>\n",
       "    </tr>\n",
       "  </tbody>\n",
       "</table>\n",
       "</div>"
      ],
      "text/plain": [
       "        p_id                                             p_name  \\\n",
       "0   83412126  Bình Giữ Nhiệt Lock&Lock Energetic One-Touch T...   \n",
       "1   53789448  Bộ cây lau nhà tự vắt thông minh, chổi lau nhà...   \n",
       "2  212830295                          ( hàng sẵn )squyshi to bự   \n",
       "3   13334313  Bộ 6 chén (bát) cơm sứ phong cách Nhật Bản hoa...   \n",
       "4   99868980  Bình Giữ Nhiệt Locknlock Bucket Tumbler LHC426...   \n",
       "\n",
       "           p_category  p_id_shop                   p_shop_name    p_brand  \\\n",
       "0      Bình giữ nhiệt    38510.0  JoyMall LocknLock Chính Hãng  LocknLock   \n",
       "1  Nhà Cửa - Đời Sống    96639.0                 Parroti Store    Parroti   \n",
       "2                Root   318926.0                       Squishy        OEM   \n",
       "3  Nhà Cửa - Đời Sống     3340.0  Công ty TNHH TM Minh Gia Lợi        OEM   \n",
       "4      Bình giữ nhiệt        1.0                  Tiki Trading  LocknLock   \n",
       "\n",
       "   p_day_created  p_sold_quantity  p_original_price  p_current_price  \\\n",
       "0          659.0              702            528000           269000   \n",
       "1          974.0            12844            799000           429000   \n",
       "2            8.0                0             59000            59000   \n",
       "3         1372.0              938            209000           209000   \n",
       "4          593.0            10359            473000           235000   \n",
       "\n",
       "   p_discount_rate  \n",
       "0               49  \n",
       "1               46  \n",
       "2                0  \n",
       "3                0  \n",
       "4               50  "
      ]
     },
     "execution_count": 9,
     "metadata": {},
     "output_type": "execute_result"
    }
   ],
   "source": [
    "# split category from p_categories column \n",
    "category = tiki_data['p_categories'].str.split(',', expand=True)\n",
    "tiki_data.insert(2, 'p_category', category[0])\n",
    "tiki_data.drop(['p_categories'], axis=1, inplace=True)\n",
    "tiki_data.head()"
   ]
  },
  {
   "attachments": {},
   "cell_type": "markdown",
   "metadata": {},
   "source": [
    "## 3. With each column, how are values distributed?\n",
    "-  We will do the following steps: \n",
    "1. Fixing invalid values\n",
    "2. Checking duplicates and removing them \n",
    "3. Checking missing values and removing them"
   ]
  },
  {
   "attachments": {},
   "cell_type": "markdown",
   "metadata": {},
   "source": [
    "#### 1. Fixing invalid values"
   ]
  },
  {
   "cell_type": "code",
   "execution_count": 10,
   "metadata": {},
   "outputs": [
    {
     "data": {
      "text/plain": [
       "array(['Bình Giữ Nhiệt Lock&Lock Energetic One-Touch Tumbler LHC3249 - 550ML',\n",
       "       'Bộ cây lau nhà tự vắt thông minh, chổi lau nhà 360 độ, lau sạch khô nhanh - Parroti Pro PR01',\n",
       "       '( hàng sẵn )squyshi to bự', ...,\n",
       "       'Bộ 6 nĩa inox 304 DandiHome 2020 cao cấp, sang trọng, tinh tế',\n",
       "       'Cưa cành cây gấp gọn cưa đa năng Nhật Bản',\n",
       "       'Cưa Cầm Tay Lưỡi Thẳng Deli Chính Hãng - Lưỡi Cưa Kim Loại Chắc Chắn, Sắc Bén - Bao Bảo Vệ An Toàn - DL580924'],\n",
       "      dtype=object)"
      ]
     },
     "execution_count": 10,
     "metadata": {},
     "output_type": "execute_result"
    }
   ],
   "source": [
    "tiki_data['p_name'].unique()"
   ]
  },
  {
   "cell_type": "code",
   "execution_count": 11,
   "metadata": {},
   "outputs": [
    {
     "data": {
      "text/plain": [
       "<AxesSubplot:>"
      ]
     },
     "execution_count": 11,
     "metadata": {},
     "output_type": "execute_result"
    },
    {
     "data": {
      "image/png": "[encoded data removed]",
      "text/plain": [
       "<Figure size 2000x1000 with 1 Axes>"
      ]
     },
     "metadata": {},
     "output_type": "display_data"
    }
   ],
   "source": [
    "tiki_data['p_shop_name'].value_counts().plot(kind='line', figsize=(20, 10)) "
   ]
  },
  {
   "cell_type": "code",
   "execution_count": 12,
   "metadata": {},
   "outputs": [
    {
     "data": {
      "text/plain": [
       "array(['Bình giữ nhiệt', 'Nhà Cửa - Đời Sống', 'Root', 'Bộ ga', 'Giá',\n",
       "       'Phụ kiện nhà bếp khác', 'Ổ cắm', 'Dụng cụ xay', 'Hạt giống',\n",
       "       'Thùng rác', 'Hộp đựng thực phẩm', 'Dụng cụ lau nhà khác',\n",
       "       'Sofa/ salon và phụ kiện', 'Dụng cụ Cắt-Gọt-Bào', 'Khăn',\n",
       "       'Nội thất phòng ngủ khác', 'Ly', 'Trang trí nhà cửa khác',\n",
       "       'Lư trầm', 'Chảo các loại', 'Pin tiểu', 'Dao các loại', 'Bàn chải',\n",
       "       'Nội thất phòng học', 'Khác', 'Kệ & Tủ', 'Ron', 'Đèn khác',\n",
       "       'Phân bón', 'Vỏ gối', 'Bàn ghế làm việc', 'Chổi', 'Chăn',\n",
       "       'Túi đựng rác', 'Bóng đèn', 'Phụ kiện phòng ngủ khác',\n",
       "       'Dụng cụ vệ sinh khác', 'Phụ kiện giặt ủi khác', 'Tủ', 'Đèn bàn',\n",
       "       'Đèn diệt côn trùng', 'Thảm chùi chân',\n",
       "       'Vòi nước và phụ kiện tưới cây', 'Chiếu', 'Áo mưa',\n",
       "       'Dụng cụ diệt côn trùng khác', 'Gối các loại', 'Đồng hồ để bàn',\n",
       "       'Ruột gối', 'Chậu', 'Màng nhôm', 'Cây lăn bụi', 'Kệ nhà bếp',\n",
       "       'Túi giặt', 'Móc treo', 'Bình đựng nước', 'Hóa chất', 'Xửng hấp',\n",
       "       'Súng bắn keo', 'Cân nhà bếp', 'Các loại tranh khác',\n",
       "       'CHƯƠNG TRÌNH KHUYẾN MẠI KHÁC', 'Nến trang trí & Phụ kiện',\n",
       "       'Nồi các loại', 'Phụ kiện nệm', 'Kệ nhà tắm',\n",
       "       'Phụ kiện phòng ăn khác', 'Hũ', 'Túi', 'Đèn pin',\n",
       "       'Decal & giấy dán tường', 'Đèn cảm ứng', 'Than', 'Khay', 'Bình',\n",
       "       'Vòi nước các loại', 'Bảo vệ nhà cửa khác', 'Rèm',\n",
       "       'Mô hình & Tượng trang trí', 'Bàn để ủi và phụ kiện',\n",
       "       'Thiết bị điều khiển thông minh', 'Nội thất khác',\n",
       "       'Phụ kiện phòng ngủ', 'Nệm', 'Máy vặn vít', 'Máy đo  nhiệt độ',\n",
       "       'Đồng hồ treo tường', nan, 'Kéo các loại', 'Dụng cụ sửa chữa khác',\n",
       "       'Hoa trang trí', 'Thiết bị đo lường khác', 'Sơn', 'Tô', 'Ốc vít',\n",
       "       'Đèn ngoài trời', 'Bếp nướng', 'Thiết bị phòng tắm khác', 'Đũa',\n",
       "       'Thước đo các loại', 'Thớt nhà bếp', 'Dụng cụ làm vườn khác',\n",
       "       'Giỏ đựng quần áo', 'Bảo hộ lao động', 'Phụ kiện du lịch khác',\n",
       "       'Máy sạc pin', 'Khuôn làm bánh', 'Xô', 'Dây đàn',\n",
       "       'Phụ kiện nhạc cụ khác', 'Đèn ngủ', 'Bàn ghế các loại',\n",
       "       'Bộ lục giác', 'Phụ kiện cây & hoa', 'Dầu mỡ', 'Ổ khóa',\n",
       "       'Kềm & Dũa các loại', 'Bàn ghế học sinh', 'Hộp khăn giấy',\n",
       "       'Thùng đồ nghề', 'Vật phẩm phong thủy khác',\n",
       "       'Đồ dùng nhà bếp khác', 'Túi đựng hộp cơm', 'Hương',\n",
       "       'Màng bọc thực phẩm', 'Lõi lọc', 'Các loại máy khác', 'Bàn ghế',\n",
       "       'Linh kiện đèn', 'Dụng cụ ngoài trời khác', 'Khóa cửa thông minh',\n",
       "       'Lọ hoa', 'Máy hàn', 'Cây cảnh', 'Phụ kiện thờ cúng', 'Máy khoan',\n",
       "       'Miếng rửa chén', 'Dép nhà tắm', 'Linh vật phong thủy',\n",
       "       'Kệ trang trí cây', 'Trống & Phụ kiện', 'Xe đẩy hàng',\n",
       "       'Máy xịt rửa', 'Bộ dụng cụ đa năng', 'Chuông báo',\n",
       "       'Phụ kiện máy xịt rửa', 'Ngoại thất sân vườn khác', 'Võng',\n",
       "       'Phụ kiện khác', 'Vợt muỗi', 'Sách tư duy - Kỹ năng sống',\n",
       "       'Ghế các loại', 'Dụng cụ pha chế', 'Đèn trần', 'Bể bơi',\n",
       "       'Decal & giấy dán kính', 'Cưa & lưỡi cưa'], dtype=object)"
      ]
     },
     "execution_count": 12,
     "metadata": {},
     "output_type": "execute_result"
    }
   ],
   "source": [
    "tiki_data['p_category'].unique()"
   ]
  },
  {
   "attachments": {},
   "cell_type": "markdown",
   "metadata": {},
   "source": [
    "#### As we can see, there are categories named \"Root\" and \"Giá\" not mean as a category. "
   ]
  },
  {
   "cell_type": "code",
   "execution_count": 13,
   "metadata": {},
   "outputs": [
    {
     "name": "stdout",
     "output_type": "stream",
     "text": [
      "141\n",
      "42\n"
     ]
    }
   ],
   "source": [
    "# count number of category have name 'Root'\n",
    "print(tiki_data['p_category'].value_counts()['Root'])\n",
    "\n",
    "# count number of category have name 'Giá'\n",
    "print(tiki_data['p_category'].value_counts()['Giá'])"
   ]
  },
  {
   "attachments": {},
   "cell_type": "markdown",
   "metadata": {},
   "source": [
    "#### The number of categories named \"Root\" and \"Giá\" is quite small (166+38/2000), So to avoid data confusion, we will delete it."
   ]
  },
  {
   "cell_type": "code",
   "execution_count": 14,
   "metadata": {},
   "outputs": [],
   "source": [
    "# drop row have category name 'Root' or \"Giá\"\n",
    "tiki_data = tiki_data[tiki_data['p_category'] != 'Root']\n",
    "tiki_data = tiki_data[tiki_data['p_category'] != 'Giá']"
   ]
  },
  {
   "cell_type": "code",
   "execution_count": 15,
   "metadata": {},
   "outputs": [
    {
     "data": {
      "text/plain": [
       "(1793, 11)"
      ]
     },
     "execution_count": 15,
     "metadata": {},
     "output_type": "execute_result"
    }
   ],
   "source": [
    "tiki_data.shape"
   ]
  },
  {
   "attachments": {},
   "cell_type": "markdown",
   "metadata": {},
   "source": [
    "#### As we know, in terms of product price (p_original_price) there is almost no price of 0. So we will check our data has such values."
   ]
  },
  {
   "cell_type": "code",
   "execution_count": 16,
   "metadata": {},
   "outputs": [
    {
     "name": "stdout",
     "output_type": "stream",
     "text": [
      "p_id                                                        188141191\n",
      "p_name              Khăn lau mặt Khăn tắm Sợi bông Mềm mại Thấm nư...\n",
      "p_category                                                        NaN\n",
      "p_id_shop                                                         NaN\n",
      "p_shop_name                                                       NaN\n",
      "p_brand                                                      CHIKIGON\n",
      "p_day_created                                                   191.0\n",
      "p_sold_quantity                                                     0\n",
      "p_original_price                                                    0\n",
      "p_current_price                                                 55000\n",
      "p_discount_rate                                                     0\n",
      "Name: 406, dtype: object\n",
      "p_id                                                          1651191\n",
      "p_name              Kệ Đỡ Màn Hình Máy Tính Monitor Stand Walnut P...\n",
      "p_category                                                        NaN\n",
      "p_id_shop                                                         NaN\n",
      "p_shop_name                                                       NaN\n",
      "p_brand                                                    Plyconcept\n",
      "p_day_created                                                  1756.0\n",
      "p_sold_quantity                                                     0\n",
      "p_original_price                                                    0\n",
      "p_current_price                                                380000\n",
      "p_discount_rate                                                     0\n",
      "Name: 508, dtype: object\n",
      "p_id                                                       196358685\n",
      "p_name              [ Gift ] Áo thun ngắn tay Bosch, size ngẫu nhiên\n",
      "p_category                                           Bảo hộ lao động\n",
      "p_id_shop                                                      153.0\n",
      "p_shop_name                                    DIYHOMEDEPOT (TP.HCM)\n",
      "p_brand                                                       Bosch \n",
      "p_day_created                                                  118.0\n",
      "p_sold_quantity                                                   80\n",
      "p_original_price                                                   0\n",
      "p_current_price                                                    0\n",
      "p_discount_rate                                                    0\n",
      "Name: 594, dtype: object\n",
      "p_id                                         21881269\n",
      "p_name              Dụng cụ gọt vỏ inox 304 DandiHome\n",
      "p_category                                        NaN\n",
      "p_id_shop                                         NaN\n",
      "p_shop_name                                       NaN\n",
      "p_brand                                     DandiHome\n",
      "p_day_created                                  1276.0\n",
      "p_sold_quantity                                     0\n",
      "p_original_price                                    0\n",
      "p_current_price                                 60800\n",
      "p_discount_rate                                     0\n",
      "Name: 1636, dtype: object\n",
      "p_id                                                        177744785\n",
      "p_name              Bộ lau nhà tách nước bẩn Kitimop K22 Plus có t...\n",
      "p_category                                                        NaN\n",
      "p_id_shop                                                         NaN\n",
      "p_shop_name                                                       NaN\n",
      "p_brand                                                       Kitimop\n",
      "p_day_created                                                   250.0\n",
      "p_sold_quantity                                                     0\n",
      "p_original_price                                                    0\n",
      "p_current_price                                                685000\n",
      "p_discount_rate                                                     0\n",
      "Name: 1658, dtype: object\n"
     ]
    },
    {
     "data": {
      "text/plain": [
       "5"
      ]
     },
     "execution_count": 16,
     "metadata": {},
     "output_type": "execute_result"
    }
   ],
   "source": [
    "count = 0\n",
    "\n",
    "for x in tiki_data.index:\n",
    "  if tiki_data.loc[x, \"p_original_price\"] == 0:\n",
    "    count += 1\n",
    "    print(tiki_data.loc[x, :])\n",
    "\n",
    "count"
   ]
  },
  {
   "attachments": {},
   "cell_type": "markdown",
   "metadata": {},
   "source": [
    "#### As we can see above, the products have a price(p_original_price) of 0. So we will delete these rows."
   ]
  },
  {
   "cell_type": "code",
   "execution_count": 70,
   "metadata": {},
   "outputs": [],
   "source": [
    "# drop row have p_original_price = 0\n",
    "tiki_data = tiki_data[tiki_data['p_original_price'] != 0]"
   ]
  },
  {
   "cell_type": "code",
   "execution_count": 17,
   "metadata": {},
   "outputs": [
    {
     "name": "stdout",
     "output_type": "stream",
     "text": [
      "p_id                                                        188141191\n",
      "p_name              Khăn lau mặt Khăn tắm Sợi bông Mềm mại Thấm nư...\n",
      "p_category                                                        NaN\n",
      "p_id_shop                                                         NaN\n",
      "p_shop_name                                                       NaN\n",
      "p_brand                                                      CHIKIGON\n",
      "p_day_created                                                   191.0\n",
      "p_sold_quantity                                                     0\n",
      "p_original_price                                                    0\n",
      "p_current_price                                                 55000\n",
      "p_discount_rate                                                     0\n",
      "Name: 406, dtype: object\n",
      "p_id                                                          1651191\n",
      "p_name              Kệ Đỡ Màn Hình Máy Tính Monitor Stand Walnut P...\n",
      "p_category                                                        NaN\n",
      "p_id_shop                                                         NaN\n",
      "p_shop_name                                                       NaN\n",
      "p_brand                                                    Plyconcept\n",
      "p_day_created                                                  1756.0\n",
      "p_sold_quantity                                                     0\n",
      "p_original_price                                                    0\n",
      "p_current_price                                                380000\n",
      "p_discount_rate                                                     0\n",
      "Name: 508, dtype: object\n",
      "p_id                                                       196358685\n",
      "p_name              [ Gift ] Áo thun ngắn tay Bosch, size ngẫu nhiên\n",
      "p_category                                           Bảo hộ lao động\n",
      "p_id_shop                                                      153.0\n",
      "p_shop_name                                    DIYHOMEDEPOT (TP.HCM)\n",
      "p_brand                                                       Bosch \n",
      "p_day_created                                                  118.0\n",
      "p_sold_quantity                                                   80\n",
      "p_original_price                                                   0\n",
      "p_current_price                                                    0\n",
      "p_discount_rate                                                    0\n",
      "Name: 594, dtype: object\n",
      "p_id                                         21881269\n",
      "p_name              Dụng cụ gọt vỏ inox 304 DandiHome\n",
      "p_category                                        NaN\n",
      "p_id_shop                                         NaN\n",
      "p_shop_name                                       NaN\n",
      "p_brand                                     DandiHome\n",
      "p_day_created                                  1276.0\n",
      "p_sold_quantity                                     0\n",
      "p_original_price                                    0\n",
      "p_current_price                                 60800\n",
      "p_discount_rate                                     0\n",
      "Name: 1636, dtype: object\n",
      "p_id                                                        177744785\n",
      "p_name              Bộ lau nhà tách nước bẩn Kitimop K22 Plus có t...\n",
      "p_category                                                        NaN\n",
      "p_id_shop                                                         NaN\n",
      "p_shop_name                                                       NaN\n",
      "p_brand                                                       Kitimop\n",
      "p_day_created                                                   250.0\n",
      "p_sold_quantity                                                     0\n",
      "p_original_price                                                    0\n",
      "p_current_price                                                685000\n",
      "p_discount_rate                                                     0\n",
      "Name: 1658, dtype: object\n"
     ]
    },
    {
     "data": {
      "text/plain": [
       "5"
      ]
     },
     "execution_count": 17,
     "metadata": {},
     "output_type": "execute_result"
    }
   ],
   "source": [
    "count = 0\n",
    "\n",
    "for x in tiki_data.index:\n",
    "  if tiki_data.loc[x, \"p_original_price\"] == 0:\n",
    "    count += 1\n",
    "    print(tiki_data.loc[x, :])\n",
    "\n",
    "count"
   ]
  },
  {
   "attachments": {},
   "cell_type": "markdown",
   "metadata": {},
   "source": [
    "### 2. Checking duplicates and removing them"
   ]
  },
  {
   "cell_type": "code",
   "execution_count": 18,
   "metadata": {},
   "outputs": [
    {
     "data": {
      "text/plain": [
       "<AxesSubplot:>"
      ]
     },
     "execution_count": 18,
     "metadata": {},
     "output_type": "execute_result"
    },
    {
     "data": {
      "image/png": "[encoded data removed]",
      "text/plain": [
       "<Figure size 2000x1000 with 1 Axes>"
      ]
     },
     "metadata": {},
     "output_type": "display_data"
    }
   ],
   "source": [
    "tiki_data['p_name'].value_counts().plot(kind='line', figsize=(20, 10))"
   ]
  },
  {
   "attachments": {},
   "cell_type": "markdown",
   "metadata": {},
   "source": [
    "#### We see that the number of identical elements of the name column is only 1!!! so keeping it as it is won't mess up the data"
   ]
  },
  {
   "attachments": {},
   "cell_type": "markdown",
   "metadata": {},
   "source": [
    "### 3. Checking missing values and removing them"
   ]
  },
  {
   "cell_type": "code",
   "execution_count": 19,
   "metadata": {},
   "outputs": [
    {
     "data": {
      "text/plain": [
       "p_id                0\n",
       "p_name              0\n",
       "p_category          4\n",
       "p_id_shop           4\n",
       "p_shop_name         4\n",
       "p_brand             1\n",
       "p_day_created       8\n",
       "p_sold_quantity     0\n",
       "p_original_price    0\n",
       "p_current_price     0\n",
       "p_discount_rate     0\n",
       "dtype: int64"
      ]
     },
     "execution_count": 19,
     "metadata": {},
     "output_type": "execute_result"
    }
   ],
   "source": [
    "tiki_data.isnull().sum()"
   ]
  },
  {
   "attachments": {},
   "cell_type": "markdown",
   "metadata": {},
   "source": [
    "#### When displaying the above table, because the number of missing values is very small, and the numbers are the same (both are 8). Predict it on the same 8 rows. We will try to delete the missing values of p_id_shop to see if there are still missing values?"
   ]
  },
  {
   "cell_type": "code",
   "execution_count": 20,
   "metadata": {},
   "outputs": [
    {
     "data": {
      "text/plain": [
       "p_id                0\n",
       "p_name              0\n",
       "p_category          0\n",
       "p_id_shop           0\n",
       "p_shop_name         0\n",
       "p_brand             1\n",
       "p_day_created       8\n",
       "p_sold_quantity     0\n",
       "p_original_price    0\n",
       "p_current_price     0\n",
       "p_discount_rate     0\n",
       "dtype: int64"
      ]
     },
     "execution_count": 20,
     "metadata": {},
     "output_type": "execute_result"
    }
   ],
   "source": [
    "tiki_data.dropna(subset=['p_id_shop'], inplace=True)\n",
    "tiki_data.isnull().sum()\n"
   ]
  },
  {
   "attachments": {},
   "cell_type": "markdown",
   "metadata": {},
   "source": [
    "#### As expected, deleting rows where p_id_shop is null also deletes rows where p_shop_name and p_category are null. So the above prediction is correct."
   ]
  },
  {
   "cell_type": "code",
   "execution_count": 73,
   "metadata": {},
   "outputs": [],
   "source": [
    "# save data to csv file\n",
    "tiki_data.to_csv('../../../data/processed/tiki_data.csv', index=False)"
   ]
  }
 ],
 "metadata": {
  "kernelspec": {
   "display_name": "DataScience",
   "language": "python",
   "name": "python3"
  },
  "language_info": {
   "codemirror_mode": {
    "name": "ipython",
    "version": 3
   },
   "file_extension": ".py",
   "mimetype": "text/x-python",
   "name": "python",
   "nbconvert_exporter": "python",
   "pygments_lexer": "ipython3",
   "version": "3.9.12 (main, Apr  5 2022, 06:56:58) \n[GCC 7.5.0]"
  },
  "orig_nbformat": 4,
  "vscode": {
   "interpreter": {
    "hash": "da5c88a7b415d3aa4fc851a4158d37c895b2b016e8b5a5cb2326d03829d70c8b"
   }
  }
 },
 "nbformat": 4,
 "nbformat_minor": 2
}
