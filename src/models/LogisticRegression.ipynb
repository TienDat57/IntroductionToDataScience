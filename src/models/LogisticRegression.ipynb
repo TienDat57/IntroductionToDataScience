{
 "cells": [
  {
   "attachments": {},
   "cell_type": "markdown",
   "metadata": {},
   "source": [
    "#### Bonus: Because we want to predict the trending products, so we use the  `Logistic Regression` model to classificate the product is trending or not."
   ]
  },
  {
   "cell_type": "code",
   "execution_count": 1,
   "metadata": {},
   "outputs": [],
   "source": [
    "import numpy as np\n",
    "import pandas as pd\n",
    "import matplotlib.pyplot as plt\n",
    "import seaborn as sns\n",
    "from sklearn.linear_model import LogisticRegression\n",
    "from sklearn.model_selection import RandomizedSearchCV\n",
    "from sklearn.model_selection import RepeatedStratifiedKFold\n",
    "from sklearn.model_selection import train_test_split\n",
    "from sklearn.model_selection import cross_val_score\n",
    "from sklearn.metrics import accuracy_score, confusion_matrix, classification_report\n",
    "from sklearn.preprocessing import StandardScaler\n",
    "from sklearn.pipeline import make_pipeline\n",
    "import warnings \n",
    "warnings.filterwarnings('ignore')\n",
    "\n",
    "%matplotlib inline"
   ]
  },
  {
   "attachments": {},
   "cell_type": "markdown",
   "metadata": {},
   "source": [
    "### <b>Read the data</b>"
   ]
  },
  {
   "cell_type": "code",
   "execution_count": 2,
   "metadata": {},
   "outputs": [
    {
     "data": {
      "text/html": [
       "<div>\n",
       "<style scoped>\n",
       "    .dataframe tbody tr th:only-of-type {\n",
       "        vertical-align: middle;\n",
       "    }\n",
       "\n",
       "    .dataframe tbody tr th {\n",
       "        vertical-align: top;\n",
       "    }\n",
       "\n",
       "    .dataframe thead th {\n",
       "        text-align: right;\n",
       "    }\n",
       "</style>\n",
       "<table border=\"1\" class=\"dataframe\">\n",
       "  <thead>\n",
       "    <tr style=\"text-align: right;\">\n",
       "      <th></th>\n",
       "      <th>p_categories</th>\n",
       "      <th>p_brand</th>\n",
       "      <th>p_day_created</th>\n",
       "      <th>p_sold_quantity</th>\n",
       "      <th>p_original_price</th>\n",
       "      <th>p_discount_rate</th>\n",
       "    </tr>\n",
       "  </thead>\n",
       "  <tbody>\n",
       "    <tr>\n",
       "      <th>0</th>\n",
       "      <td>7</td>\n",
       "      <td>155</td>\n",
       "      <td>659.0</td>\n",
       "      <td>0.041052</td>\n",
       "      <td>528000</td>\n",
       "      <td>49</td>\n",
       "    </tr>\n",
       "    <tr>\n",
       "      <th>1</th>\n",
       "      <td>84</td>\n",
       "      <td>198</td>\n",
       "      <td>974.0</td>\n",
       "      <td>7.554966</td>\n",
       "      <td>799000</td>\n",
       "      <td>46</td>\n",
       "    </tr>\n",
       "    <tr>\n",
       "      <th>2</th>\n",
       "      <td>84</td>\n",
       "      <td>192</td>\n",
       "      <td>1372.0</td>\n",
       "      <td>0.187097</td>\n",
       "      <td>209000</td>\n",
       "      <td>0</td>\n",
       "    </tr>\n",
       "    <tr>\n",
       "      <th>3</th>\n",
       "      <td>7</td>\n",
       "      <td>155</td>\n",
       "      <td>593.0</td>\n",
       "      <td>6.017157</td>\n",
       "      <td>473000</td>\n",
       "      <td>50</td>\n",
       "    </tr>\n",
       "    <tr>\n",
       "      <th>4</th>\n",
       "      <td>15</td>\n",
       "      <td>145</td>\n",
       "      <td>529.0</td>\n",
       "      <td>1.053469</td>\n",
       "      <td>106000</td>\n",
       "      <td>16</td>\n",
       "    </tr>\n",
       "  </tbody>\n",
       "</table>\n",
       "</div>"
      ],
      "text/plain": [
       "   p_categories  p_brand  p_day_created  p_sold_quantity  p_original_price  \\\n",
       "0             7      155          659.0         0.041052            528000   \n",
       "1            84      198          974.0         7.554966            799000   \n",
       "2            84      192         1372.0         0.187097            209000   \n",
       "3             7      155          593.0         6.017157            473000   \n",
       "4            15      145          529.0         1.053469            106000   \n",
       "\n",
       "   p_discount_rate  \n",
       "0               49  \n",
       "1               46  \n",
       "2                0  \n",
       "3               50  \n",
       "4               16  "
      ]
     },
     "execution_count": 2,
     "metadata": {},
     "output_type": "execute_result"
    }
   ],
   "source": [
    "df = pd.read_csv('../../data/processed/canonical_data.csv')\n",
    "df.head() "
   ]
  },
  {
   "attachments": {},
   "cell_type": "markdown",
   "metadata": {},
   "source": [
    "### <b>Create columns trending</b>\n",
    "1. The products have mean "
   ]
  },
  {
   "cell_type": "code",
   "execution_count": 3,
   "metadata": {},
   "outputs": [],
   "source": [
    "col_trending = df['p_sold_quantity'] / df['p_day_created']\n",
    "df['trending'] = col_trending.apply(lambda x: 1 if x > col_trending.mean() else 0)\n"
   ]
  },
  {
   "attachments": {},
   "cell_type": "markdown",
   "metadata": {},
   "source": [
    "### <b>Train test split</b>"
   ]
  },
  {
   "cell_type": "code",
   "execution_count": 4,
   "metadata": {},
   "outputs": [],
   "source": [
    "X = df.drop('trending', axis='columns')\n",
    "y = testLabels = df.trending\n",
    "\n",
    "X_train, X_test, y_train, y_test = train_test_split(X, y, test_size=0.2, random_state=15)"
   ]
  },
  {
   "attachments": {},
   "cell_type": "markdown",
   "metadata": {},
   "source": [
    "#### **View data after train test split**"
   ]
  },
  {
   "cell_type": "code",
   "execution_count": 5,
   "metadata": {},
   "outputs": [
    {
     "data": {
      "text/plain": [
       "1    1016\n",
       "0     404\n",
       "Name: trending, dtype: int64"
      ]
     },
     "execution_count": 5,
     "metadata": {},
     "output_type": "execute_result"
    }
   ],
   "source": [
    "y_train.value_counts()"
   ]
  },
  {
   "cell_type": "code",
   "execution_count": 6,
   "metadata": {},
   "outputs": [
    {
     "data": {
      "text/plain": [
       "1    1258\n",
       "0     518\n",
       "Name: trending, dtype: int64"
      ]
     },
     "execution_count": 6,
     "metadata": {},
     "output_type": "execute_result"
    }
   ],
   "source": [
    "y.value_counts()"
   ]
  },
  {
   "cell_type": "code",
   "execution_count": 7,
   "metadata": {},
   "outputs": [
    {
     "data": {
      "text/plain": [
       "1.1685393258426966"
      ]
     },
     "execution_count": 7,
     "metadata": {},
     "output_type": "execute_result"
    }
   ],
   "source": [
    "104/89"
   ]
  },
  {
   "cell_type": "code",
   "execution_count": 8,
   "metadata": {},
   "outputs": [
    {
     "data": {
      "text/plain": [
       "1    242\n",
       "0    114\n",
       "Name: trending, dtype: int64"
      ]
     },
     "execution_count": 8,
     "metadata": {},
     "output_type": "execute_result"
    }
   ],
   "source": [
    "y_test.value_counts()"
   ]
  },
  {
   "cell_type": "code",
   "execution_count": 9,
   "metadata": {},
   "outputs": [
    {
     "data": {
      "text/plain": [
       "((1420, 6), (356, 6))"
      ]
     },
     "execution_count": 9,
     "metadata": {},
     "output_type": "execute_result"
    }
   ],
   "source": [
    "X_train.shape, X_test.shape"
   ]
  },
  {
   "cell_type": "code",
   "execution_count": 10,
   "metadata": {},
   "outputs": [
    {
     "data": {
      "text/html": [
       "<div>\n",
       "<style scoped>\n",
       "    .dataframe tbody tr th:only-of-type {\n",
       "        vertical-align: middle;\n",
       "    }\n",
       "\n",
       "    .dataframe tbody tr th {\n",
       "        vertical-align: top;\n",
       "    }\n",
       "\n",
       "    .dataframe thead th {\n",
       "        text-align: right;\n",
       "    }\n",
       "</style>\n",
       "<table border=\"1\" class=\"dataframe\">\n",
       "  <thead>\n",
       "    <tr style=\"text-align: right;\">\n",
       "      <th></th>\n",
       "      <th>p_categories</th>\n",
       "      <th>p_brand</th>\n",
       "      <th>p_day_created</th>\n",
       "      <th>p_sold_quantity</th>\n",
       "      <th>p_original_price</th>\n",
       "      <th>p_discount_rate</th>\n",
       "    </tr>\n",
       "  </thead>\n",
       "  <tbody>\n",
       "    <tr>\n",
       "      <th>1126</th>\n",
       "      <td>127</td>\n",
       "      <td>103</td>\n",
       "      <td>143.0</td>\n",
       "      <td>-0.343864</td>\n",
       "      <td>75800</td>\n",
       "      <td>0</td>\n",
       "    </tr>\n",
       "    <tr>\n",
       "      <th>1158</th>\n",
       "      <td>62</td>\n",
       "      <td>283</td>\n",
       "      <td>90.0</td>\n",
       "      <td>-0.376044</td>\n",
       "      <td>90000</td>\n",
       "      <td>3</td>\n",
       "    </tr>\n",
       "    <tr>\n",
       "      <th>1657</th>\n",
       "      <td>84</td>\n",
       "      <td>173</td>\n",
       "      <td>708.0</td>\n",
       "      <td>-0.189155</td>\n",
       "      <td>95000</td>\n",
       "      <td>0</td>\n",
       "    </tr>\n",
       "    <tr>\n",
       "      <th>184</th>\n",
       "      <td>84</td>\n",
       "      <td>182</td>\n",
       "      <td>758.0</td>\n",
       "      <td>0.533027</td>\n",
       "      <td>1000000</td>\n",
       "      <td>55</td>\n",
       "    </tr>\n",
       "    <tr>\n",
       "      <th>1649</th>\n",
       "      <td>97</td>\n",
       "      <td>135</td>\n",
       "      <td>747.0</td>\n",
       "      <td>-0.015881</td>\n",
       "      <td>500000</td>\n",
       "      <td>47</td>\n",
       "    </tr>\n",
       "    <tr>\n",
       "      <th>642</th>\n",
       "      <td>84</td>\n",
       "      <td>211</td>\n",
       "      <td>1140.0</td>\n",
       "      <td>0.513843</td>\n",
       "      <td>499000</td>\n",
       "      <td>46</td>\n",
       "    </tr>\n",
       "    <tr>\n",
       "      <th>905</th>\n",
       "      <td>127</td>\n",
       "      <td>179</td>\n",
       "      <td>99.0</td>\n",
       "      <td>-0.389658</td>\n",
       "      <td>139000</td>\n",
       "      <td>0</td>\n",
       "    </tr>\n",
       "    <tr>\n",
       "      <th>1088</th>\n",
       "      <td>28</td>\n",
       "      <td>42</td>\n",
       "      <td>762.0</td>\n",
       "      <td>-0.275174</td>\n",
       "      <td>219000</td>\n",
       "      <td>0</td>\n",
       "    </tr>\n",
       "    <tr>\n",
       "      <th>350</th>\n",
       "      <td>6</td>\n",
       "      <td>169</td>\n",
       "      <td>882.0</td>\n",
       "      <td>0.113456</td>\n",
       "      <td>99000</td>\n",
       "      <td>11</td>\n",
       "    </tr>\n",
       "    <tr>\n",
       "      <th>1235</th>\n",
       "      <td>84</td>\n",
       "      <td>192</td>\n",
       "      <td>1216.0</td>\n",
       "      <td>-0.203389</td>\n",
       "      <td>28500</td>\n",
       "      <td>0</td>\n",
       "    </tr>\n",
       "  </tbody>\n",
       "</table>\n",
       "</div>"
      ],
      "text/plain": [
       "      p_categories  p_brand  p_day_created  p_sold_quantity  p_original_price  \\\n",
       "1126           127      103          143.0        -0.343864             75800   \n",
       "1158            62      283           90.0        -0.376044             90000   \n",
       "1657            84      173          708.0        -0.189155             95000   \n",
       "184             84      182          758.0         0.533027           1000000   \n",
       "1649            97      135          747.0        -0.015881            500000   \n",
       "642             84      211         1140.0         0.513843            499000   \n",
       "905            127      179           99.0        -0.389658            139000   \n",
       "1088            28       42          762.0        -0.275174            219000   \n",
       "350              6      169          882.0         0.113456             99000   \n",
       "1235            84      192         1216.0        -0.203389             28500   \n",
       "\n",
       "      p_discount_rate  \n",
       "1126                0  \n",
       "1158                3  \n",
       "1657                0  \n",
       "184                55  \n",
       "1649               47  \n",
       "642                46  \n",
       "905                 0  \n",
       "1088                0  \n",
       "350                11  \n",
       "1235                0  "
      ]
     },
     "execution_count": 10,
     "metadata": {},
     "output_type": "execute_result"
    }
   ],
   "source": [
    "X_train[:10]"
   ]
  },
  {
   "attachments": {},
   "cell_type": "markdown",
   "metadata": {},
   "source": [
    "### <b>Use the model `LogisticRegression` to predict the target variable</b>"
   ]
  },
  {
   "cell_type": "code",
   "execution_count": 11,
   "metadata": {},
   "outputs": [],
   "source": [
    "def confusion_matrix_plot(y_test, y_pred):\n",
    "    cm = confusion_matrix(y_test, y_pred)\n",
    "    plt.figure(figsize=(10, 7))\n",
    "    sns.heatmap(cm, annot=True, fmt='d')\n",
    "    plt.xlabel('Predicted')\n",
    "    plt.ylabel('Truth')\n",
    "    plt.show()"
   ]
  },
  {
   "cell_type": "code",
   "execution_count": 12,
   "metadata": {},
   "outputs": [],
   "source": [
    "def log_reg(X_train, X_test, y_train, y_test, weights=-1):\n",
    "    if weights == -1:\n",
    "        model = LogisticRegression()\n",
    "    else:\n",
    "        model = LogisticRegression(class_weight={0: weights[0], 1: weights[1]})\n",
    "    model.fit(X_train, y_train)\n",
    "    accuracy = model.score(X_test, y_test)\n",
    "    y_pred = model.predict(X_test)\n",
    "    print('Accuracy: ', accuracy)\n",
    "    #  confusion_matrix_plot(y_test, y_pred)\n",
    "    print(classification_report(y_test, y_pred))\n",
    "    return model"
   ]
  },
  {
   "cell_type": "code",
   "execution_count": 13,
   "metadata": {},
   "outputs": [
    {
     "data": {
      "text/plain": [
       "{'logisticregression__penalty': 'l2',\n",
       " 'logisticregression__fit_intercept': True}"
      ]
     },
     "execution_count": 13,
     "metadata": {},
     "output_type": "execute_result"
    }
   ],
   "source": [
    "sgd = make_pipeline(StandardScaler(), LogisticRegression(penalty='l2'))\n",
    "\n",
    "fit_intercept = [True, False]\n",
    "penalty = ['l2', 'l1', 'elasticnet']\n",
    "param = dict(logisticregression__penalty=penalty, logisticregression__fit_intercept = fit_intercept)\n",
    "\n",
    "rnd_search = RandomizedSearchCV(sgd, param_distributions=param, n_iter=10, cv=5, scoring='accuracy', random_state=15)\n",
    "rnd_search.fit(X_train, y_train)\n",
    "rnd_search.best_params_"
   ]
  },
  {
   "cell_type": "code",
   "execution_count": 14,
   "metadata": {},
   "outputs": [],
   "source": [
    "from sklearn.metrics import mean_squared_error\n",
    "clf = LogisticRegression(penalty='l2', fit_intercept=True)\n",
    "clf.fit(X_train, y_train)\n",
    "y_pred = clf.predict(X_test)\n",
    "\n",
    "cv = RepeatedStratifiedKFold(n_splits=10, n_repeats=3, random_state=15)\n",
    "lr_scores = cross_val_score(clf, X_train, y_train, scoring='accuracy', cv=cv, n_jobs=-1)"
   ]
  },
  {
   "cell_type": "code",
   "execution_count": 15,
   "metadata": {},
   "outputs": [
    {
     "name": "stdout",
     "output_type": "stream",
     "text": [
      "LogisticRegression: 0.831 (0.097)\n",
      "Accuracy:  0.6825842696629213\n"
     ]
    }
   ],
   "source": [
    "print('LogisticRegression: %.3f (%.3f)' % (np.mean(lr_scores), np.std(lr_scores)))\n",
    "print('Accuracy: ', accuracy_score(y_test, y_pred))"
   ]
  },
  {
   "attachments": {},
   "cell_type": "markdown",
   "metadata": {},
   "source": [
    "- Comments:\n",
    "    - Because we want to predict the trending products, so we need to create a new column `is_trending` to indicate the products are trending or not.\n",
    "    - But we create is_trending column, the result is not good(overfitting)."
   ]
  }
 ],
 "metadata": {
  "kernelspec": {
   "display_name": "DataScience",
   "language": "python",
   "name": "python3"
  },
  "language_info": {
   "codemirror_mode": {
    "name": "ipython",
    "version": 3
   },
   "file_extension": ".py",
   "mimetype": "text/x-python",
   "name": "python",
   "nbconvert_exporter": "python",
   "pygments_lexer": "ipython3",
   "version": "3.8.8"
  },
  "orig_nbformat": 4,
  "vscode": {
   "interpreter": {
    "hash": "837c31c3b16f6f9a2689a247a1a2f11a52dd62aa3cb8540b2e00097f256f0faa"
   }
  }
 },
 "nbformat": 4,
 "nbformat_minor": 2
}
