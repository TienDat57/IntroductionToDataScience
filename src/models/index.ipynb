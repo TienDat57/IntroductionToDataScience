{
 "cells": [
  {
   "attachments": {},
   "cell_type": "markdown",
   "metadata": {},
   "source": [
    "## <strong>Step 4. Data modeling and model evaluation</strong>"
   ]
  },
  {
   "attachments": {},
   "cell_type": "markdown",
   "metadata": {},
   "source": [
    "### &#9889; In this process, we will answer the following questions:\n",
    "1. What is the problem and solution for this problem?\n",
    "2. Prepare the data for modeling.\n",
    "3. Use model to calculate the feature importance\n",
    "4. Calculate the correlation between features that affect the label `p_sold_quantity` through heatmap.\n",
    "2. How to train the model?\n",
    "3. How to test the model?\n",
    "4. How to evaluate the model?\n",
    "5. How to compare with other models? What is conclusion?"
   ]
  },
  {
   "attachments": {},
   "cell_type": "markdown",
   "metadata": {},
   "source": [
    "## <strong>4.1 What is the problem and solution?</strong>\n",
    "- We want to predict the number of sold products in the next month. So we will answer the question: \"How many products will be sold in the next month?\" . This is a regression problem.\n",
    "- To solve this problem, we will use the data of the previous months to train a model. Then we will use the model to predict the number of sold products in the next month.\n",
    "- Because this is a regression problem, we will use the `Linear Regression` model to solve this problem.\n",
    "- There are multiple benefits of using regression analysis. They are as follows:\n",
    "    - It indicates the significant relationships between dependent variable and independent variable.\n",
    "    - It indicates the strength of impact of multiple independent variables on a dependent variable.\n",
    "    - Regression analysis also allows us to compare the effects of variables measured on different scales, such as the effect of price changes and the number of promotional activities. These benefits help us to eliminate and evaluate the best set of variables to be used for building predictive models."
   ]
  },
  {
   "cell_type": "markdown",
   "metadata": {},
   "source": []
  }
 ],
 "metadata": {
  "kernelspec": {
   "display_name": "Python 3",
   "language": "python",
   "name": "python3"
  },
  "language_info": {
   "name": "python",
   "version": "3.10.6 (main, Aug 10 2022, 11:40:04) [GCC 11.3.0]"
  },
  "orig_nbformat": 4,
  "vscode": {
   "interpreter": {
    "hash": "916dbcbb3f70747c44a77c7bcd40155683ae19c65e1c03b4aa3499c5328201f1"
   }
  }
 },
 "nbformat": 4,
 "nbformat_minor": 2
}
