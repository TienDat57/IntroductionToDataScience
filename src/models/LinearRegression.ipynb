{
 "cells": [
  {
   "attachments": {},
   "cell_type": "markdown",
   "metadata": {},
   "source": [
    "### Import neccessary libraries"
   ]
  },
  {
   "cell_type": "code",
   "execution_count": 30,
   "metadata": {},
   "outputs": [],
   "source": [
    "import numpy as np\n",
    "import pandas as pd\n",
    "import seaborn as sns\n",
    "from sklearn.linear_model import LinearRegression\n",
    "from sklearn.model_selection import train_test_split\n",
    "from sklearn.model_selection import GridSearchCV\n",
    "from sklearn.preprocessing import StandardScaler\n",
    "from sklearn.metrics import mean_squared_error\n",
    "from sklearn.pipeline import Pipeline\n",
    "\n",
    "import warnings \n",
    "warnings.filterwarnings('ignore')\n",
    "\n",
    "%matplotlib inline"
   ]
  },
  {
   "cell_type": "code",
   "execution_count": 31,
   "metadata": {},
   "outputs": [
    {
     "data": {
      "text/html": [
       "<div>\n",
       "<style scoped>\n",
       "    .dataframe tbody tr th:only-of-type {\n",
       "        vertical-align: middle;\n",
       "    }\n",
       "\n",
       "    .dataframe tbody tr th {\n",
       "        vertical-align: top;\n",
       "    }\n",
       "\n",
       "    .dataframe thead th {\n",
       "        text-align: right;\n",
       "    }\n",
       "</style>\n",
       "<table border=\"1\" class=\"dataframe\">\n",
       "  <thead>\n",
       "    <tr style=\"text-align: right;\">\n",
       "      <th></th>\n",
       "      <th>p_categories</th>\n",
       "      <th>p_brand</th>\n",
       "      <th>p_day_created</th>\n",
       "      <th>p_sold_quantity</th>\n",
       "      <th>p_original_price</th>\n",
       "      <th>p_discount_rate</th>\n",
       "    </tr>\n",
       "  </thead>\n",
       "  <tbody>\n",
       "    <tr>\n",
       "      <th>0</th>\n",
       "      <td>7</td>\n",
       "      <td>155</td>\n",
       "      <td>659.0</td>\n",
       "      <td>702</td>\n",
       "      <td>528000</td>\n",
       "      <td>49</td>\n",
       "    </tr>\n",
       "    <tr>\n",
       "      <th>1</th>\n",
       "      <td>84</td>\n",
       "      <td>198</td>\n",
       "      <td>974.0</td>\n",
       "      <td>12844</td>\n",
       "      <td>799000</td>\n",
       "      <td>46</td>\n",
       "    </tr>\n",
       "    <tr>\n",
       "      <th>2</th>\n",
       "      <td>84</td>\n",
       "      <td>192</td>\n",
       "      <td>1372.0</td>\n",
       "      <td>938</td>\n",
       "      <td>209000</td>\n",
       "      <td>0</td>\n",
       "    </tr>\n",
       "    <tr>\n",
       "      <th>3</th>\n",
       "      <td>7</td>\n",
       "      <td>155</td>\n",
       "      <td>593.0</td>\n",
       "      <td>10359</td>\n",
       "      <td>473000</td>\n",
       "      <td>50</td>\n",
       "    </tr>\n",
       "    <tr>\n",
       "      <th>4</th>\n",
       "      <td>15</td>\n",
       "      <td>145</td>\n",
       "      <td>529.0</td>\n",
       "      <td>2338</td>\n",
       "      <td>106000</td>\n",
       "      <td>16</td>\n",
       "    </tr>\n",
       "  </tbody>\n",
       "</table>\n",
       "</div>"
      ],
      "text/plain": [
       "   p_categories  p_brand  p_day_created  p_sold_quantity  p_original_price  \\\n",
       "0             7      155          659.0              702            528000   \n",
       "1            84      198          974.0            12844            799000   \n",
       "2            84      192         1372.0              938            209000   \n",
       "3             7      155          593.0            10359            473000   \n",
       "4            15      145          529.0             2338            106000   \n",
       "\n",
       "   p_discount_rate  \n",
       "0               49  \n",
       "1               46  \n",
       "2                0  \n",
       "3               50  \n",
       "4               16  "
      ]
     },
     "execution_count": 31,
     "metadata": {},
     "output_type": "execute_result"
    }
   ],
   "source": [
    "df = pd.read_csv('../../data/processed/canomical_data.csv')\n",
    "df.head()"
   ]
  },
  {
   "cell_type": "code",
   "execution_count": 32,
   "metadata": {},
   "outputs": [],
   "source": [
    "X = df.drop('p_sold_quantity', axis='columns')\n",
    "y = testLabels = df.p_sold_quantity\n",
    "\n",
    "X_train, X_test, y_train, y_test = train_test_split(X, y, test_size=0.2, random_state=32)"
   ]
  },
  {
   "cell_type": "code",
   "execution_count": 33,
   "metadata": {},
   "outputs": [],
   "source": [
    "# Create a pipeline\n",
    "pipe = Pipeline([('scaler', StandardScaler()), ('linear', LinearRegression())])\n",
    "\n",
    "param_grid = {'linear__fit_intercept': [True, False], 'linear__normalize': [True, False]}"
   ]
  },
  {
   "cell_type": "code",
   "execution_count": 34,
   "metadata": {},
   "outputs": [
    {
     "data": {
      "text/plain": [
       "{'linear__fit_intercept': False, 'linear__normalize': True}"
      ]
     },
     "execution_count": 34,
     "metadata": {},
     "output_type": "execute_result"
    }
   ],
   "source": [
    "# use grid search to test all values for n_neighbors \n",
    "gr_search = GridSearchCV(pipe, param_grid, cv=10, scoring='neg_mean_squared_error')\n",
    "gr_search.fit(X_train, y_train)\n",
    "gr_search.best_params_"
   ]
  },
  {
   "cell_type": "code",
   "execution_count": 35,
   "metadata": {},
   "outputs": [
    {
     "name": "stdout",
     "output_type": "stream",
     "text": [
      "MSE: 2820204.46103367\n",
      "RMSE: 1679.346438658108\n"
     ]
    }
   ],
   "source": [
    "model = LinearRegression(fit_intercept=True, normalize=True)\n",
    "model.fit(X_train, y_train)\n",
    "\n",
    "y_pred = model.predict(X_test)\n",
    "print('MSE:', mean_squared_error(y_test, y_pred))\n",
    "print('RMSE:', np.sqrt(mean_squared_error(y_test, y_pred)))\n"
   ]
  }
 ],
 "metadata": {
  "kernelspec": {
   "display_name": "min_ds-env",
   "language": "python",
   "name": "python3"
  },
  "language_info": {
   "codemirror_mode": {
    "name": "ipython",
    "version": 3
   },
   "file_extension": ".py",
   "mimetype": "text/x-python",
   "name": "python",
   "nbconvert_exporter": "python",
   "pygments_lexer": "ipython3",
   "version": "3.8.8"
  },
  "orig_nbformat": 4,
  "vscode": {
   "interpreter": {
    "hash": "a5e1ec076bd572246a92e5395011ccb4d0c3c0a63992a65b30abbf30f49ecb0c"
   }
  }
 },
 "nbformat": 4,
 "nbformat_minor": 2
}
