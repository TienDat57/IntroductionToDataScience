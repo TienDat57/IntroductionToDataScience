{
 "cells": [
  {
   "cell_type": "code",
   "execution_count": 12,
   "metadata": {},
   "outputs": [],
   "source": [
    "from sklearn.model_selection import RepeatedStratifiedKFold\n",
    "from sklearn.model_selection import cross_val_score\n",
    "from sklearn.model_selection import GridSearchCV\n",
    "from sklearn.pipeline import make_pipeline\n",
    "from sklearn.preprocessing import PolynomialFeatures\n",
    "from sklearn.linear_model import LinearRegression\n",
    "import numpy as np\n",
    "import pandas as pd\n",
    "import seaborn as sns\n",
    "from sklearn.model_selection import train_test_split\n",
    "from sklearn.metrics import accuracy_score, confusion_matrix, classification_report\n",
    "from sklearn.preprocessing import StandardScaler\n",
    "from sklearn.metrics import mean_squared_error\n",
    "from sklearn.metrics import classification_report\n",
    "import warnings \n",
    "warnings.filterwarnings('ignore')\n",
    "\n",
    "%matplotlib inline"
   ]
  },
  {
   "cell_type": "code",
   "execution_count": 13,
   "metadata": {},
   "outputs": [
    {
     "data": {
      "text/html": [
       "<div>\n",
       "<style scoped>\n",
       "    .dataframe tbody tr th:only-of-type {\n",
       "        vertical-align: middle;\n",
       "    }\n",
       "\n",
       "    .dataframe tbody tr th {\n",
       "        vertical-align: top;\n",
       "    }\n",
       "\n",
       "    .dataframe thead th {\n",
       "        text-align: right;\n",
       "    }\n",
       "</style>\n",
       "<table border=\"1\" class=\"dataframe\">\n",
       "  <thead>\n",
       "    <tr style=\"text-align: right;\">\n",
       "      <th></th>\n",
       "      <th>p_categories</th>\n",
       "      <th>p_brand</th>\n",
       "      <th>p_day_created</th>\n",
       "      <th>p_sold_quantity</th>\n",
       "      <th>p_original_price</th>\n",
       "      <th>p_discount_rate</th>\n",
       "    </tr>\n",
       "  </thead>\n",
       "  <tbody>\n",
       "    <tr>\n",
       "      <th>0</th>\n",
       "      <td>7</td>\n",
       "      <td>155</td>\n",
       "      <td>659.0</td>\n",
       "      <td>702</td>\n",
       "      <td>528000</td>\n",
       "      <td>49</td>\n",
       "    </tr>\n",
       "    <tr>\n",
       "      <th>1</th>\n",
       "      <td>84</td>\n",
       "      <td>198</td>\n",
       "      <td>974.0</td>\n",
       "      <td>12844</td>\n",
       "      <td>799000</td>\n",
       "      <td>46</td>\n",
       "    </tr>\n",
       "    <tr>\n",
       "      <th>2</th>\n",
       "      <td>84</td>\n",
       "      <td>192</td>\n",
       "      <td>1372.0</td>\n",
       "      <td>938</td>\n",
       "      <td>209000</td>\n",
       "      <td>0</td>\n",
       "    </tr>\n",
       "    <tr>\n",
       "      <th>3</th>\n",
       "      <td>7</td>\n",
       "      <td>155</td>\n",
       "      <td>593.0</td>\n",
       "      <td>10359</td>\n",
       "      <td>473000</td>\n",
       "      <td>50</td>\n",
       "    </tr>\n",
       "    <tr>\n",
       "      <th>4</th>\n",
       "      <td>15</td>\n",
       "      <td>145</td>\n",
       "      <td>529.0</td>\n",
       "      <td>2338</td>\n",
       "      <td>106000</td>\n",
       "      <td>16</td>\n",
       "    </tr>\n",
       "  </tbody>\n",
       "</table>\n",
       "</div>"
      ],
      "text/plain": [
       "   p_categories  p_brand  p_day_created  p_sold_quantity  p_original_price  \\\n",
       "0             7      155          659.0              702            528000   \n",
       "1            84      198          974.0            12844            799000   \n",
       "2            84      192         1372.0              938            209000   \n",
       "3             7      155          593.0            10359            473000   \n",
       "4            15      145          529.0             2338            106000   \n",
       "\n",
       "   p_discount_rate  \n",
       "0               49  \n",
       "1               46  \n",
       "2                0  \n",
       "3               50  \n",
       "4               16  "
      ]
     },
     "execution_count": 13,
     "metadata": {},
     "output_type": "execute_result"
    }
   ],
   "source": [
    "df = pd.read_csv('../../data/processed/canomical_data.csv')\n",
    "df.head()"
   ]
  },
  {
   "cell_type": "code",
   "execution_count": 14,
   "metadata": {},
   "outputs": [],
   "source": [
    "X = df.drop('p_sold_quantity', axis='columns')\n",
    "y = testLabels = df.p_sold_quantity\n",
    "\n",
    "X_train, X_test, y_train, y_test = train_test_split(X, y, test_size=0.2, random_state=15)"
   ]
  },
  {
   "cell_type": "code",
   "execution_count": 15,
   "metadata": {},
   "outputs": [],
   "source": [
    "def PolynomialRegression(degree=2, **kwargs):\n",
    "    return make_pipeline(StandardScaler(), PolynomialFeatures(degree), LinearRegression(**kwargs))"
   ]
  },
  {
   "cell_type": "code",
   "execution_count": 16,
   "metadata": {},
   "outputs": [],
   "source": [
    "param_grid = {'polynomialfeatures__degree': [3,4,5], 'linearregression__fit_intercept': [True, False], 'linearregression__normalize': [True, False]}"
   ]
  },
  {
   "cell_type": "code",
   "execution_count": 37,
   "metadata": {},
   "outputs": [],
   "source": [
    "gr_search = GridSearchCV(PolynomialRegression(), param_grid, \n",
    "                         cv=10, \n",
    "                         scoring='neg_mean_squared_error', \n",
    "                         verbose=3) "
   ]
  },
  {
   "cell_type": "code",
   "execution_count": 38,
   "metadata": {},
   "outputs": [
    {
     "name": "stdout",
     "output_type": "stream",
     "text": [
      "Fitting 10 folds for each of 12 candidates, totalling 120 fits\n",
      "[CV 1/10] END linearregression__fit_intercept=True, linearregression__normalize=True, polynomialfeatures__degree=3;, score=-2563759.263 total time=   0.0s\n",
      "[CV 2/10] END linearregression__fit_intercept=True, linearregression__normalize=True, polynomialfeatures__degree=3;, score=-5113337.189 total time=   0.0s\n",
      "[CV 3/10] END linearregression__fit_intercept=True, linearregression__normalize=True, polynomialfeatures__degree=3;, score=-1318412.826 total time=   0.0s\n",
      "[CV 4/10] END linearregression__fit_intercept=True, linearregression__normalize=True, polynomialfeatures__degree=3;, score=-962102.619 total time=   0.0s\n",
      "[CV 5/10] END linearregression__fit_intercept=True, linearregression__normalize=True, polynomialfeatures__degree=3;, score=-308075070042109050880.000 total time=   0.0s\n",
      "[CV 6/10] END linearregression__fit_intercept=True, linearregression__normalize=True, polynomialfeatures__degree=3;, score=-2886410.900 total time=   0.0s\n",
      "[CV 7/10] END linearregression__fit_intercept=True, linearregression__normalize=True, polynomialfeatures__degree=3;, score=-849737.866 total time=   0.0s\n",
      "[CV 8/10] END linearregression__fit_intercept=True, linearregression__normalize=True, polynomialfeatures__degree=3;, score=-2695577.570 total time=   0.1s\n",
      "[CV 9/10] END linearregression__fit_intercept=True, linearregression__normalize=True, polynomialfeatures__degree=3;, score=-747699.754 total time=   0.1s\n",
      "[CV 10/10] END linearregression__fit_intercept=True, linearregression__normalize=True, polynomialfeatures__degree=3;, score=-8685057.777 total time=   0.0s\n",
      "[CV 1/10] END linearregression__fit_intercept=True, linearregression__normalize=True, polynomialfeatures__degree=4;, score=-219421273.974 total time=   0.0s\n",
      "[CV 2/10] END linearregression__fit_intercept=True, linearregression__normalize=True, polynomialfeatures__degree=4;, score=-5212739.901 total time=   0.0s\n",
      "[CV 3/10] END linearregression__fit_intercept=True, linearregression__normalize=True, polynomialfeatures__degree=4;, score=-10063734256.518 total time=   0.0s\n",
      "[CV 4/10] END linearregression__fit_intercept=True, linearregression__normalize=True, polynomialfeatures__degree=4;, score=-4088569.983 total time=   0.1s\n",
      "[CV 5/10] END linearregression__fit_intercept=True, linearregression__normalize=True, polynomialfeatures__degree=4;, score=-1326799310144437111066984448.000 total time=   0.0s\n",
      "[CV 6/10] END linearregression__fit_intercept=True, linearregression__normalize=True, polynomialfeatures__degree=4;, score=-170241638.718 total time=   0.0s\n",
      "[CV 7/10] END linearregression__fit_intercept=True, linearregression__normalize=True, polynomialfeatures__degree=4;, score=-15765478.993 total time=   0.0s\n",
      "[CV 8/10] END linearregression__fit_intercept=True, linearregression__normalize=True, polynomialfeatures__degree=4;, score=-2473247.827 total time=   0.0s\n",
      "[CV 9/10] END linearregression__fit_intercept=True, linearregression__normalize=True, polynomialfeatures__degree=4;, score=-1751580.542 total time=   0.0s\n",
      "[CV 10/10] END linearregression__fit_intercept=True, linearregression__normalize=True, polynomialfeatures__degree=4;, score=-3497460613.862 total time=   0.0s\n",
      "[CV 1/10] END linearregression__fit_intercept=True, linearregression__normalize=True, polynomialfeatures__degree=5;, score=-316633702629.514 total time=   0.0s\n",
      "[CV 2/10] END linearregression__fit_intercept=True, linearregression__normalize=True, polynomialfeatures__degree=5;, score=-16687847.501 total time=   0.2s\n",
      "[CV 3/10] END linearregression__fit_intercept=True, linearregression__normalize=True, polynomialfeatures__degree=5;, score=-284784078432965.062 total time=   0.1s\n",
      "[CV 4/10] END linearregression__fit_intercept=True, linearregression__normalize=True, polynomialfeatures__degree=5;, score=-24709130537.971 total time=   0.0s\n",
      "[CV 5/10] END linearregression__fit_intercept=True, linearregression__normalize=True, polynomialfeatures__degree=5;, score=-1190417429668745653763612723904512.000 total time=   0.0s\n",
      "[CV 6/10] END linearregression__fit_intercept=True, linearregression__normalize=True, polynomialfeatures__degree=5;, score=-45755686671.671 total time=   0.0s\n",
      "[CV 7/10] END linearregression__fit_intercept=True, linearregression__normalize=True, polynomialfeatures__degree=5;, score=-181936056985.084 total time=   0.1s\n",
      "[CV 8/10] END linearregression__fit_intercept=True, linearregression__normalize=True, polynomialfeatures__degree=5;, score=-38883742.191 total time=   0.0s\n",
      "[CV 9/10] END linearregression__fit_intercept=True, linearregression__normalize=True, polynomialfeatures__degree=5;, score=-36072362.475 total time=   0.0s\n",
      "[CV 10/10] END linearregression__fit_intercept=True, linearregression__normalize=True, polynomialfeatures__degree=5;, score=-89925200820.283 total time=   0.0s\n",
      "[CV 1/10] END linearregression__fit_intercept=True, linearregression__normalize=False, polynomialfeatures__degree=3;, score=-2351275.970 total time=   0.0s\n",
      "[CV 2/10] END linearregression__fit_intercept=True, linearregression__normalize=False, polynomialfeatures__degree=3;, score=-5115138.298 total time=   0.0s\n",
      "[CV 3/10] END linearregression__fit_intercept=True, linearregression__normalize=False, polynomialfeatures__degree=3;, score=-5295265.578 total time=   0.0s\n",
      "[CV 4/10] END linearregression__fit_intercept=True, linearregression__normalize=False, polynomialfeatures__degree=3;, score=-893075.019 total time=   0.0s\n",
      "[CV 5/10] END linearregression__fit_intercept=True, linearregression__normalize=False, polynomialfeatures__degree=3;, score=-308075070042099089408.000 total time=   0.0s\n",
      "[CV 6/10] END linearregression__fit_intercept=True, linearregression__normalize=False, polynomialfeatures__degree=3;, score=-3410341.860 total time=   0.1s\n",
      "[CV 7/10] END linearregression__fit_intercept=True, linearregression__normalize=False, polynomialfeatures__degree=3;, score=-1092769.911 total time=   0.2s\n",
      "[CV 8/10] END linearregression__fit_intercept=True, linearregression__normalize=False, polynomialfeatures__degree=3;, score=-3008824.699 total time=   0.0s\n",
      "[CV 9/10] END linearregression__fit_intercept=True, linearregression__normalize=False, polynomialfeatures__degree=3;, score=-750195.287 total time=   0.0s\n",
      "[CV 10/10] END linearregression__fit_intercept=True, linearregression__normalize=False, polynomialfeatures__degree=3;, score=-8685057.777 total time=   0.0s\n",
      "[CV 1/10] END linearregression__fit_intercept=True, linearregression__normalize=False, polynomialfeatures__degree=4;, score=-219421278.842 total time=   0.0s\n",
      "[CV 2/10] END linearregression__fit_intercept=True, linearregression__normalize=False, polynomialfeatures__degree=4;, score=-5212739.899 total time=   0.0s\n",
      "[CV 3/10] END linearregression__fit_intercept=True, linearregression__normalize=False, polynomialfeatures__degree=4;, score=-10063734292.932 total time=   0.0s\n",
      "[CV 4/10] END linearregression__fit_intercept=True, linearregression__normalize=False, polynomialfeatures__degree=4;, score=-4088570.015 total time=   0.0s\n",
      "[CV 5/10] END linearregression__fit_intercept=True, linearregression__normalize=False, polynomialfeatures__degree=4;, score=-1326799310165365215390072832.000 total time=   0.0s\n",
      "[CV 6/10] END linearregression__fit_intercept=True, linearregression__normalize=False, polynomialfeatures__degree=4;, score=-114110331.624 total time=   0.0s\n",
      "[CV 7/10] END linearregression__fit_intercept=True, linearregression__normalize=False, polynomialfeatures__degree=4;, score=-15191557.790 total time=   0.0s\n",
      "[CV 8/10] END linearregression__fit_intercept=True, linearregression__normalize=False, polynomialfeatures__degree=4;, score=-2473247.827 total time=   0.1s\n",
      "[CV 9/10] END linearregression__fit_intercept=True, linearregression__normalize=False, polynomialfeatures__degree=4;, score=-1151838.903 total time=   0.0s\n",
      "[CV 10/10] END linearregression__fit_intercept=True, linearregression__normalize=False, polynomialfeatures__degree=4;, score=-3497460621.915 total time=   0.0s\n",
      "[CV 1/10] END linearregression__fit_intercept=True, linearregression__normalize=False, polynomialfeatures__degree=5;, score=-306219313329.310 total time=   0.1s\n",
      "[CV 2/10] END linearregression__fit_intercept=True, linearregression__normalize=False, polynomialfeatures__degree=5;, score=-11343433.086 total time=   0.1s\n",
      "[CV 3/10] END linearregression__fit_intercept=True, linearregression__normalize=False, polynomialfeatures__degree=5;, score=-216032068160921.688 total time=   0.1s\n",
      "[CV 4/10] END linearregression__fit_intercept=True, linearregression__normalize=False, polynomialfeatures__degree=5;, score=-25448519388.654 total time=   0.3s\n",
      "[CV 5/10] END linearregression__fit_intercept=True, linearregression__normalize=False, polynomialfeatures__degree=5;, score=-1190417429714644467668327833010176.000 total time=   0.1s\n",
      "[CV 6/10] END linearregression__fit_intercept=True, linearregression__normalize=False, polynomialfeatures__degree=5;, score=-45138970476.056 total time=   0.0s\n",
      "[CV 7/10] END linearregression__fit_intercept=True, linearregression__normalize=False, polynomialfeatures__degree=5;, score=-181034926987.558 total time=   0.2s\n",
      "[CV 8/10] END linearregression__fit_intercept=True, linearregression__normalize=False, polynomialfeatures__degree=5;, score=-40307497.607 total time=   0.5s\n",
      "[CV 9/10] END linearregression__fit_intercept=True, linearregression__normalize=False, polynomialfeatures__degree=5;, score=-33983148.340 total time=   0.1s\n",
      "[CV 10/10] END linearregression__fit_intercept=True, linearregression__normalize=False, polynomialfeatures__degree=5;, score=-107554316128.240 total time=   0.0s\n",
      "[CV 1/10] END linearregression__fit_intercept=False, linearregression__normalize=True, polynomialfeatures__degree=3;, score=-2563759.263 total time=   0.0s\n",
      "[CV 2/10] END linearregression__fit_intercept=False, linearregression__normalize=True, polynomialfeatures__degree=3;, score=-5070607.691 total time=   0.0s\n",
      "[CV 3/10] END linearregression__fit_intercept=False, linearregression__normalize=True, polynomialfeatures__degree=3;, score=-1318412.826 total time=   0.0s\n",
      "[CV 4/10] END linearregression__fit_intercept=False, linearregression__normalize=True, polynomialfeatures__degree=3;, score=-962102.619 total time=   0.1s\n",
      "[CV 5/10] END linearregression__fit_intercept=False, linearregression__normalize=True, polynomialfeatures__degree=3;, score=-308075070042104463360.000 total time=   0.0s\n",
      "[CV 6/10] END linearregression__fit_intercept=False, linearregression__normalize=True, polynomialfeatures__degree=3;, score=-2886410.900 total time=   0.0s\n",
      "[CV 7/10] END linearregression__fit_intercept=False, linearregression__normalize=True, polynomialfeatures__degree=3;, score=-888558.179 total time=   0.0s\n",
      "[CV 8/10] END linearregression__fit_intercept=False, linearregression__normalize=True, polynomialfeatures__degree=3;, score=-2603589.412 total time=   0.0s\n",
      "[CV 9/10] END linearregression__fit_intercept=False, linearregression__normalize=True, polynomialfeatures__degree=3;, score=-750195.287 total time=   0.0s\n",
      "[CV 10/10] END linearregression__fit_intercept=False, linearregression__normalize=True, polynomialfeatures__degree=3;, score=-8685057.777 total time=   0.0s\n",
      "[CV 1/10] END linearregression__fit_intercept=False, linearregression__normalize=True, polynomialfeatures__degree=4;, score=-219421281.667 total time=   0.1s\n",
      "[CV 2/10] END linearregression__fit_intercept=False, linearregression__normalize=True, polynomialfeatures__degree=4;, score=-5212739.898 total time=   0.0s\n",
      "[CV 3/10] END linearregression__fit_intercept=False, linearregression__normalize=True, polynomialfeatures__degree=4;, score=-10063734230.990 total time=   0.0s\n",
      "[CV 4/10] END linearregression__fit_intercept=False, linearregression__normalize=True, polynomialfeatures__degree=4;, score=-4088569.968 total time=   0.0s\n",
      "[CV 5/10] END linearregression__fit_intercept=False, linearregression__normalize=True, polynomialfeatures__degree=4;, score=-1326799310137499467573624832.000 total time=   0.1s\n",
      "[CV 6/10] END linearregression__fit_intercept=False, linearregression__normalize=True, polynomialfeatures__degree=4;, score=-114110331.561 total time=   0.0s\n",
      "[CV 7/10] END linearregression__fit_intercept=False, linearregression__normalize=True, polynomialfeatures__degree=4;, score=-15814380.681 total time=   0.0s\n",
      "[CV 8/10] END linearregression__fit_intercept=False, linearregression__normalize=True, polynomialfeatures__degree=4;, score=-2473247.827 total time=   0.0s\n",
      "[CV 9/10] END linearregression__fit_intercept=False, linearregression__normalize=True, polynomialfeatures__degree=4;, score=-1151838.906 total time=   0.0s\n",
      "[CV 10/10] END linearregression__fit_intercept=False, linearregression__normalize=True, polynomialfeatures__degree=4;, score=-3497460613.118 total time=   0.0s\n",
      "[CV 1/10] END linearregression__fit_intercept=False, linearregression__normalize=True, polynomialfeatures__degree=5;, score=-316838499572.344 total time=   0.0s\n",
      "[CV 2/10] END linearregression__fit_intercept=False, linearregression__normalize=True, polynomialfeatures__degree=5;, score=-16693617.783 total time=   0.0s\n",
      "[CV 3/10] END linearregression__fit_intercept=False, linearregression__normalize=True, polynomialfeatures__degree=5;, score=-282843336890677.875 total time=   0.1s\n",
      "[CV 4/10] END linearregression__fit_intercept=False, linearregression__normalize=True, polynomialfeatures__degree=5;, score=-24709174790.953 total time=   0.0s\n",
      "[CV 5/10] END linearregression__fit_intercept=False, linearregression__normalize=True, polynomialfeatures__degree=5;, score=-1190417429672723088839318270115840.000 total time=   0.0s\n",
      "[CV 6/10] END linearregression__fit_intercept=False, linearregression__normalize=True, polynomialfeatures__degree=5;, score=-45755485709.720 total time=   0.1s\n",
      "[CV 7/10] END linearregression__fit_intercept=False, linearregression__normalize=True, polynomialfeatures__degree=5;, score=-181607772447.747 total time=   0.1s\n",
      "[CV 8/10] END linearregression__fit_intercept=False, linearregression__normalize=True, polynomialfeatures__degree=5;, score=-38883710.244 total time=   0.1s\n",
      "[CV 9/10] END linearregression__fit_intercept=False, linearregression__normalize=True, polynomialfeatures__degree=5;, score=-36072282.105 total time=   0.1s\n",
      "[CV 10/10] END linearregression__fit_intercept=False, linearregression__normalize=True, polynomialfeatures__degree=5;, score=-90845083920.215 total time=   0.1s\n",
      "[CV 1/10] END linearregression__fit_intercept=False, linearregression__normalize=False, polynomialfeatures__degree=3;, score=-2563759.263 total time=   0.0s\n",
      "[CV 2/10] END linearregression__fit_intercept=False, linearregression__normalize=False, polynomialfeatures__degree=3;, score=-5070607.691 total time=   0.0s\n",
      "[CV 3/10] END linearregression__fit_intercept=False, linearregression__normalize=False, polynomialfeatures__degree=3;, score=-1318412.826 total time=   0.0s\n",
      "[CV 4/10] END linearregression__fit_intercept=False, linearregression__normalize=False, polynomialfeatures__degree=3;, score=-962102.619 total time=   0.0s\n",
      "[CV 5/10] END linearregression__fit_intercept=False, linearregression__normalize=False, polynomialfeatures__degree=3;, score=-308075070042104463360.000 total time=   0.0s\n",
      "[CV 6/10] END linearregression__fit_intercept=False, linearregression__normalize=False, polynomialfeatures__degree=3;, score=-2886410.900 total time=   0.0s\n",
      "[CV 7/10] END linearregression__fit_intercept=False, linearregression__normalize=False, polynomialfeatures__degree=3;, score=-888558.179 total time=   0.0s\n",
      "[CV 8/10] END linearregression__fit_intercept=False, linearregression__normalize=False, polynomialfeatures__degree=3;, score=-2603589.412 total time=   0.0s\n",
      "[CV 9/10] END linearregression__fit_intercept=False, linearregression__normalize=False, polynomialfeatures__degree=3;, score=-750195.287 total time=   0.0s\n",
      "[CV 10/10] END linearregression__fit_intercept=False, linearregression__normalize=False, polynomialfeatures__degree=3;, score=-8685057.777 total time=   0.0s\n",
      "[CV 1/10] END linearregression__fit_intercept=False, linearregression__normalize=False, polynomialfeatures__degree=4;, score=-219421281.667 total time=   0.0s\n",
      "[CV 2/10] END linearregression__fit_intercept=False, linearregression__normalize=False, polynomialfeatures__degree=4;, score=-5212739.898 total time=   0.0s\n",
      "[CV 3/10] END linearregression__fit_intercept=False, linearregression__normalize=False, polynomialfeatures__degree=4;, score=-10063734230.990 total time=   0.0s\n",
      "[CV 4/10] END linearregression__fit_intercept=False, linearregression__normalize=False, polynomialfeatures__degree=4;, score=-4088569.968 total time=   0.0s\n",
      "[CV 5/10] END linearregression__fit_intercept=False, linearregression__normalize=False, polynomialfeatures__degree=4;, score=-1326799310137499467573624832.000 total time=   0.0s\n",
      "[CV 6/10] END linearregression__fit_intercept=False, linearregression__normalize=False, polynomialfeatures__degree=4;, score=-114110331.561 total time=   0.1s\n",
      "[CV 7/10] END linearregression__fit_intercept=False, linearregression__normalize=False, polynomialfeatures__degree=4;, score=-15814380.681 total time=   0.1s\n",
      "[CV 8/10] END linearregression__fit_intercept=False, linearregression__normalize=False, polynomialfeatures__degree=4;, score=-2473247.827 total time=   0.0s\n",
      "[CV 9/10] END linearregression__fit_intercept=False, linearregression__normalize=False, polynomialfeatures__degree=4;, score=-1151838.906 total time=   0.0s\n",
      "[CV 10/10] END linearregression__fit_intercept=False, linearregression__normalize=False, polynomialfeatures__degree=4;, score=-3497460613.118 total time=   0.1s\n",
      "[CV 1/10] END linearregression__fit_intercept=False, linearregression__normalize=False, polynomialfeatures__degree=5;, score=-316838499572.344 total time=   0.1s\n",
      "[CV 2/10] END linearregression__fit_intercept=False, linearregression__normalize=False, polynomialfeatures__degree=5;, score=-16693617.783 total time=   0.0s\n",
      "[CV 3/10] END linearregression__fit_intercept=False, linearregression__normalize=False, polynomialfeatures__degree=5;, score=-282843336890677.875 total time=   0.0s\n",
      "[CV 4/10] END linearregression__fit_intercept=False, linearregression__normalize=False, polynomialfeatures__degree=5;, score=-24709174790.953 total time=   0.1s\n",
      "[CV 5/10] END linearregression__fit_intercept=False, linearregression__normalize=False, polynomialfeatures__degree=5;, score=-1190417429672723088839318270115840.000 total time=   0.2s\n",
      "[CV 6/10] END linearregression__fit_intercept=False, linearregression__normalize=False, polynomialfeatures__degree=5;, score=-45755485709.720 total time=   0.1s\n",
      "[CV 7/10] END linearregression__fit_intercept=False, linearregression__normalize=False, polynomialfeatures__degree=5;, score=-181607772447.747 total time=   0.0s\n",
      "[CV 8/10] END linearregression__fit_intercept=False, linearregression__normalize=False, polynomialfeatures__degree=5;, score=-38883710.244 total time=   0.0s\n",
      "[CV 9/10] END linearregression__fit_intercept=False, linearregression__normalize=False, polynomialfeatures__degree=5;, score=-36072282.105 total time=   0.0s\n",
      "[CV 10/10] END linearregression__fit_intercept=False, linearregression__normalize=False, polynomialfeatures__degree=5;, score=-90845083920.215 total time=   0.0s\n"
     ]
    },
    {
     "data": {
      "text/plain": [
       "GridSearchCV(cv=10,\n",
       "             estimator=Pipeline(steps=[('standardscaler', StandardScaler()),\n",
       "                                       ('polynomialfeatures',\n",
       "                                        PolynomialFeatures()),\n",
       "                                       ('linearregression',\n",
       "                                        LinearRegression())]),\n",
       "             param_grid={'linearregression__fit_intercept': [True, False],\n",
       "                         'linearregression__normalize': [True, False],\n",
       "                         'polynomialfeatures__degree': [3, 4, 5]},\n",
       "             scoring='neg_mean_squared_error', verbose=3)"
      ]
     },
     "execution_count": 38,
     "metadata": {},
     "output_type": "execute_result"
    }
   ],
   "source": [
    "gr_search.fit(X_train, y_train)"
   ]
  },
  {
   "cell_type": "code",
   "execution_count": 39,
   "metadata": {},
   "outputs": [
    {
     "name": "stdout",
     "output_type": "stream",
     "text": [
      "Best Score: -3.080750700421297e+19\n",
      "Best Hyperparameters: {'linearregression__fit_intercept': True, 'linearregression__normalize': False, 'polynomialfeatures__degree': 3}\n"
     ]
    }
   ],
   "source": [
    "print('Best Score: %s' % gr_search.best_score_)\n",
    "print('Best Hyperparameters: %s' % gr_search.best_params_)"
   ]
  },
  {
   "cell_type": "code",
   "execution_count": 33,
   "metadata": {},
   "outputs": [],
   "source": [
    "poly_grid = PolynomialRegression(degree=3, fit_intercept=True, normalize=True)"
   ]
  },
  {
   "cell_type": "code",
   "execution_count": 34,
   "metadata": {},
   "outputs": [
    {
     "data": {
      "text/plain": [
       "Pipeline(steps=[('standardscaler', StandardScaler()),\n",
       "                ('polynomialfeatures', PolynomialFeatures(degree=3)),\n",
       "                ('linearregression',\n",
       "                 LinearRegression(fit_intercept=False, normalize=True))])"
      ]
     },
     "execution_count": 34,
     "metadata": {},
     "output_type": "execute_result"
    }
   ],
   "source": [
    "poly_grid.fit(X_train, y_train)"
   ]
  },
  {
   "cell_type": "code",
   "execution_count": 35,
   "metadata": {},
   "outputs": [],
   "source": [
    "y_pred = poly_grid.predict(X_test)"
   ]
  },
  {
   "cell_type": "code",
   "execution_count": 36,
   "metadata": {},
   "outputs": [
    {
     "name": "stdout",
     "output_type": "stream",
     "text": [
      "MSE:  1013254.5587644045\n",
      "MAE:  536.8049929030808\n",
      "RMSE:  1006.6054633094361\n",
      "R2:  0.39989970873970015\n",
      "0.39989970873970015\n"
     ]
    }
   ],
   "source": [
    "from sklearn.metrics import mean_absolute_error\n",
    "print('MSE: ', mean_squared_error(y_test, y_pred))\n",
    "print('MAE: ', mean_absolute_error(y_test, y_pred))\n",
    "print('RMSE: ', np.sqrt(mean_squared_error(y_test, y_pred)))\n",
    "print('R2: ', poly_grid.score(X_test, y_test))\n",
    "print(poly_grid.score(X_test, y_test))"
   ]
  },
  {
   "cell_type": "code",
   "execution_count": null,
   "metadata": {},
   "outputs": [],
   "source": []
  }
 ],
 "metadata": {
  "kernelspec": {
   "display_name": "min_ds-env",
   "language": "python",
   "name": "python3"
  },
  "language_info": {
   "codemirror_mode": {
    "name": "ipython",
    "version": 3
   },
   "file_extension": ".py",
   "mimetype": "text/x-python",
   "name": "python",
   "nbconvert_exporter": "python",
   "pygments_lexer": "ipython3",
   "version": "3.8.8"
  },
  "orig_nbformat": 4,
  "vscode": {
   "interpreter": {
    "hash": "a5e1ec076bd572246a92e5395011ccb4d0c3c0a63992a65b30abbf30f49ecb0c"
   }
  }
 },
 "nbformat": 4,
 "nbformat_minor": 2
}
