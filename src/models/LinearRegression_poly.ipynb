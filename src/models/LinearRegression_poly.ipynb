{
 "cells": [
  {
   "cell_type": "code",
   "execution_count": 64,
   "metadata": {},
   "outputs": [],
   "source": [
    "import numpy as np\n",
    "import pandas as pd\n",
    "import seaborn as sns\n",
    "from sklearn.model_selection import RepeatedStratifiedKFold, cross_val_score, GridSearchCV, train_test_split\n",
    "from sklearn.pipeline import make_pipeline\n",
    "from sklearn.preprocessing import PolynomialFeatures, StandardScaler\n",
    "from sklearn.linear_model import LinearRegression\n",
    "\n",
    "from sklearn.metrics import accuracy_score, confusion_matrix, classification_report, mean_squared_error\n",
    "import warnings \n",
    "warnings.filterwarnings('ignore')\n",
    "\n",
    "%matplotlib inline"
   ]
  },
  {
   "attachments": {},
   "cell_type": "markdown",
   "metadata": {},
   "source": [
    "### 1. Read data"
   ]
  },
  {
   "cell_type": "code",
   "execution_count": 65,
   "metadata": {},
   "outputs": [
    {
     "data": {
      "text/html": [
       "<div>\n",
       "<style scoped>\n",
       "    .dataframe tbody tr th:only-of-type {\n",
       "        vertical-align: middle;\n",
       "    }\n",
       "\n",
       "    .dataframe tbody tr th {\n",
       "        vertical-align: top;\n",
       "    }\n",
       "\n",
       "    .dataframe thead th {\n",
       "        text-align: right;\n",
       "    }\n",
       "</style>\n",
       "<table border=\"1\" class=\"dataframe\">\n",
       "  <thead>\n",
       "    <tr style=\"text-align: right;\">\n",
       "      <th></th>\n",
       "      <th>p_categories</th>\n",
       "      <th>p_brand</th>\n",
       "      <th>p_day_created</th>\n",
       "      <th>p_sold_quantity</th>\n",
       "      <th>p_original_price</th>\n",
       "      <th>p_discount_rate</th>\n",
       "    </tr>\n",
       "  </thead>\n",
       "  <tbody>\n",
       "    <tr>\n",
       "      <th>0</th>\n",
       "      <td>7</td>\n",
       "      <td>155</td>\n",
       "      <td>659.0</td>\n",
       "      <td>702</td>\n",
       "      <td>528000</td>\n",
       "      <td>49</td>\n",
       "    </tr>\n",
       "    <tr>\n",
       "      <th>1</th>\n",
       "      <td>84</td>\n",
       "      <td>198</td>\n",
       "      <td>974.0</td>\n",
       "      <td>12844</td>\n",
       "      <td>799000</td>\n",
       "      <td>46</td>\n",
       "    </tr>\n",
       "    <tr>\n",
       "      <th>2</th>\n",
       "      <td>84</td>\n",
       "      <td>192</td>\n",
       "      <td>1372.0</td>\n",
       "      <td>938</td>\n",
       "      <td>209000</td>\n",
       "      <td>0</td>\n",
       "    </tr>\n",
       "    <tr>\n",
       "      <th>3</th>\n",
       "      <td>7</td>\n",
       "      <td>155</td>\n",
       "      <td>593.0</td>\n",
       "      <td>10359</td>\n",
       "      <td>473000</td>\n",
       "      <td>50</td>\n",
       "    </tr>\n",
       "    <tr>\n",
       "      <th>4</th>\n",
       "      <td>15</td>\n",
       "      <td>145</td>\n",
       "      <td>529.0</td>\n",
       "      <td>2338</td>\n",
       "      <td>106000</td>\n",
       "      <td>16</td>\n",
       "    </tr>\n",
       "  </tbody>\n",
       "</table>\n",
       "</div>"
      ],
      "text/plain": [
       "   p_categories  p_brand  p_day_created  p_sold_quantity  p_original_price  \\\n",
       "0             7      155          659.0              702            528000   \n",
       "1            84      198          974.0            12844            799000   \n",
       "2            84      192         1372.0              938            209000   \n",
       "3             7      155          593.0            10359            473000   \n",
       "4            15      145          529.0             2338            106000   \n",
       "\n",
       "   p_discount_rate  \n",
       "0               49  \n",
       "1               46  \n",
       "2                0  \n",
       "3               50  \n",
       "4               16  "
      ]
     },
     "execution_count": 65,
     "metadata": {},
     "output_type": "execute_result"
    }
   ],
   "source": [
    "df = pd.read_csv('../../data/processed/canomical_data.csv')\n",
    "df.head()"
   ]
  },
  {
   "attachments": {},
   "cell_type": "markdown",
   "metadata": {},
   "source": [
    "### 2. Train test split\n",
    "&#9889; This cell we choose columns X and y to split train test. Test set with size 20% and Train set with size 80% "
   ]
  },
  {
   "cell_type": "code",
   "execution_count": 66,
   "metadata": {},
   "outputs": [],
   "source": [
    "X = df.drop(['p_sold_quantity', 'p_brand', 'p_categories', 'p_original_price'], axis='columns')\n",
    "y = testLabels = df.p_sold_quantity\n",
    "\n",
    "X_train, X_test, y_train, y_test = train_test_split(X, y, test_size=0.2, random_state=15)"
   ]
  },
  {
   "attachments": {},
   "cell_type": "markdown",
   "metadata": {},
   "source": [
    "#### Make polynomial regression by pipeline "
   ]
  },
  {
   "cell_type": "code",
   "execution_count": 67,
   "metadata": {},
   "outputs": [],
   "source": [
    "def PolynomialRegression(degree=2, **kwargs):\n",
    "    return make_pipeline(StandardScaler(), PolynomialFeatures(degree), LinearRegression(**kwargs))"
   ]
  },
  {
   "attachments": {},
   "cell_type": "markdown",
   "metadata": {},
   "source": [
    "#### Create paramater grid to use GridSearchCV"
   ]
  },
  {
   "cell_type": "code",
   "execution_count": 68,
   "metadata": {},
   "outputs": [],
   "source": [
    "param_grid = {\n",
    "   'polynomialfeatures__degree': [3,4,5], \n",
    "   'linearregression__fit_intercept': [True, False], \n",
    "   'linearregression__normalize': [True, False]\n",
    "}"
   ]
  },
  {
   "cell_type": "code",
   "execution_count": 69,
   "metadata": {},
   "outputs": [],
   "source": [
    "gr_search = GridSearchCV(PolynomialRegression(), \n",
    "                         param_grid, \n",
    "                         cv=20, \n",
    "                         scoring='neg_mean_squared_error', \n",
    "                         verbose=3) "
   ]
  },
  {
   "attachments": {},
   "cell_type": "markdown",
   "metadata": {},
   "source": [
    "#### Fit grid search to find best score and best param "
   ]
  },
  {
   "cell_type": "code",
   "execution_count": 70,
   "metadata": {},
   "outputs": [
    {
     "name": "stdout",
     "output_type": "stream",
     "text": [
      "Fitting 20 folds for each of 12 candidates, totalling 240 fits\n",
      "[CV 1/20] END linearregression__fit_intercept=True, linearregression__normalize=True, polynomialfeatures__degree=3;, score=-1708423.523 total time=   0.0s\n",
      "[CV 2/20] END linearregression__fit_intercept=True, linearregression__normalize=True, polynomialfeatures__degree=3;, score=-1333553.509 total time=   0.0s\n",
      "[CV 3/20] END linearregression__fit_intercept=True, linearregression__normalize=True, polynomialfeatures__degree=3;, score=-1643157.396 total time=   0.0s\n",
      "[CV 4/20] END linearregression__fit_intercept=True, linearregression__normalize=True, polynomialfeatures__degree=3;, score=-8756005.515 total time=   0.0s\n",
      "[CV 5/20] END linearregression__fit_intercept=True, linearregression__normalize=True, polynomialfeatures__degree=3;, score=-1347332.540 total time=   0.0s\n",
      "[CV 6/20] END linearregression__fit_intercept=True, linearregression__normalize=True, polynomialfeatures__degree=3;, score=-528035.647 total time=   0.0s\n",
      "[CV 7/20] END linearregression__fit_intercept=True, linearregression__normalize=True, polynomialfeatures__degree=3;, score=-466509.243 total time=   0.0s\n",
      "[CV 8/20] END linearregression__fit_intercept=True, linearregression__normalize=True, polynomialfeatures__degree=3;, score=-1241657.605 total time=   0.0s\n",
      "[CV 9/20] END linearregression__fit_intercept=True, linearregression__normalize=True, polynomialfeatures__degree=3;, score=-2149241.409 total time=   0.0s\n",
      "[CV 10/20] END linearregression__fit_intercept=True, linearregression__normalize=True, polynomialfeatures__degree=3;, score=-555044829209572409344.000 total time=   0.0s\n",
      "[CV 11/20] END linearregression__fit_intercept=True, linearregression__normalize=True, polynomialfeatures__degree=3;, score=-643511.897 total time=   0.0s\n",
      "[CV 12/20] END linearregression__fit_intercept=True, linearregression__normalize=True, polynomialfeatures__degree=3;, score=-4267638.330 total time=   0.0s\n",
      "[CV 13/20] END linearregression__fit_intercept=True, linearregression__normalize=True, polynomialfeatures__degree=3;, score=-678404.483 total time=   0.0s\n",
      "[CV 14/20] END linearregression__fit_intercept=True, linearregression__normalize=True, polynomialfeatures__degree=3;, score=-852200.702 total time=   0.0s\n",
      "[CV 15/20] END linearregression__fit_intercept=True, linearregression__normalize=True, polynomialfeatures__degree=3;, score=-933529.289 total time=   0.0s\n",
      "[CV 16/20] END linearregression__fit_intercept=True, linearregression__normalize=True, polynomialfeatures__degree=3;, score=-4227103.150 total time=   0.0s\n",
      "[CV 17/20] END linearregression__fit_intercept=True, linearregression__normalize=True, polynomialfeatures__degree=3;, score=-1115789.714 total time=   0.0s\n",
      "[CV 18/20] END linearregression__fit_intercept=True, linearregression__normalize=True, polynomialfeatures__degree=3;, score=-557780.927 total time=   0.0s\n",
      "[CV 19/20] END linearregression__fit_intercept=True, linearregression__normalize=True, polynomialfeatures__degree=3;, score=-609043.153 total time=   0.0s\n",
      "[CV 20/20] END linearregression__fit_intercept=True, linearregression__normalize=True, polynomialfeatures__degree=3;, score=-4172515.940 total time=   0.0s\n",
      "[CV 1/20] END linearregression__fit_intercept=True, linearregression__normalize=True, polynomialfeatures__degree=4;, score=-1576667.934 total time=   0.0s\n",
      "[CV 2/20] END linearregression__fit_intercept=True, linearregression__normalize=True, polynomialfeatures__degree=4;, score=-1226481.814 total time=   0.0s\n",
      "[CV 3/20] END linearregression__fit_intercept=True, linearregression__normalize=True, polynomialfeatures__degree=4;, score=-1591451.026 total time=   0.0s\n",
      "[CV 4/20] END linearregression__fit_intercept=True, linearregression__normalize=True, polynomialfeatures__degree=4;, score=-8455603.205 total time=   0.0s\n",
      "[CV 5/20] END linearregression__fit_intercept=True, linearregression__normalize=True, polynomialfeatures__degree=4;, score=-1362843.139 total time=   0.0s\n",
      "[CV 6/20] END linearregression__fit_intercept=True, linearregression__normalize=True, polynomialfeatures__degree=4;, score=-473480.242 total time=   0.0s\n",
      "[CV 7/20] END linearregression__fit_intercept=True, linearregression__normalize=True, polynomialfeatures__degree=4;, score=-416978.844 total time=   0.0s\n",
      "[CV 8/20] END linearregression__fit_intercept=True, linearregression__normalize=True, polynomialfeatures__degree=4;, score=-1162925.474 total time=   0.0s\n",
      "[CV 9/20] END linearregression__fit_intercept=True, linearregression__normalize=True, polynomialfeatures__degree=4;, score=-3355240.402 total time=   0.0s\n",
      "[CV 10/20] END linearregression__fit_intercept=True, linearregression__normalize=True, polynomialfeatures__degree=4;, score=-1355023293467942902776725504.000 total time=   0.0s\n",
      "[CV 11/20] END linearregression__fit_intercept=True, linearregression__normalize=True, polynomialfeatures__degree=4;, score=-554630.135 total time=   0.0s\n",
      "[CV 12/20] END linearregression__fit_intercept=True, linearregression__normalize=True, polynomialfeatures__degree=4;, score=-5305996.796 total time=   0.0s\n",
      "[CV 13/20] END linearregression__fit_intercept=True, linearregression__normalize=True, polynomialfeatures__degree=4;, score=-625352.621 total time=   0.0s\n",
      "[CV 14/20] END linearregression__fit_intercept=True, linearregression__normalize=True, polynomialfeatures__degree=4;, score=-721308.859 total time=   0.0s\n",
      "[CV 15/20] END linearregression__fit_intercept=True, linearregression__normalize=True, polynomialfeatures__degree=4;, score=-744222.100 total time=   0.0s\n",
      "[CV 16/20] END linearregression__fit_intercept=True, linearregression__normalize=True, polynomialfeatures__degree=4;, score=-4605879.410 total time=   0.0s\n",
      "[CV 17/20] END linearregression__fit_intercept=True, linearregression__normalize=True, polynomialfeatures__degree=4;, score=-1130531.474 total time=   0.0s\n",
      "[CV 18/20] END linearregression__fit_intercept=True, linearregression__normalize=True, polynomialfeatures__degree=4;, score=-359003.092 total time=   0.0s\n",
      "[CV 19/20] END linearregression__fit_intercept=True, linearregression__normalize=True, polynomialfeatures__degree=4;, score=-564586.529 total time=   0.0s\n",
      "[CV 20/20] END linearregression__fit_intercept=True, linearregression__normalize=True, polynomialfeatures__degree=4;, score=-3815134.017 total time=   0.0s\n",
      "[CV 1/20] END linearregression__fit_intercept=True, linearregression__normalize=True, polynomialfeatures__degree=5;, score=-1666803.425 total time=   0.0s\n",
      "[CV 2/20] END linearregression__fit_intercept=True, linearregression__normalize=True, polynomialfeatures__degree=5;, score=-1223915.433 total time=   0.0s\n",
      "[CV 3/20] END linearregression__fit_intercept=True, linearregression__normalize=True, polynomialfeatures__degree=5;, score=-1620161.198 total time=   0.0s\n",
      "[CV 4/20] END linearregression__fit_intercept=True, linearregression__normalize=True, polynomialfeatures__degree=5;, score=-8277007.118 total time=   0.1s\n",
      "[CV 5/20] END linearregression__fit_intercept=True, linearregression__normalize=True, polynomialfeatures__degree=5;, score=-1357717.487 total time=   0.1s\n",
      "[CV 6/20] END linearregression__fit_intercept=True, linearregression__normalize=True, polynomialfeatures__degree=5;, score=-510968.371 total time=   0.0s\n",
      "[CV 7/20] END linearregression__fit_intercept=True, linearregression__normalize=True, polynomialfeatures__degree=5;, score=-480234.378 total time=   0.0s\n",
      "[CV 8/20] END linearregression__fit_intercept=True, linearregression__normalize=True, polynomialfeatures__degree=5;, score=-1128351.762 total time=   0.0s\n",
      "[CV 9/20] END linearregression__fit_intercept=True, linearregression__normalize=True, polynomialfeatures__degree=5;, score=-4188225.707 total time=   0.0s\n",
      "[CV 10/20] END linearregression__fit_intercept=True, linearregression__normalize=True, polynomialfeatures__degree=5;, score=-64615700123290239433796000677888.000 total time=   0.0s\n",
      "[CV 11/20] END linearregression__fit_intercept=True, linearregression__normalize=True, polynomialfeatures__degree=5;, score=-627442.232 total time=   0.0s\n",
      "[CV 12/20] END linearregression__fit_intercept=True, linearregression__normalize=True, polynomialfeatures__degree=5;, score=-8776931.425 total time=   0.0s\n",
      "[CV 13/20] END linearregression__fit_intercept=True, linearregression__normalize=True, polynomialfeatures__degree=5;, score=-582238.923 total time=   0.0s\n",
      "[CV 14/20] END linearregression__fit_intercept=True, linearregression__normalize=True, polynomialfeatures__degree=5;, score=-760908.222 total time=   0.0s\n",
      "[CV 15/20] END linearregression__fit_intercept=True, linearregression__normalize=True, polynomialfeatures__degree=5;, score=-727872.789 total time=   0.0s\n",
      "[CV 16/20] END linearregression__fit_intercept=True, linearregression__normalize=True, polynomialfeatures__degree=5;, score=-4401181.687 total time=   0.0s\n",
      "[CV 17/20] END linearregression__fit_intercept=True, linearregression__normalize=True, polynomialfeatures__degree=5;, score=-1229050.524 total time=   0.0s\n",
      "[CV 18/20] END linearregression__fit_intercept=True, linearregression__normalize=True, polynomialfeatures__degree=5;, score=-292778.395 total time=   0.0s\n",
      "[CV 19/20] END linearregression__fit_intercept=True, linearregression__normalize=True, polynomialfeatures__degree=5;, score=-515675.122 total time=   0.0s\n",
      "[CV 20/20] END linearregression__fit_intercept=True, linearregression__normalize=True, polynomialfeatures__degree=5;, score=-3915618.269 total time=   0.0s\n",
      "[CV 1/20] END linearregression__fit_intercept=True, linearregression__normalize=False, polynomialfeatures__degree=3;, score=-1708423.523 total time=   0.0s\n",
      "[CV 2/20] END linearregression__fit_intercept=True, linearregression__normalize=False, polynomialfeatures__degree=3;, score=-1333553.509 total time=   0.0s\n",
      "[CV 3/20] END linearregression__fit_intercept=True, linearregression__normalize=False, polynomialfeatures__degree=3;, score=-1643157.396 total time=   0.0s\n",
      "[CV 4/20] END linearregression__fit_intercept=True, linearregression__normalize=False, polynomialfeatures__degree=3;, score=-8756005.515 total time=   0.0s\n",
      "[CV 5/20] END linearregression__fit_intercept=True, linearregression__normalize=False, polynomialfeatures__degree=3;, score=-1347332.540 total time=   0.0s\n",
      "[CV 6/20] END linearregression__fit_intercept=True, linearregression__normalize=False, polynomialfeatures__degree=3;, score=-528035.647 total time=   0.0s\n",
      "[CV 7/20] END linearregression__fit_intercept=True, linearregression__normalize=False, polynomialfeatures__degree=3;, score=-466509.243 total time=   0.0s\n",
      "[CV 8/20] END linearregression__fit_intercept=True, linearregression__normalize=False, polynomialfeatures__degree=3;, score=-1241657.605 total time=   0.0s\n",
      "[CV 9/20] END linearregression__fit_intercept=True, linearregression__normalize=False, polynomialfeatures__degree=3;, score=-2149241.409 total time=   0.0s\n",
      "[CV 10/20] END linearregression__fit_intercept=True, linearregression__normalize=False, polynomialfeatures__degree=3;, score=-555044829209574572032.000 total time=   0.0s\n",
      "[CV 11/20] END linearregression__fit_intercept=True, linearregression__normalize=False, polynomialfeatures__degree=3;, score=-643511.897 total time=   0.0s\n",
      "[CV 12/20] END linearregression__fit_intercept=True, linearregression__normalize=False, polynomialfeatures__degree=3;, score=-4267638.330 total time=   0.0s\n",
      "[CV 13/20] END linearregression__fit_intercept=True, linearregression__normalize=False, polynomialfeatures__degree=3;, score=-678404.483 total time=   0.0s\n",
      "[CV 14/20] END linearregression__fit_intercept=True, linearregression__normalize=False, polynomialfeatures__degree=3;, score=-852200.702 total time=   0.0s\n",
      "[CV 15/20] END linearregression__fit_intercept=True, linearregression__normalize=False, polynomialfeatures__degree=3;, score=-933529.289 total time=   0.0s\n",
      "[CV 16/20] END linearregression__fit_intercept=True, linearregression__normalize=False, polynomialfeatures__degree=3;, score=-4227103.150 total time=   0.0s\n",
      "[CV 17/20] END linearregression__fit_intercept=True, linearregression__normalize=False, polynomialfeatures__degree=3;, score=-1115789.714 total time=   0.0s\n",
      "[CV 18/20] END linearregression__fit_intercept=True, linearregression__normalize=False, polynomialfeatures__degree=3;, score=-557780.927 total time=   0.0s\n",
      "[CV 19/20] END linearregression__fit_intercept=True, linearregression__normalize=False, polynomialfeatures__degree=3;, score=-609043.153 total time=   0.0s\n",
      "[CV 20/20] END linearregression__fit_intercept=True, linearregression__normalize=False, polynomialfeatures__degree=3;, score=-4172515.940 total time=   0.0s\n",
      "[CV 1/20] END linearregression__fit_intercept=True, linearregression__normalize=False, polynomialfeatures__degree=4;, score=-1576667.935 total time=   0.0s\n",
      "[CV 2/20] END linearregression__fit_intercept=True, linearregression__normalize=False, polynomialfeatures__degree=4;, score=-1226481.814 total time=   0.0s\n",
      "[CV 3/20] END linearregression__fit_intercept=True, linearregression__normalize=False, polynomialfeatures__degree=4;, score=-1591451.026 total time=   0.0s\n",
      "[CV 4/20] END linearregression__fit_intercept=True, linearregression__normalize=False, polynomialfeatures__degree=4;, score=-8455603.203 total time=   0.0s\n",
      "[CV 5/20] END linearregression__fit_intercept=True, linearregression__normalize=False, polynomialfeatures__degree=4;, score=-1362843.139 total time=   0.0s\n",
      "[CV 6/20] END linearregression__fit_intercept=True, linearregression__normalize=False, polynomialfeatures__degree=4;, score=-473480.242 total time=   0.0s\n",
      "[CV 7/20] END linearregression__fit_intercept=True, linearregression__normalize=False, polynomialfeatures__degree=4;, score=-416978.843 total time=   0.0s\n",
      "[CV 8/20] END linearregression__fit_intercept=True, linearregression__normalize=False, polynomialfeatures__degree=4;, score=-1162925.474 total time=   0.0s\n",
      "[CV 9/20] END linearregression__fit_intercept=True, linearregression__normalize=False, polynomialfeatures__degree=4;, score=-3355240.404 total time=   0.0s\n",
      "[CV 10/20] END linearregression__fit_intercept=True, linearregression__normalize=False, polynomialfeatures__degree=4;, score=-1355023293467939604241842176.000 total time=   0.0s\n",
      "[CV 11/20] END linearregression__fit_intercept=True, linearregression__normalize=False, polynomialfeatures__degree=4;, score=-554630.135 total time=   0.0s\n",
      "[CV 12/20] END linearregression__fit_intercept=True, linearregression__normalize=False, polynomialfeatures__degree=4;, score=-5305996.780 total time=   0.0s\n",
      "[CV 13/20] END linearregression__fit_intercept=True, linearregression__normalize=False, polynomialfeatures__degree=4;, score=-625352.622 total time=   0.0s\n",
      "[CV 14/20] END linearregression__fit_intercept=True, linearregression__normalize=False, polynomialfeatures__degree=4;, score=-721308.858 total time=   0.0s\n",
      "[CV 15/20] END linearregression__fit_intercept=True, linearregression__normalize=False, polynomialfeatures__degree=4;, score=-744222.100 total time=   0.0s\n",
      "[CV 16/20] END linearregression__fit_intercept=True, linearregression__normalize=False, polynomialfeatures__degree=4;, score=-4605879.411 total time=   0.0s\n",
      "[CV 17/20] END linearregression__fit_intercept=True, linearregression__normalize=False, polynomialfeatures__degree=4;, score=-1130531.474 total time=   0.0s\n",
      "[CV 18/20] END linearregression__fit_intercept=True, linearregression__normalize=False, polynomialfeatures__degree=4;, score=-359003.093 total time=   0.0s\n",
      "[CV 19/20] END linearregression__fit_intercept=True, linearregression__normalize=False, polynomialfeatures__degree=4;, score=-564586.529 total time=   0.0s\n",
      "[CV 20/20] END linearregression__fit_intercept=True, linearregression__normalize=False, polynomialfeatures__degree=4;, score=-3815134.018 total time=   0.0s\n",
      "[CV 1/20] END linearregression__fit_intercept=True, linearregression__normalize=False, polynomialfeatures__degree=5;, score=-1666803.073 total time=   0.0s\n",
      "[CV 2/20] END linearregression__fit_intercept=True, linearregression__normalize=False, polynomialfeatures__degree=5;, score=-1223915.423 total time=   0.0s\n",
      "[CV 3/20] END linearregression__fit_intercept=True, linearregression__normalize=False, polynomialfeatures__degree=5;, score=-1620159.444 total time=   0.0s\n",
      "[CV 4/20] END linearregression__fit_intercept=True, linearregression__normalize=False, polynomialfeatures__degree=5;, score=-8277006.854 total time=   0.0s\n",
      "[CV 5/20] END linearregression__fit_intercept=True, linearregression__normalize=False, polynomialfeatures__degree=5;, score=-1357717.857 total time=   0.0s\n",
      "[CV 6/20] END linearregression__fit_intercept=True, linearregression__normalize=False, polynomialfeatures__degree=5;, score=-510968.427 total time=   0.0s\n",
      "[CV 7/20] END linearregression__fit_intercept=True, linearregression__normalize=False, polynomialfeatures__degree=5;, score=-480234.689 total time=   0.0s\n",
      "[CV 8/20] END linearregression__fit_intercept=True, linearregression__normalize=False, polynomialfeatures__degree=5;, score=-1128351.930 total time=   0.0s\n",
      "[CV 9/20] END linearregression__fit_intercept=True, linearregression__normalize=False, polynomialfeatures__degree=5;, score=-4188223.893 total time=   0.0s\n",
      "[CV 10/20] END linearregression__fit_intercept=True, linearregression__normalize=False, polynomialfeatures__degree=5;, score=-64615700123294229623065850937344.000 total time=   0.0s\n",
      "[CV 11/20] END linearregression__fit_intercept=True, linearregression__normalize=False, polynomialfeatures__degree=5;, score=-627442.266 total time=   0.0s\n",
      "[CV 12/20] END linearregression__fit_intercept=True, linearregression__normalize=False, polynomialfeatures__degree=5;, score=-8776906.634 total time=   0.0s\n",
      "[CV 13/20] END linearregression__fit_intercept=True, linearregression__normalize=False, polynomialfeatures__degree=5;, score=-582238.363 total time=   0.0s\n",
      "[CV 14/20] END linearregression__fit_intercept=True, linearregression__normalize=False, polynomialfeatures__degree=5;, score=-760907.604 total time=   0.0s\n",
      "[CV 15/20] END linearregression__fit_intercept=True, linearregression__normalize=False, polynomialfeatures__degree=5;, score=-727872.903 total time=   0.0s\n",
      "[CV 16/20] END linearregression__fit_intercept=True, linearregression__normalize=False, polynomialfeatures__degree=5;, score=-4401182.017 total time=   0.0s\n",
      "[CV 17/20] END linearregression__fit_intercept=True, linearregression__normalize=False, polynomialfeatures__degree=5;, score=-1229050.656 total time=   0.0s\n",
      "[CV 18/20] END linearregression__fit_intercept=True, linearregression__normalize=False, polynomialfeatures__degree=5;, score=-292778.324 total time=   0.0s\n",
      "[CV 19/20] END linearregression__fit_intercept=True, linearregression__normalize=False, polynomialfeatures__degree=5;, score=-515675.367 total time=   0.0s\n",
      "[CV 20/20] END linearregression__fit_intercept=True, linearregression__normalize=False, polynomialfeatures__degree=5;, score=-3915617.443 total time=   0.0s\n",
      "[CV 1/20] END linearregression__fit_intercept=False, linearregression__normalize=True, polynomialfeatures__degree=3;, score=-1708423.523 total time=   0.0s\n",
      "[CV 2/20] END linearregression__fit_intercept=False, linearregression__normalize=True, polynomialfeatures__degree=3;, score=-1333553.509 total time=   0.0s\n",
      "[CV 3/20] END linearregression__fit_intercept=False, linearregression__normalize=True, polynomialfeatures__degree=3;, score=-1643157.396 total time=   0.0s\n",
      "[CV 4/20] END linearregression__fit_intercept=False, linearregression__normalize=True, polynomialfeatures__degree=3;, score=-8756005.515 total time=   0.0s\n",
      "[CV 5/20] END linearregression__fit_intercept=False, linearregression__normalize=True, polynomialfeatures__degree=3;, score=-1347332.540 total time=   0.0s\n",
      "[CV 6/20] END linearregression__fit_intercept=False, linearregression__normalize=True, polynomialfeatures__degree=3;, score=-528035.647 total time=   0.0s\n",
      "[CV 7/20] END linearregression__fit_intercept=False, linearregression__normalize=True, polynomialfeatures__degree=3;, score=-466509.243 total time=   0.0s\n",
      "[CV 8/20] END linearregression__fit_intercept=False, linearregression__normalize=True, polynomialfeatures__degree=3;, score=-1241657.605 total time=   0.0s\n",
      "[CV 9/20] END linearregression__fit_intercept=False, linearregression__normalize=True, polynomialfeatures__degree=3;, score=-2149241.409 total time=   0.0s\n",
      "[CV 10/20] END linearregression__fit_intercept=False, linearregression__normalize=True, polynomialfeatures__degree=3;, score=-555044829209572999168.000 total time=   0.0s\n",
      "[CV 11/20] END linearregression__fit_intercept=False, linearregression__normalize=True, polynomialfeatures__degree=3;, score=-643511.897 total time=   0.0s\n",
      "[CV 12/20] END linearregression__fit_intercept=False, linearregression__normalize=True, polynomialfeatures__degree=3;, score=-4267638.330 total time=   0.0s\n",
      "[CV 13/20] END linearregression__fit_intercept=False, linearregression__normalize=True, polynomialfeatures__degree=3;, score=-678404.483 total time=   0.0s\n",
      "[CV 14/20] END linearregression__fit_intercept=False, linearregression__normalize=True, polynomialfeatures__degree=3;, score=-852200.702 total time=   0.0s\n",
      "[CV 15/20] END linearregression__fit_intercept=False, linearregression__normalize=True, polynomialfeatures__degree=3;, score=-933529.289 total time=   0.0s\n",
      "[CV 16/20] END linearregression__fit_intercept=False, linearregression__normalize=True, polynomialfeatures__degree=3;, score=-4227103.150 total time=   0.0s\n",
      "[CV 17/20] END linearregression__fit_intercept=False, linearregression__normalize=True, polynomialfeatures__degree=3;, score=-1115789.714 total time=   0.0s\n",
      "[CV 18/20] END linearregression__fit_intercept=False, linearregression__normalize=True, polynomialfeatures__degree=3;, score=-557780.927 total time=   0.0s\n",
      "[CV 19/20] END linearregression__fit_intercept=False, linearregression__normalize=True, polynomialfeatures__degree=3;, score=-609043.153 total time=   0.0s\n",
      "[CV 20/20] END linearregression__fit_intercept=False, linearregression__normalize=True, polynomialfeatures__degree=3;, score=-4172515.940 total time=   0.0s\n",
      "[CV 1/20] END linearregression__fit_intercept=False, linearregression__normalize=True, polynomialfeatures__degree=4;, score=-1576667.936 total time=   0.0s\n",
      "[CV 2/20] END linearregression__fit_intercept=False, linearregression__normalize=True, polynomialfeatures__degree=4;, score=-1226481.814 total time=   0.0s\n",
      "[CV 3/20] END linearregression__fit_intercept=False, linearregression__normalize=True, polynomialfeatures__degree=4;, score=-1591451.025 total time=   0.0s\n",
      "[CV 4/20] END linearregression__fit_intercept=False, linearregression__normalize=True, polynomialfeatures__degree=4;, score=-8455603.206 total time=   0.0s\n",
      "[CV 5/20] END linearregression__fit_intercept=False, linearregression__normalize=True, polynomialfeatures__degree=4;, score=-1362843.139 total time=   0.0s\n",
      "[CV 6/20] END linearregression__fit_intercept=False, linearregression__normalize=True, polynomialfeatures__degree=4;, score=-473480.242 total time=   0.0s\n",
      "[CV 7/20] END linearregression__fit_intercept=False, linearregression__normalize=True, polynomialfeatures__degree=4;, score=-416978.843 total time=   0.0s\n",
      "[CV 8/20] END linearregression__fit_intercept=False, linearregression__normalize=True, polynomialfeatures__degree=4;, score=-1162925.474 total time=   0.0s\n",
      "[CV 9/20] END linearregression__fit_intercept=False, linearregression__normalize=True, polynomialfeatures__degree=4;, score=-3355240.402 total time=   0.0s\n",
      "[CV 10/20] END linearregression__fit_intercept=False, linearregression__normalize=True, polynomialfeatures__degree=4;, score=-1355023293467939604241842176.000 total time=   0.0s\n",
      "[CV 11/20] END linearregression__fit_intercept=False, linearregression__normalize=True, polynomialfeatures__degree=4;, score=-554630.135 total time=   0.0s\n",
      "[CV 12/20] END linearregression__fit_intercept=False, linearregression__normalize=True, polynomialfeatures__degree=4;, score=-5305996.779 total time=   0.0s\n",
      "[CV 13/20] END linearregression__fit_intercept=False, linearregression__normalize=True, polynomialfeatures__degree=4;, score=-625352.621 total time=   0.0s\n",
      "[CV 14/20] END linearregression__fit_intercept=False, linearregression__normalize=True, polynomialfeatures__degree=4;, score=-721308.859 total time=   0.0s\n",
      "[CV 15/20] END linearregression__fit_intercept=False, linearregression__normalize=True, polynomialfeatures__degree=4;, score=-744222.100 total time=   0.0s\n",
      "[CV 16/20] END linearregression__fit_intercept=False, linearregression__normalize=True, polynomialfeatures__degree=4;, score=-4605879.411 total time=   0.0s\n",
      "[CV 17/20] END linearregression__fit_intercept=False, linearregression__normalize=True, polynomialfeatures__degree=4;, score=-1130531.474 total time=   0.0s\n",
      "[CV 18/20] END linearregression__fit_intercept=False, linearregression__normalize=True, polynomialfeatures__degree=4;, score=-359003.093 total time=   0.0s\n",
      "[CV 19/20] END linearregression__fit_intercept=False, linearregression__normalize=True, polynomialfeatures__degree=4;, score=-564586.529 total time=   0.0s\n",
      "[CV 20/20] END linearregression__fit_intercept=False, linearregression__normalize=True, polynomialfeatures__degree=4;, score=-3815134.017 total time=   0.0s\n",
      "[CV 1/20] END linearregression__fit_intercept=False, linearregression__normalize=True, polynomialfeatures__degree=5;, score=-1666803.805 total time=   0.0s\n",
      "[CV 2/20] END linearregression__fit_intercept=False, linearregression__normalize=True, polynomialfeatures__degree=5;, score=-1223915.223 total time=   0.0s\n",
      "[CV 3/20] END linearregression__fit_intercept=False, linearregression__normalize=True, polynomialfeatures__degree=5;, score=-1620160.007 total time=   0.0s\n",
      "[CV 4/20] END linearregression__fit_intercept=False, linearregression__normalize=True, polynomialfeatures__degree=5;, score=-8277010.195 total time=   0.0s\n",
      "[CV 5/20] END linearregression__fit_intercept=False, linearregression__normalize=True, polynomialfeatures__degree=5;, score=-1357717.511 total time=   0.0s\n",
      "[CV 6/20] END linearregression__fit_intercept=False, linearregression__normalize=True, polynomialfeatures__degree=5;, score=-510968.295 total time=   0.0s\n",
      "[CV 7/20] END linearregression__fit_intercept=False, linearregression__normalize=True, polynomialfeatures__degree=5;, score=-480234.669 total time=   0.0s\n",
      "[CV 8/20] END linearregression__fit_intercept=False, linearregression__normalize=True, polynomialfeatures__degree=5;, score=-1128351.858 total time=   0.0s\n",
      "[CV 9/20] END linearregression__fit_intercept=False, linearregression__normalize=True, polynomialfeatures__degree=5;, score=-4188223.533 total time=   0.0s\n",
      "[CV 10/20] END linearregression__fit_intercept=False, linearregression__normalize=True, polynomialfeatures__degree=5;, score=-64615700123297012847635565903872.000 total time=   0.0s\n",
      "[CV 11/20] END linearregression__fit_intercept=False, linearregression__normalize=True, polynomialfeatures__degree=5;, score=-627442.255 total time=   0.0s\n",
      "[CV 12/20] END linearregression__fit_intercept=False, linearregression__normalize=True, polynomialfeatures__degree=5;, score=-8776819.751 total time=   0.0s\n",
      "[CV 13/20] END linearregression__fit_intercept=False, linearregression__normalize=True, polynomialfeatures__degree=5;, score=-582238.377 total time=   0.0s\n",
      "[CV 14/20] END linearregression__fit_intercept=False, linearregression__normalize=True, polynomialfeatures__degree=5;, score=-760907.427 total time=   0.0s\n",
      "[CV 15/20] END linearregression__fit_intercept=False, linearregression__normalize=True, polynomialfeatures__degree=5;, score=-727872.896 total time=   0.0s\n",
      "[CV 16/20] END linearregression__fit_intercept=False, linearregression__normalize=True, polynomialfeatures__degree=5;, score=-4401182.524 total time=   0.0s\n",
      "[CV 17/20] END linearregression__fit_intercept=False, linearregression__normalize=True, polynomialfeatures__degree=5;, score=-1229050.304 total time=   0.0s\n",
      "[CV 18/20] END linearregression__fit_intercept=False, linearregression__normalize=True, polynomialfeatures__degree=5;, score=-292778.271 total time=   0.0s\n",
      "[CV 19/20] END linearregression__fit_intercept=False, linearregression__normalize=True, polynomialfeatures__degree=5;, score=-515675.349 total time=   0.0s\n",
      "[CV 20/20] END linearregression__fit_intercept=False, linearregression__normalize=True, polynomialfeatures__degree=5;, score=-3915617.426 total time=   0.0s\n",
      "[CV 1/20] END linearregression__fit_intercept=False, linearregression__normalize=False, polynomialfeatures__degree=3;, score=-1708423.523 total time=   0.0s\n",
      "[CV 2/20] END linearregression__fit_intercept=False, linearregression__normalize=False, polynomialfeatures__degree=3;, score=-1333553.509 total time=   0.0s\n",
      "[CV 3/20] END linearregression__fit_intercept=False, linearregression__normalize=False, polynomialfeatures__degree=3;, score=-1643157.396 total time=   0.0s\n",
      "[CV 4/20] END linearregression__fit_intercept=False, linearregression__normalize=False, polynomialfeatures__degree=3;, score=-8756005.515 total time=   0.0s\n",
      "[CV 5/20] END linearregression__fit_intercept=False, linearregression__normalize=False, polynomialfeatures__degree=3;, score=-1347332.540 total time=   0.0s\n",
      "[CV 6/20] END linearregression__fit_intercept=False, linearregression__normalize=False, polynomialfeatures__degree=3;, score=-528035.647 total time=   0.0s\n",
      "[CV 7/20] END linearregression__fit_intercept=False, linearregression__normalize=False, polynomialfeatures__degree=3;, score=-466509.243 total time=   0.0s\n",
      "[CV 8/20] END linearregression__fit_intercept=False, linearregression__normalize=False, polynomialfeatures__degree=3;, score=-1241657.605 total time=   0.0s\n",
      "[CV 9/20] END linearregression__fit_intercept=False, linearregression__normalize=False, polynomialfeatures__degree=3;, score=-2149241.409 total time=   0.0s\n",
      "[CV 10/20] END linearregression__fit_intercept=False, linearregression__normalize=False, polynomialfeatures__degree=3;, score=-555044829209572999168.000 total time=   0.0s\n",
      "[CV 11/20] END linearregression__fit_intercept=False, linearregression__normalize=False, polynomialfeatures__degree=3;, score=-643511.897 total time=   0.0s\n",
      "[CV 12/20] END linearregression__fit_intercept=False, linearregression__normalize=False, polynomialfeatures__degree=3;, score=-4267638.330 total time=   0.0s\n",
      "[CV 13/20] END linearregression__fit_intercept=False, linearregression__normalize=False, polynomialfeatures__degree=3;, score=-678404.483 total time=   0.0s\n",
      "[CV 14/20] END linearregression__fit_intercept=False, linearregression__normalize=False, polynomialfeatures__degree=3;, score=-852200.702 total time=   0.0s\n",
      "[CV 15/20] END linearregression__fit_intercept=False, linearregression__normalize=False, polynomialfeatures__degree=3;, score=-933529.289 total time=   0.0s\n",
      "[CV 16/20] END linearregression__fit_intercept=False, linearregression__normalize=False, polynomialfeatures__degree=3;, score=-4227103.150 total time=   0.0s\n",
      "[CV 17/20] END linearregression__fit_intercept=False, linearregression__normalize=False, polynomialfeatures__degree=3;, score=-1115789.714 total time=   0.0s\n",
      "[CV 18/20] END linearregression__fit_intercept=False, linearregression__normalize=False, polynomialfeatures__degree=3;, score=-557780.927 total time=   0.0s\n",
      "[CV 19/20] END linearregression__fit_intercept=False, linearregression__normalize=False, polynomialfeatures__degree=3;, score=-609043.153 total time=   0.0s\n",
      "[CV 20/20] END linearregression__fit_intercept=False, linearregression__normalize=False, polynomialfeatures__degree=3;, score=-4172515.940 total time=   0.0s\n",
      "[CV 1/20] END linearregression__fit_intercept=False, linearregression__normalize=False, polynomialfeatures__degree=4;, score=-1576667.936 total time=   0.0s\n",
      "[CV 2/20] END linearregression__fit_intercept=False, linearregression__normalize=False, polynomialfeatures__degree=4;, score=-1226481.814 total time=   0.0s\n",
      "[CV 3/20] END linearregression__fit_intercept=False, linearregression__normalize=False, polynomialfeatures__degree=4;, score=-1591451.025 total time=   0.0s\n",
      "[CV 4/20] END linearregression__fit_intercept=False, linearregression__normalize=False, polynomialfeatures__degree=4;, score=-8455603.206 total time=   0.0s\n",
      "[CV 5/20] END linearregression__fit_intercept=False, linearregression__normalize=False, polynomialfeatures__degree=4;, score=-1362843.139 total time=   0.0s\n",
      "[CV 6/20] END linearregression__fit_intercept=False, linearregression__normalize=False, polynomialfeatures__degree=4;, score=-473480.242 total time=   0.0s\n",
      "[CV 7/20] END linearregression__fit_intercept=False, linearregression__normalize=False, polynomialfeatures__degree=4;, score=-416978.843 total time=   0.0s\n",
      "[CV 8/20] END linearregression__fit_intercept=False, linearregression__normalize=False, polynomialfeatures__degree=4;, score=-1162925.474 total time=   0.0s\n",
      "[CV 9/20] END linearregression__fit_intercept=False, linearregression__normalize=False, polynomialfeatures__degree=4;, score=-3355240.402 total time=   0.0s\n",
      "[CV 10/20] END linearregression__fit_intercept=False, linearregression__normalize=False, polynomialfeatures__degree=4;, score=-1355023293467939604241842176.000 total time=   0.0s\n",
      "[CV 11/20] END linearregression__fit_intercept=False, linearregression__normalize=False, polynomialfeatures__degree=4;, score=-554630.135 total time=   0.0s\n",
      "[CV 12/20] END linearregression__fit_intercept=False, linearregression__normalize=False, polynomialfeatures__degree=4;, score=-5305996.779 total time=   0.0s\n",
      "[CV 13/20] END linearregression__fit_intercept=False, linearregression__normalize=False, polynomialfeatures__degree=4;, score=-625352.621 total time=   0.0s\n",
      "[CV 14/20] END linearregression__fit_intercept=False, linearregression__normalize=False, polynomialfeatures__degree=4;, score=-721308.859 total time=   0.0s\n",
      "[CV 15/20] END linearregression__fit_intercept=False, linearregression__normalize=False, polynomialfeatures__degree=4;, score=-744222.100 total time=   0.0s\n",
      "[CV 16/20] END linearregression__fit_intercept=False, linearregression__normalize=False, polynomialfeatures__degree=4;, score=-4605879.411 total time=   0.0s\n",
      "[CV 17/20] END linearregression__fit_intercept=False, linearregression__normalize=False, polynomialfeatures__degree=4;, score=-1130531.474 total time=   0.0s\n",
      "[CV 18/20] END linearregression__fit_intercept=False, linearregression__normalize=False, polynomialfeatures__degree=4;, score=-359003.093 total time=   0.0s\n",
      "[CV 19/20] END linearregression__fit_intercept=False, linearregression__normalize=False, polynomialfeatures__degree=4;, score=-564586.529 total time=   0.0s\n",
      "[CV 20/20] END linearregression__fit_intercept=False, linearregression__normalize=False, polynomialfeatures__degree=4;, score=-3815134.017 total time=   0.0s\n",
      "[CV 1/20] END linearregression__fit_intercept=False, linearregression__normalize=False, polynomialfeatures__degree=5;, score=-1666803.805 total time=   0.0s\n",
      "[CV 2/20] END linearregression__fit_intercept=False, linearregression__normalize=False, polynomialfeatures__degree=5;, score=-1223915.223 total time=   0.0s\n",
      "[CV 3/20] END linearregression__fit_intercept=False, linearregression__normalize=False, polynomialfeatures__degree=5;, score=-1620160.007 total time=   0.0s\n",
      "[CV 4/20] END linearregression__fit_intercept=False, linearregression__normalize=False, polynomialfeatures__degree=5;, score=-8277010.195 total time=   0.0s\n",
      "[CV 5/20] END linearregression__fit_intercept=False, linearregression__normalize=False, polynomialfeatures__degree=5;, score=-1357717.511 total time=   0.0s\n",
      "[CV 6/20] END linearregression__fit_intercept=False, linearregression__normalize=False, polynomialfeatures__degree=5;, score=-510968.295 total time=   0.0s\n",
      "[CV 7/20] END linearregression__fit_intercept=False, linearregression__normalize=False, polynomialfeatures__degree=5;, score=-480234.669 total time=   0.0s\n",
      "[CV 8/20] END linearregression__fit_intercept=False, linearregression__normalize=False, polynomialfeatures__degree=5;, score=-1128351.858 total time=   0.0s\n",
      "[CV 9/20] END linearregression__fit_intercept=False, linearregression__normalize=False, polynomialfeatures__degree=5;, score=-4188223.533 total time=   0.0s\n",
      "[CV 10/20] END linearregression__fit_intercept=False, linearregression__normalize=False, polynomialfeatures__degree=5;, score=-64615700123297012847635565903872.000 total time=   0.0s\n",
      "[CV 11/20] END linearregression__fit_intercept=False, linearregression__normalize=False, polynomialfeatures__degree=5;, score=-627442.255 total time=   0.0s\n",
      "[CV 12/20] END linearregression__fit_intercept=False, linearregression__normalize=False, polynomialfeatures__degree=5;, score=-8776819.751 total time=   0.0s\n",
      "[CV 13/20] END linearregression__fit_intercept=False, linearregression__normalize=False, polynomialfeatures__degree=5;, score=-582238.377 total time=   0.0s\n",
      "[CV 14/20] END linearregression__fit_intercept=False, linearregression__normalize=False, polynomialfeatures__degree=5;, score=-760907.427 total time=   0.0s\n",
      "[CV 15/20] END linearregression__fit_intercept=False, linearregression__normalize=False, polynomialfeatures__degree=5;, score=-727872.896 total time=   0.0s\n",
      "[CV 16/20] END linearregression__fit_intercept=False, linearregression__normalize=False, polynomialfeatures__degree=5;, score=-4401182.524 total time=   0.0s\n",
      "[CV 17/20] END linearregression__fit_intercept=False, linearregression__normalize=False, polynomialfeatures__degree=5;, score=-1229050.304 total time=   0.0s\n",
      "[CV 18/20] END linearregression__fit_intercept=False, linearregression__normalize=False, polynomialfeatures__degree=5;, score=-292778.271 total time=   0.0s\n",
      "[CV 19/20] END linearregression__fit_intercept=False, linearregression__normalize=False, polynomialfeatures__degree=5;, score=-515675.349 total time=   0.0s\n",
      "[CV 20/20] END linearregression__fit_intercept=False, linearregression__normalize=False, polynomialfeatures__degree=5;, score=-3915617.426 total time=   0.0s\n"
     ]
    },
    {
     "data": {
      "text/plain": [
       "GridSearchCV(cv=20,\n",
       "             estimator=Pipeline(steps=[('standardscaler', StandardScaler()),\n",
       "                                       ('polynomialfeatures',\n",
       "                                        PolynomialFeatures()),\n",
       "                                       ('linearregression',\n",
       "                                        LinearRegression())]),\n",
       "             param_grid={'linearregression__fit_intercept': [True, False],\n",
       "                         'linearregression__normalize': [True, False],\n",
       "                         'polynomialfeatures__degree': [3, 4, 5]},\n",
       "             scoring='neg_mean_squared_error', verbose=3)"
      ]
     },
     "execution_count": 70,
     "metadata": {},
     "output_type": "execute_result"
    }
   ],
   "source": [
    "gr_search.fit(X_train, y_train)"
   ]
  },
  {
   "cell_type": "code",
   "execution_count": 71,
   "metadata": {},
   "outputs": [
    {
     "name": "stdout",
     "output_type": "stream",
     "text": [
      "Best Score: -2.7752241460480483e+19\n",
      "Best Hyperparameters: {'linearregression__fit_intercept': True, 'linearregression__normalize': True, 'polynomialfeatures__degree': 3}\n"
     ]
    }
   ],
   "source": [
    "print('Best Score: %s' % gr_search.best_score_)\n",
    "print('Best Hyperparameters: %s' % gr_search.best_params_)"
   ]
  },
  {
   "cell_type": "code",
   "execution_count": 76,
   "metadata": {},
   "outputs": [],
   "source": [
    "poly_grid = PolynomialRegression(degree=3, fit_intercept=True, normalize=True)"
   ]
  },
  {
   "attachments": {},
   "cell_type": "markdown",
   "metadata": {},
   "source": [
    "### 3. Train model"
   ]
  },
  {
   "cell_type": "code",
   "execution_count": 77,
   "metadata": {},
   "outputs": [
    {
     "data": {
      "text/plain": [
       "Pipeline(steps=[('standardscaler', StandardScaler()),\n",
       "                ('polynomialfeatures', PolynomialFeatures(degree=3)),\n",
       "                ('linearregression', LinearRegression(normalize=True))])"
      ]
     },
     "execution_count": 77,
     "metadata": {},
     "output_type": "execute_result"
    }
   ],
   "source": [
    "poly_grid.fit(X_train, y_train)"
   ]
  },
  {
   "attachments": {},
   "cell_type": "markdown",
   "metadata": {},
   "source": [
    "### 4. Predict with model"
   ]
  },
  {
   "cell_type": "code",
   "execution_count": 78,
   "metadata": {},
   "outputs": [],
   "source": [
    "y_pred = poly_grid.predict(X_test)"
   ]
  },
  {
   "attachments": {},
   "cell_type": "markdown",
   "metadata": {},
   "source": [
    "### 5. Evaluate Linear Model with Poly nominal features"
   ]
  },
  {
   "cell_type": "code",
   "execution_count": 79,
   "metadata": {},
   "outputs": [
    {
     "name": "stdout",
     "output_type": "stream",
     "text": [
      "MSE:  982155.1543818987\n",
      "RMSE:  991.0374132099649\n"
     ]
    }
   ],
   "source": [
    "print('MSE: ', mean_squared_error(y_test, y_pred))\n",
    "print('RMSE: ', np.sqrt(mean_squared_error(y_test, y_pred)))"
   ]
  },
  {
   "cell_type": "code",
   "execution_count": null,
   "metadata": {},
   "outputs": [],
   "source": []
  }
 ],
 "metadata": {
  "kernelspec": {
   "display_name": "min_ds-env",
   "language": "python",
   "name": "python3"
  },
  "language_info": {
   "codemirror_mode": {
    "name": "ipython",
    "version": 3
   },
   "file_extension": ".py",
   "mimetype": "text/x-python",
   "name": "python",
   "nbconvert_exporter": "python",
   "pygments_lexer": "ipython3",
   "version": "3.8.8"
  },
  "orig_nbformat": 4,
  "vscode": {
   "interpreter": {
    "hash": "a5e1ec076bd572246a92e5395011ccb4d0c3c0a63992a65b30abbf30f49ecb0c"
   }
  }
 },
 "nbformat": 4,
 "nbformat_minor": 2
}
