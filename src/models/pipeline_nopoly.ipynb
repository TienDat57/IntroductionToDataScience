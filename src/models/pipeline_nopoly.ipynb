{
 "cells": [
  {
   "cell_type": "code",
   "execution_count": 16,
   "metadata": {},
   "outputs": [],
   "source": [
    "import numpy as np\n",
    "import pandas as pd\n",
    "import matplotlib.pyplot as plt\n",
    "import seaborn as sns\n",
    "from sklearn.linear_model import LogisticRegression\n",
    "from sklearn.linear_model import LinearRegression\n",
    "from sklearn.model_selection import train_test_split\n",
    "from sklearn.metrics import accuracy_score, confusion_matrix, classification_report\n",
    "from sklearn.preprocessing import StandardScaler\n",
    "from sklearn.metrics import mean_squared_error, mean_absolute_error, r2_score\n",
    "from sklearn.pipeline import Pipeline\n",
    "from sklearn.model_selection import RepeatedStratifiedKFold\n",
    "from sklearn.model_selection import cross_val_score\n",
    "from sklearn.model_selection import GridSearchCV\n",
    "from sklearn.pipeline import make_pipeline\n",
    "from sklearn.preprocessing import PolynomialFeatures\n",
    "import warnings \n",
    "warnings.filterwarnings('ignore')\n",
    "\n",
    "%matplotlib inline"
   ]
  },
  {
   "cell_type": "code",
   "execution_count": 17,
   "metadata": {},
   "outputs": [
    {
     "data": {
      "text/html": [
       "<div>\n",
       "<style scoped>\n",
       "    .dataframe tbody tr th:only-of-type {\n",
       "        vertical-align: middle;\n",
       "    }\n",
       "\n",
       "    .dataframe tbody tr th {\n",
       "        vertical-align: top;\n",
       "    }\n",
       "\n",
       "    .dataframe thead th {\n",
       "        text-align: right;\n",
       "    }\n",
       "</style>\n",
       "<table border=\"1\" class=\"dataframe\">\n",
       "  <thead>\n",
       "    <tr style=\"text-align: right;\">\n",
       "      <th></th>\n",
       "      <th>p_categories</th>\n",
       "      <th>p_brand</th>\n",
       "      <th>p_day_created</th>\n",
       "      <th>p_sold_quantity</th>\n",
       "      <th>p_original_price</th>\n",
       "      <th>p_discount_rate</th>\n",
       "    </tr>\n",
       "  </thead>\n",
       "  <tbody>\n",
       "    <tr>\n",
       "      <th>0</th>\n",
       "      <td>7</td>\n",
       "      <td>155</td>\n",
       "      <td>659.0</td>\n",
       "      <td>702</td>\n",
       "      <td>528000</td>\n",
       "      <td>49</td>\n",
       "    </tr>\n",
       "    <tr>\n",
       "      <th>1</th>\n",
       "      <td>84</td>\n",
       "      <td>198</td>\n",
       "      <td>974.0</td>\n",
       "      <td>12844</td>\n",
       "      <td>799000</td>\n",
       "      <td>46</td>\n",
       "    </tr>\n",
       "    <tr>\n",
       "      <th>2</th>\n",
       "      <td>84</td>\n",
       "      <td>192</td>\n",
       "      <td>1372.0</td>\n",
       "      <td>938</td>\n",
       "      <td>209000</td>\n",
       "      <td>0</td>\n",
       "    </tr>\n",
       "    <tr>\n",
       "      <th>3</th>\n",
       "      <td>7</td>\n",
       "      <td>155</td>\n",
       "      <td>593.0</td>\n",
       "      <td>10359</td>\n",
       "      <td>473000</td>\n",
       "      <td>50</td>\n",
       "    </tr>\n",
       "    <tr>\n",
       "      <th>4</th>\n",
       "      <td>15</td>\n",
       "      <td>145</td>\n",
       "      <td>529.0</td>\n",
       "      <td>2338</td>\n",
       "      <td>106000</td>\n",
       "      <td>16</td>\n",
       "    </tr>\n",
       "  </tbody>\n",
       "</table>\n",
       "</div>"
      ],
      "text/plain": [
       "   p_categories  p_brand  p_day_created  p_sold_quantity  p_original_price  \\\n",
       "0             7      155          659.0              702            528000   \n",
       "1            84      198          974.0            12844            799000   \n",
       "2            84      192         1372.0              938            209000   \n",
       "3             7      155          593.0            10359            473000   \n",
       "4            15      145          529.0             2338            106000   \n",
       "\n",
       "   p_discount_rate  \n",
       "0               49  \n",
       "1               46  \n",
       "2                0  \n",
       "3               50  \n",
       "4               16  "
      ]
     },
     "execution_count": 17,
     "metadata": {},
     "output_type": "execute_result"
    }
   ],
   "source": [
    "df = pd.read_csv('../../data/processed/canomical_data.csv')\n",
    "df.head()"
   ]
  },
  {
   "cell_type": "code",
   "execution_count": 18,
   "metadata": {},
   "outputs": [],
   "source": [
    "X = df.drop('p_sold_quantity', axis='columns')\n",
    "y = testLabels = df.p_sold_quantity\n",
    "\n",
    "X_train, X_test, y_train, y_test = train_test_split(X, y, test_size=0.2, random_state=15)"
   ]
  },
  {
   "cell_type": "code",
   "execution_count": 19,
   "metadata": {},
   "outputs": [],
   "source": [
    "def PolynomialRegression(degree=2, **kwargs):\n",
    "    return make_pipeline(StandardScaler(), LinearRegression(**kwargs))"
   ]
  },
  {
   "cell_type": "code",
   "execution_count": 20,
   "metadata": {},
   "outputs": [],
   "source": [
    "param_grid = {'linearregression__fit_intercept': [True, False], 'linearregression__normalize': [True, False]}"
   ]
  },
  {
   "cell_type": "code",
   "execution_count": 21,
   "metadata": {},
   "outputs": [],
   "source": [
    "gr_search = GridSearchCV(PolynomialRegression(), param_grid, \n",
    "                         cv=10, \n",
    "                         scoring='neg_mean_squared_error', \n",
    "                         verbose=3)"
   ]
  },
  {
   "cell_type": "code",
   "execution_count": 22,
   "metadata": {},
   "outputs": [
    {
     "name": "stdout",
     "output_type": "stream",
     "text": [
      "Fitting 10 folds for each of 4 candidates, totalling 40 fits\n",
      "[CV 1/10] END linearregression__fit_intercept=True, linearregression__normalize=True;, score=-2145146.438 total time=   0.0s\n",
      "[CV 2/10] END linearregression__fit_intercept=True, linearregression__normalize=True;, score=-6631641.974 total time=   0.0s\n",
      "[CV 3/10] END linearregression__fit_intercept=True, linearregression__normalize=True;, score=-1259121.954 total time=   0.0s\n",
      "[CV 4/10] END linearregression__fit_intercept=True, linearregression__normalize=True;, score=-1077342.481 total time=   0.0s\n",
      "[CV 5/10] END linearregression__fit_intercept=True, linearregression__normalize=True;, score=-4779989407.516 total time=   0.0s\n",
      "[CV 6/10] END linearregression__fit_intercept=True, linearregression__normalize=True;, score=-3552645.435 total time=   0.0s\n",
      "[CV 7/10] END linearregression__fit_intercept=True, linearregression__normalize=True;, score=-695700.753 total time=   0.0s\n",
      "[CV 8/10] END linearregression__fit_intercept=True, linearregression__normalize=True;, score=-2499724.320 total time=   0.0s\n",
      "[CV 9/10] END linearregression__fit_intercept=True, linearregression__normalize=True;, score=-1211416.346 total time=   0.0s\n",
      "[CV 10/10] END linearregression__fit_intercept=True, linearregression__normalize=True;, score=-3738082.109 total time=   0.0s\n",
      "[CV 1/10] END linearregression__fit_intercept=True, linearregression__normalize=False;, score=-2145146.438 total time=   0.0s\n",
      "[CV 2/10] END linearregression__fit_intercept=True, linearregression__normalize=False;, score=-6631641.974 total time=   0.0s\n",
      "[CV 3/10] END linearregression__fit_intercept=True, linearregression__normalize=False;, score=-1259121.954 total time=   0.0s\n",
      "[CV 4/10] END linearregression__fit_intercept=True, linearregression__normalize=False;, score=-1077342.481 total time=   0.0s\n",
      "[CV 5/10] END linearregression__fit_intercept=True, linearregression__normalize=False;, score=-4779989407.516 total time=   0.1s\n",
      "[CV 6/10] END linearregression__fit_intercept=True, linearregression__normalize=False;, score=-3552645.435 total time=   0.0s\n",
      "[CV 7/10] END linearregression__fit_intercept=True, linearregression__normalize=False;, score=-695700.753 total time=   0.0s\n",
      "[CV 8/10] END linearregression__fit_intercept=True, linearregression__normalize=False;, score=-2499724.320 total time=   0.0s\n",
      "[CV 9/10] END linearregression__fit_intercept=True, linearregression__normalize=False;, score=-1211416.346 total time=   0.0s\n",
      "[CV 10/10] END linearregression__fit_intercept=True, linearregression__normalize=False;, score=-3738082.109 total time=   0.0s\n",
      "[CV 1/10] END linearregression__fit_intercept=False, linearregression__normalize=True;, score=-2633814.111 total time=   0.0s\n",
      "[CV 2/10] END linearregression__fit_intercept=False, linearregression__normalize=True;, score=-7270935.078 total time=   0.0s\n",
      "[CV 3/10] END linearregression__fit_intercept=False, linearregression__normalize=True;, score=-1583757.559 total time=   0.0s\n",
      "[CV 4/10] END linearregression__fit_intercept=False, linearregression__normalize=True;, score=-1373401.658 total time=   0.0s\n",
      "[CV 5/10] END linearregression__fit_intercept=False, linearregression__normalize=True;, score=-4772946683.711 total time=   0.0s\n",
      "[CV 6/10] END linearregression__fit_intercept=False, linearregression__normalize=True;, score=-4153211.605 total time=   0.0s\n",
      "[CV 7/10] END linearregression__fit_intercept=False, linearregression__normalize=True;, score=-761624.418 total time=   0.0s\n",
      "[CV 8/10] END linearregression__fit_intercept=False, linearregression__normalize=True;, score=-2982491.776 total time=   0.0s\n",
      "[CV 9/10] END linearregression__fit_intercept=False, linearregression__normalize=True;, score=-1522671.819 total time=   0.0s\n",
      "[CV 10/10] END linearregression__fit_intercept=False, linearregression__normalize=True;, score=-4271444.287 total time=   0.0s\n",
      "[CV 1/10] END linearregression__fit_intercept=False, linearregression__normalize=False;, score=-2633814.111 total time=   0.0s\n",
      "[CV 2/10] END linearregression__fit_intercept=False, linearregression__normalize=False;, score=-7270935.078 total time=   0.0s\n",
      "[CV 3/10] END linearregression__fit_intercept=False, linearregression__normalize=False;, score=-1583757.559 total time=   0.0s\n",
      "[CV 4/10] END linearregression__fit_intercept=False, linearregression__normalize=False;, score=-1373401.658 total time=   0.0s\n",
      "[CV 5/10] END linearregression__fit_intercept=False, linearregression__normalize=False;, score=-4772946683.711 total time=   0.0s\n",
      "[CV 6/10] END linearregression__fit_intercept=False, linearregression__normalize=False;, score=-4153211.605 total time=   0.0s\n",
      "[CV 7/10] END linearregression__fit_intercept=False, linearregression__normalize=False;, score=-761624.418 total time=   0.0s\n",
      "[CV 8/10] END linearregression__fit_intercept=False, linearregression__normalize=False;, score=-2982491.776 total time=   0.0s\n",
      "[CV 9/10] END linearregression__fit_intercept=False, linearregression__normalize=False;, score=-1522671.819 total time=   0.0s\n",
      "[CV 10/10] END linearregression__fit_intercept=False, linearregression__normalize=False;, score=-4271444.287 total time=   0.0s\n"
     ]
    },
    {
     "data": {
      "text/plain": [
       "{'linearregression__fit_intercept': False, 'linearregression__normalize': True}"
      ]
     },
     "execution_count": 22,
     "metadata": {},
     "output_type": "execute_result"
    }
   ],
   "source": [
    "gr_search.fit(X_train, y_train)\n",
    "gr_search.best_params_"
   ]
  },
  {
   "cell_type": "code",
   "execution_count": 23,
   "metadata": {},
   "outputs": [],
   "source": [
    "poly_grid = PolynomialRegression(fit_intercept=True, normalize=True)"
   ]
  },
  {
   "cell_type": "code",
   "execution_count": 24,
   "metadata": {},
   "outputs": [
    {
     "data": {
      "text/plain": [
       "Pipeline(steps=[('standardscaler', StandardScaler()),\n",
       "                ('linearregression', LinearRegression(normalize=True))])"
      ]
     },
     "execution_count": 24,
     "metadata": {},
     "output_type": "execute_result"
    }
   ],
   "source": [
    "poly_grid.fit(X_train, y_train)"
   ]
  },
  {
   "cell_type": "code",
   "execution_count": 25,
   "metadata": {},
   "outputs": [],
   "source": [
    "y_pred = poly_grid.predict(X_test)"
   ]
  },
  {
   "cell_type": "code",
   "execution_count": 26,
   "metadata": {},
   "outputs": [
    {
     "name": "stdout",
     "output_type": "stream",
     "text": [
      "MAE:  660.8177604557936\n",
      "RMSE:  1274.9983665309865\n",
      "0.03722561332871044\n"
     ]
    }
   ],
   "source": [
    "print('MAE: ', mean_absolute_error(y_test, y_pred))\n",
    "print('RMSE: ', np.sqrt(mean_squared_error(y_test, y_pred)))\n",
    "print(poly_grid.score(X_test, y_test))"
   ]
  },
  {
   "cell_type": "code",
   "execution_count": null,
   "metadata": {},
   "outputs": [],
   "source": []
  },
  {
   "cell_type": "code",
   "execution_count": null,
   "metadata": {},
   "outputs": [],
   "source": []
  },
  {
   "cell_type": "code",
   "execution_count": null,
   "metadata": {},
   "outputs": [],
   "source": []
  }
 ],
 "metadata": {
  "kernelspec": {
   "display_name": "min_ds-env",
   "language": "python",
   "name": "python3"
  },
  "language_info": {
   "codemirror_mode": {
    "name": "ipython",
    "version": 3
   },
   "file_extension": ".py",
   "mimetype": "text/x-python",
   "name": "python",
   "nbconvert_exporter": "python",
   "pygments_lexer": "ipython3",
   "version": "3.8.8"
  },
  "orig_nbformat": 4,
  "vscode": {
   "interpreter": {
    "hash": "a5e1ec076bd572246a92e5395011ccb4d0c3c0a63992a65b30abbf30f49ecb0c"
   }
  }
 },
 "nbformat": 4,
 "nbformat_minor": 2
}
