{
 "cells": [
  {
   "cell_type": "code",
   "execution_count": 81,
   "metadata": {},
   "outputs": [],
   "source": [
    "import numpy as np\n",
    "import pandas as pd\n",
    "import seaborn as sns\n",
    "import matplotlib.pyplot as plt\n",
    "from sklearn.model_selection import GridSearchCV, train_test_split\n",
    "from sklearn.pipeline import make_pipeline\n",
    "from sklearn.preprocessing import PolynomialFeatures, StandardScaler\n",
    "from sklearn.linear_model import LinearRegression\n",
    "\n",
    "from sklearn.metrics import mean_squared_error, mean_absolute_error\n",
    "import warnings \n",
    "warnings.filterwarnings('ignore')\n",
    "%matplotlib inline"
   ]
  },
  {
   "attachments": {},
   "cell_type": "markdown",
   "metadata": {},
   "source": [
    "### **1. Read data**"
   ]
  },
  {
   "cell_type": "code",
   "execution_count": 82,
   "metadata": {},
   "outputs": [
    {
     "data": {
      "text/html": [
       "<div>\n",
       "<style scoped>\n",
       "    .dataframe tbody tr th:only-of-type {\n",
       "        vertical-align: middle;\n",
       "    }\n",
       "\n",
       "    .dataframe tbody tr th {\n",
       "        vertical-align: top;\n",
       "    }\n",
       "\n",
       "    .dataframe thead th {\n",
       "        text-align: right;\n",
       "    }\n",
       "</style>\n",
       "<table border=\"1\" class=\"dataframe\">\n",
       "  <thead>\n",
       "    <tr style=\"text-align: right;\">\n",
       "      <th></th>\n",
       "      <th>p_categories</th>\n",
       "      <th>p_brand</th>\n",
       "      <th>p_day_created</th>\n",
       "      <th>p_sold_quantity</th>\n",
       "      <th>p_original_price</th>\n",
       "      <th>p_discount_rate</th>\n",
       "    </tr>\n",
       "  </thead>\n",
       "  <tbody>\n",
       "    <tr>\n",
       "      <th>0</th>\n",
       "      <td>7</td>\n",
       "      <td>155</td>\n",
       "      <td>659.0</td>\n",
       "      <td>0.041052</td>\n",
       "      <td>528000</td>\n",
       "      <td>49</td>\n",
       "    </tr>\n",
       "    <tr>\n",
       "      <th>1</th>\n",
       "      <td>84</td>\n",
       "      <td>198</td>\n",
       "      <td>974.0</td>\n",
       "      <td>7.554966</td>\n",
       "      <td>799000</td>\n",
       "      <td>46</td>\n",
       "    </tr>\n",
       "    <tr>\n",
       "      <th>2</th>\n",
       "      <td>84</td>\n",
       "      <td>192</td>\n",
       "      <td>1372.0</td>\n",
       "      <td>0.187097</td>\n",
       "      <td>209000</td>\n",
       "      <td>0</td>\n",
       "    </tr>\n",
       "    <tr>\n",
       "      <th>3</th>\n",
       "      <td>7</td>\n",
       "      <td>155</td>\n",
       "      <td>593.0</td>\n",
       "      <td>6.017157</td>\n",
       "      <td>473000</td>\n",
       "      <td>50</td>\n",
       "    </tr>\n",
       "    <tr>\n",
       "      <th>4</th>\n",
       "      <td>15</td>\n",
       "      <td>145</td>\n",
       "      <td>529.0</td>\n",
       "      <td>1.053469</td>\n",
       "      <td>106000</td>\n",
       "      <td>16</td>\n",
       "    </tr>\n",
       "  </tbody>\n",
       "</table>\n",
       "</div>"
      ],
      "text/plain": [
       "   p_categories  p_brand  p_day_created  p_sold_quantity  p_original_price  \\\n",
       "0             7      155          659.0         0.041052            528000   \n",
       "1            84      198          974.0         7.554966            799000   \n",
       "2            84      192         1372.0         0.187097            209000   \n",
       "3             7      155          593.0         6.017157            473000   \n",
       "4            15      145          529.0         1.053469            106000   \n",
       "\n",
       "   p_discount_rate  \n",
       "0               49  \n",
       "1               46  \n",
       "2                0  \n",
       "3               50  \n",
       "4               16  "
      ]
     },
     "execution_count": 82,
     "metadata": {},
     "output_type": "execute_result"
    }
   ],
   "source": [
    "df = pd.read_csv('../../data/processed/canonical_data.csv')\n",
    "df.head()"
   ]
  },
  {
   "attachments": {},
   "cell_type": "markdown",
   "metadata": {},
   "source": [
    "### **2. Train test split**\n",
    "&#9889; This cell we choose columns X and y to split train test. Test set with size 20% and Train set with size 80% "
   ]
  },
  {
   "cell_type": "code",
   "execution_count": 83,
   "metadata": {},
   "outputs": [],
   "source": [
    "X = df.drop(['p_sold_quantity'], axis='columns')\n",
    "y = testLabels = df.p_sold_quantity\n",
    "\n",
    "X_train, X_test, y_train, y_test = train_test_split(X, y, test_size=0.3, random_state=15)"
   ]
  },
  {
   "attachments": {},
   "cell_type": "markdown",
   "metadata": {},
   "source": [
    "#### Make polynomial regression by pipeline \n",
    "&#9889; **NOTE:** We use pipeline to make polynomial regression. We can use pipeline to make many steps in one cell. Inside `Polynomial regression` used to make polynomial regression. We can change degree of polynomial regression by change `degree` in `PolynomialFeatures`"
   ]
  },
  {
   "cell_type": "code",
   "execution_count": 84,
   "metadata": {},
   "outputs": [],
   "source": [
    "def PolynomialRegression(degree=2, **kwargs):\n",
    "    return make_pipeline(StandardScaler(), PolynomialFeatures(degree), LinearRegression(**kwargs))"
   ]
  },
  {
   "attachments": {},
   "cell_type": "markdown",
   "metadata": {},
   "source": [
    "#### Create paramater grid to use GridSearchCV"
   ]
  },
  {
   "cell_type": "code",
   "execution_count": 85,
   "metadata": {},
   "outputs": [],
   "source": [
    "param_grid = {\n",
    "   'polynomialfeatures__degree': [3,4,5], \n",
    "   'linearregression__fit_intercept': [True, False], \n",
    "   'linearregression__normalize': [True, False]\n",
    "}"
   ]
  },
  {
   "cell_type": "code",
   "execution_count": 86,
   "metadata": {},
   "outputs": [],
   "source": [
    "gr_search = GridSearchCV(PolynomialRegression(), \n",
    "                         param_grid, \n",
    "                         cv=10, \n",
    "                         scoring='neg_mean_squared_error', \n",
    "                         verbose=3) "
   ]
  },
  {
   "attachments": {},
   "cell_type": "markdown",
   "metadata": {},
   "source": [
    "#### Fit grid search to find best score and best param "
   ]
  },
  {
   "cell_type": "code",
   "execution_count": 87,
   "metadata": {},
   "outputs": [
    {
     "name": "stdout",
     "output_type": "stream",
     "text": [
      "Fitting 10 folds for each of 12 candidates, totalling 120 fits\n",
      "[CV 1/10] END linearregression__fit_intercept=True, linearregression__normalize=True, polynomialfeatures__degree=3;, score=-49493313401932.531 total time=   0.0s\n",
      "[CV 2/10] END linearregression__fit_intercept=True, linearregression__normalize=True, polynomialfeatures__degree=3;, score=-0.436 total time=   0.0s\n",
      "[CV 3/10] END linearregression__fit_intercept=True, linearregression__normalize=True, polynomialfeatures__degree=3;, score=-0.556 total time=   0.0s\n",
      "[CV 4/10] END linearregression__fit_intercept=True, linearregression__normalize=True, polynomialfeatures__degree=3;, score=-1.037 total time=   0.0s\n",
      "[CV 5/10] END linearregression__fit_intercept=True, linearregression__normalize=True, polynomialfeatures__degree=3;, score=-7.870 total time=   0.0s\n",
      "[CV 6/10] END linearregression__fit_intercept=True, linearregression__normalize=True, polynomialfeatures__degree=3;, score=-1.646 total time=   0.0s\n",
      "[CV 7/10] END linearregression__fit_intercept=True, linearregression__normalize=True, polynomialfeatures__degree=3;, score=-0.411 total time=   0.0s\n",
      "[CV 8/10] END linearregression__fit_intercept=True, linearregression__normalize=True, polynomialfeatures__degree=3;, score=-1.382 total time=   0.1s\n",
      "[CV 9/10] END linearregression__fit_intercept=True, linearregression__normalize=True, polynomialfeatures__degree=3;, score=-0.289 total time=   0.1s\n",
      "[CV 10/10] END linearregression__fit_intercept=True, linearregression__normalize=True, polynomialfeatures__degree=3;, score=-1.420 total time=   0.1s\n",
      "[CV 1/10] END linearregression__fit_intercept=True, linearregression__normalize=True, polynomialfeatures__degree=4;, score=-265987670219586944.000 total time=   0.1s\n",
      "[CV 2/10] END linearregression__fit_intercept=True, linearregression__normalize=True, polynomialfeatures__degree=4;, score=-123.657 total time=   0.0s\n",
      "[CV 3/10] END linearregression__fit_intercept=True, linearregression__normalize=True, polynomialfeatures__degree=4;, score=-1.270 total time=   0.1s\n",
      "[CV 4/10] END linearregression__fit_intercept=True, linearregression__normalize=True, polynomialfeatures__degree=4;, score=-4.463 total time=   0.1s\n",
      "[CV 5/10] END linearregression__fit_intercept=True, linearregression__normalize=True, polynomialfeatures__degree=4;, score=-2113.707 total time=   0.1s\n",
      "[CV 6/10] END linearregression__fit_intercept=True, linearregression__normalize=True, polynomialfeatures__degree=4;, score=-1.928 total time=   0.1s\n",
      "[CV 7/10] END linearregression__fit_intercept=True, linearregression__normalize=True, polynomialfeatures__degree=4;, score=-5.491 total time=   0.0s\n",
      "[CV 8/10] END linearregression__fit_intercept=True, linearregression__normalize=True, polynomialfeatures__degree=4;, score=-7.863 total time=   0.3s\n",
      "[CV 9/10] END linearregression__fit_intercept=True, linearregression__normalize=True, polynomialfeatures__degree=4;, score=-0.499 total time=   0.2s\n",
      "[CV 10/10] END linearregression__fit_intercept=True, linearregression__normalize=True, polynomialfeatures__degree=4;, score=-1324.312 total time=   0.2s\n",
      "[CV 1/10] END linearregression__fit_intercept=True, linearregression__normalize=True, polynomialfeatures__degree=5;, score=-3241289907157627852401147904.000 total time=   0.5s\n",
      "[CV 2/10] END linearregression__fit_intercept=True, linearregression__normalize=True, polynomialfeatures__degree=5;, score=-1477108611.611 total time=   0.0s\n",
      "[CV 3/10] END linearregression__fit_intercept=True, linearregression__normalize=True, polynomialfeatures__degree=5;, score=-10961.308 total time=   0.0s\n",
      "[CV 4/10] END linearregression__fit_intercept=True, linearregression__normalize=True, polynomialfeatures__degree=5;, score=-5798.265 total time=   0.0s\n",
      "[CV 5/10] END linearregression__fit_intercept=True, linearregression__normalize=True, polynomialfeatures__degree=5;, score=-16581329.020 total time=   0.1s\n",
      "[CV 6/10] END linearregression__fit_intercept=True, linearregression__normalize=True, polynomialfeatures__degree=5;, score=-285.396 total time=   0.0s\n",
      "[CV 7/10] END linearregression__fit_intercept=True, linearregression__normalize=True, polynomialfeatures__degree=5;, score=-141145.956 total time=   0.3s\n",
      "[CV 8/10] END linearregression__fit_intercept=True, linearregression__normalize=True, polynomialfeatures__degree=5;, score=-46351.424 total time=   0.0s\n",
      "[CV 9/10] END linearregression__fit_intercept=True, linearregression__normalize=True, polynomialfeatures__degree=5;, score=-56.488 total time=   0.1s\n",
      "[CV 10/10] END linearregression__fit_intercept=True, linearregression__normalize=True, polynomialfeatures__degree=5;, score=-10096.096 total time=   0.0s\n",
      "[CV 1/10] END linearregression__fit_intercept=True, linearregression__normalize=False, polynomialfeatures__degree=3;, score=-45381947366034.508 total time=   0.0s\n",
      "[CV 2/10] END linearregression__fit_intercept=True, linearregression__normalize=False, polynomialfeatures__degree=3;, score=-0.436 total time=   0.0s\n",
      "[CV 3/10] END linearregression__fit_intercept=True, linearregression__normalize=False, polynomialfeatures__degree=3;, score=-0.556 total time=   0.0s\n",
      "[CV 4/10] END linearregression__fit_intercept=True, linearregression__normalize=False, polynomialfeatures__degree=3;, score=-1.037 total time=   0.0s\n",
      "[CV 5/10] END linearregression__fit_intercept=True, linearregression__normalize=False, polynomialfeatures__degree=3;, score=-7.870 total time=   0.0s\n",
      "[CV 6/10] END linearregression__fit_intercept=True, linearregression__normalize=False, polynomialfeatures__degree=3;, score=-1.646 total time=   0.0s\n",
      "[CV 7/10] END linearregression__fit_intercept=True, linearregression__normalize=False, polynomialfeatures__degree=3;, score=-0.411 total time=   0.0s\n",
      "[CV 8/10] END linearregression__fit_intercept=True, linearregression__normalize=False, polynomialfeatures__degree=3;, score=-1.382 total time=   0.0s\n",
      "[CV 9/10] END linearregression__fit_intercept=True, linearregression__normalize=False, polynomialfeatures__degree=3;, score=-0.289 total time=   0.0s\n",
      "[CV 10/10] END linearregression__fit_intercept=True, linearregression__normalize=False, polynomialfeatures__degree=3;, score=-1.420 total time=   0.0s\n",
      "[CV 1/10] END linearregression__fit_intercept=True, linearregression__normalize=False, polynomialfeatures__degree=4;, score=-22989835238732427264.000 total time=   0.0s\n",
      "[CV 2/10] END linearregression__fit_intercept=True, linearregression__normalize=False, polynomialfeatures__degree=4;, score=-123.657 total time=   0.0s\n",
      "[CV 3/10] END linearregression__fit_intercept=True, linearregression__normalize=False, polynomialfeatures__degree=4;, score=-1.270 total time=   0.0s\n",
      "[CV 4/10] END linearregression__fit_intercept=True, linearregression__normalize=False, polynomialfeatures__degree=4;, score=-4.463 total time=   0.0s\n",
      "[CV 5/10] END linearregression__fit_intercept=True, linearregression__normalize=False, polynomialfeatures__degree=4;, score=-2113.707 total time=   0.0s\n",
      "[CV 6/10] END linearregression__fit_intercept=True, linearregression__normalize=False, polynomialfeatures__degree=4;, score=-1.928 total time=   0.0s\n",
      "[CV 7/10] END linearregression__fit_intercept=True, linearregression__normalize=False, polynomialfeatures__degree=4;, score=-5.491 total time=   0.0s\n",
      "[CV 8/10] END linearregression__fit_intercept=True, linearregression__normalize=False, polynomialfeatures__degree=4;, score=-7.863 total time=   0.0s\n",
      "[CV 9/10] END linearregression__fit_intercept=True, linearregression__normalize=False, polynomialfeatures__degree=4;, score=-0.499 total time=   0.0s\n",
      "[CV 10/10] END linearregression__fit_intercept=True, linearregression__normalize=False, polynomialfeatures__degree=4;, score=-1324.312 total time=   0.0s\n",
      "[CV 1/10] END linearregression__fit_intercept=True, linearregression__normalize=False, polynomialfeatures__degree=5;, score=-3778976121315439247873802240.000 total time=   0.1s\n",
      "[CV 2/10] END linearregression__fit_intercept=True, linearregression__normalize=False, polynomialfeatures__degree=5;, score=-1477107294.278 total time=   0.1s\n",
      "[CV 3/10] END linearregression__fit_intercept=True, linearregression__normalize=False, polynomialfeatures__degree=5;, score=-19073.307 total time=   0.0s\n",
      "[CV 4/10] END linearregression__fit_intercept=True, linearregression__normalize=False, polynomialfeatures__degree=5;, score=-5923.442 total time=   0.0s\n",
      "[CV 5/10] END linearregression__fit_intercept=True, linearregression__normalize=False, polynomialfeatures__degree=5;, score=-16581289.574 total time=   0.0s\n",
      "[CV 6/10] END linearregression__fit_intercept=True, linearregression__normalize=False, polynomialfeatures__degree=5;, score=-316.266 total time=   0.2s\n",
      "[CV 7/10] END linearregression__fit_intercept=True, linearregression__normalize=False, polynomialfeatures__degree=5;, score=-92583.643 total time=   0.1s\n",
      "[CV 8/10] END linearregression__fit_intercept=True, linearregression__normalize=False, polynomialfeatures__degree=5;, score=-24053.515 total time=   0.0s\n",
      "[CV 9/10] END linearregression__fit_intercept=True, linearregression__normalize=False, polynomialfeatures__degree=5;, score=-66.531 total time=   0.0s\n",
      "[CV 10/10] END linearregression__fit_intercept=True, linearregression__normalize=False, polynomialfeatures__degree=5;, score=-224.786 total time=   0.1s\n",
      "[CV 1/10] END linearregression__fit_intercept=False, linearregression__normalize=True, polynomialfeatures__degree=3;, score=-49412760480500.180 total time=   0.0s\n",
      "[CV 2/10] END linearregression__fit_intercept=False, linearregression__normalize=True, polynomialfeatures__degree=3;, score=-0.436 total time=   0.0s\n",
      "[CV 3/10] END linearregression__fit_intercept=False, linearregression__normalize=True, polynomialfeatures__degree=3;, score=-0.556 total time=   0.0s\n",
      "[CV 4/10] END linearregression__fit_intercept=False, linearregression__normalize=True, polynomialfeatures__degree=3;, score=-1.037 total time=   0.0s\n",
      "[CV 5/10] END linearregression__fit_intercept=False, linearregression__normalize=True, polynomialfeatures__degree=3;, score=-7.870 total time=   0.0s\n",
      "[CV 6/10] END linearregression__fit_intercept=False, linearregression__normalize=True, polynomialfeatures__degree=3;, score=-1.646 total time=   0.0s\n",
      "[CV 7/10] END linearregression__fit_intercept=False, linearregression__normalize=True, polynomialfeatures__degree=3;, score=-0.411 total time=   0.0s\n",
      "[CV 8/10] END linearregression__fit_intercept=False, linearregression__normalize=True, polynomialfeatures__degree=3;, score=-1.382 total time=   0.0s\n",
      "[CV 9/10] END linearregression__fit_intercept=False, linearregression__normalize=True, polynomialfeatures__degree=3;, score=-0.289 total time=   0.0s\n",
      "[CV 10/10] END linearregression__fit_intercept=False, linearregression__normalize=True, polynomialfeatures__degree=3;, score=-1.420 total time=   0.0s\n",
      "[CV 1/10] END linearregression__fit_intercept=False, linearregression__normalize=True, polynomialfeatures__degree=4;, score=-265987670232057568.000 total time=   0.0s\n",
      "[CV 2/10] END linearregression__fit_intercept=False, linearregression__normalize=True, polynomialfeatures__degree=4;, score=-123.657 total time=   0.0s\n",
      "[CV 3/10] END linearregression__fit_intercept=False, linearregression__normalize=True, polynomialfeatures__degree=4;, score=-1.270 total time=   0.1s\n",
      "[CV 4/10] END linearregression__fit_intercept=False, linearregression__normalize=True, polynomialfeatures__degree=4;, score=-4.463 total time=   0.0s\n",
      "[CV 5/10] END linearregression__fit_intercept=False, linearregression__normalize=True, polynomialfeatures__degree=4;, score=-2113.707 total time=   0.0s\n",
      "[CV 6/10] END linearregression__fit_intercept=False, linearregression__normalize=True, polynomialfeatures__degree=4;, score=-1.928 total time=   0.0s\n",
      "[CV 7/10] END linearregression__fit_intercept=False, linearregression__normalize=True, polynomialfeatures__degree=4;, score=-5.491 total time=   0.0s\n",
      "[CV 8/10] END linearregression__fit_intercept=False, linearregression__normalize=True, polynomialfeatures__degree=4;, score=-7.863 total time=   0.0s\n",
      "[CV 9/10] END linearregression__fit_intercept=False, linearregression__normalize=True, polynomialfeatures__degree=4;, score=-0.499 total time=   0.1s\n",
      "[CV 10/10] END linearregression__fit_intercept=False, linearregression__normalize=True, polynomialfeatures__degree=4;, score=-1324.312 total time=   0.0s\n",
      "[CV 1/10] END linearregression__fit_intercept=False, linearregression__normalize=True, polynomialfeatures__degree=5;, score=-3241289907856126698806312960.000 total time=   0.0s\n",
      "[CV 2/10] END linearregression__fit_intercept=False, linearregression__normalize=True, polynomialfeatures__degree=5;, score=-1477104154.086 total time=   0.0s\n",
      "[CV 3/10] END linearregression__fit_intercept=False, linearregression__normalize=True, polynomialfeatures__degree=5;, score=-10961.235 total time=   0.0s\n",
      "[CV 4/10] END linearregression__fit_intercept=False, linearregression__normalize=True, polynomialfeatures__degree=5;, score=-5798.225 total time=   0.0s\n",
      "[CV 5/10] END linearregression__fit_intercept=False, linearregression__normalize=True, polynomialfeatures__degree=5;, score=-16630095.335 total time=   0.2s\n",
      "[CV 6/10] END linearregression__fit_intercept=False, linearregression__normalize=True, polynomialfeatures__degree=5;, score=-285.396 total time=   0.0s\n",
      "[CV 7/10] END linearregression__fit_intercept=False, linearregression__normalize=True, polynomialfeatures__degree=5;, score=-141326.681 total time=   0.1s\n",
      "[CV 8/10] END linearregression__fit_intercept=False, linearregression__normalize=True, polynomialfeatures__degree=5;, score=-46350.987 total time=   0.0s\n",
      "[CV 9/10] END linearregression__fit_intercept=False, linearregression__normalize=True, polynomialfeatures__degree=5;, score=-56.427 total time=   0.0s\n",
      "[CV 10/10] END linearregression__fit_intercept=False, linearregression__normalize=True, polynomialfeatures__degree=5;, score=-10096.145 total time=   0.1s\n",
      "[CV 1/10] END linearregression__fit_intercept=False, linearregression__normalize=False, polynomialfeatures__degree=3;, score=-49412760480500.180 total time=   0.0s\n",
      "[CV 2/10] END linearregression__fit_intercept=False, linearregression__normalize=False, polynomialfeatures__degree=3;, score=-0.436 total time=   0.0s\n",
      "[CV 3/10] END linearregression__fit_intercept=False, linearregression__normalize=False, polynomialfeatures__degree=3;, score=-0.556 total time=   0.0s\n",
      "[CV 4/10] END linearregression__fit_intercept=False, linearregression__normalize=False, polynomialfeatures__degree=3;, score=-1.037 total time=   0.1s\n",
      "[CV 5/10] END linearregression__fit_intercept=False, linearregression__normalize=False, polynomialfeatures__degree=3;, score=-7.870 total time=   0.0s\n",
      "[CV 6/10] END linearregression__fit_intercept=False, linearregression__normalize=False, polynomialfeatures__degree=3;, score=-1.646 total time=   0.0s\n",
      "[CV 7/10] END linearregression__fit_intercept=False, linearregression__normalize=False, polynomialfeatures__degree=3;, score=-0.411 total time=   0.0s\n",
      "[CV 8/10] END linearregression__fit_intercept=False, linearregression__normalize=False, polynomialfeatures__degree=3;, score=-1.382 total time=   0.0s\n",
      "[CV 9/10] END linearregression__fit_intercept=False, linearregression__normalize=False, polynomialfeatures__degree=3;, score=-0.289 total time=   0.0s\n",
      "[CV 10/10] END linearregression__fit_intercept=False, linearregression__normalize=False, polynomialfeatures__degree=3;, score=-1.420 total time=   0.0s\n",
      "[CV 1/10] END linearregression__fit_intercept=False, linearregression__normalize=False, polynomialfeatures__degree=4;, score=-265987670232057568.000 total time=   0.1s\n",
      "[CV 2/10] END linearregression__fit_intercept=False, linearregression__normalize=False, polynomialfeatures__degree=4;, score=-123.657 total time=   0.0s\n",
      "[CV 3/10] END linearregression__fit_intercept=False, linearregression__normalize=False, polynomialfeatures__degree=4;, score=-1.270 total time=   0.0s\n",
      "[CV 4/10] END linearregression__fit_intercept=False, linearregression__normalize=False, polynomialfeatures__degree=4;, score=-4.463 total time=   0.0s\n",
      "[CV 5/10] END linearregression__fit_intercept=False, linearregression__normalize=False, polynomialfeatures__degree=4;, score=-2113.707 total time=   0.0s\n",
      "[CV 6/10] END linearregression__fit_intercept=False, linearregression__normalize=False, polynomialfeatures__degree=4;, score=-1.928 total time=   0.0s\n",
      "[CV 7/10] END linearregression__fit_intercept=False, linearregression__normalize=False, polynomialfeatures__degree=4;, score=-5.491 total time=   0.0s\n",
      "[CV 8/10] END linearregression__fit_intercept=False, linearregression__normalize=False, polynomialfeatures__degree=4;, score=-7.863 total time=   0.0s\n",
      "[CV 9/10] END linearregression__fit_intercept=False, linearregression__normalize=False, polynomialfeatures__degree=4;, score=-0.499 total time=   0.0s\n",
      "[CV 10/10] END linearregression__fit_intercept=False, linearregression__normalize=False, polynomialfeatures__degree=4;, score=-1324.312 total time=   0.0s\n",
      "[CV 1/10] END linearregression__fit_intercept=False, linearregression__normalize=False, polynomialfeatures__degree=5;, score=-3241289907856126698806312960.000 total time=   0.1s\n",
      "[CV 2/10] END linearregression__fit_intercept=False, linearregression__normalize=False, polynomialfeatures__degree=5;, score=-1477104154.086 total time=   0.0s\n",
      "[CV 3/10] END linearregression__fit_intercept=False, linearregression__normalize=False, polynomialfeatures__degree=5;, score=-10961.235 total time=   0.0s\n",
      "[CV 4/10] END linearregression__fit_intercept=False, linearregression__normalize=False, polynomialfeatures__degree=5;, score=-5798.225 total time=   0.0s\n",
      "[CV 5/10] END linearregression__fit_intercept=False, linearregression__normalize=False, polynomialfeatures__degree=5;, score=-16630095.335 total time=   0.0s\n",
      "[CV 6/10] END linearregression__fit_intercept=False, linearregression__normalize=False, polynomialfeatures__degree=5;, score=-285.396 total time=   0.0s\n",
      "[CV 7/10] END linearregression__fit_intercept=False, linearregression__normalize=False, polynomialfeatures__degree=5;, score=-141326.681 total time=   0.1s\n",
      "[CV 8/10] END linearregression__fit_intercept=False, linearregression__normalize=False, polynomialfeatures__degree=5;, score=-46350.987 total time=   0.0s\n",
      "[CV 9/10] END linearregression__fit_intercept=False, linearregression__normalize=False, polynomialfeatures__degree=5;, score=-56.427 total time=   0.0s\n",
      "[CV 10/10] END linearregression__fit_intercept=False, linearregression__normalize=False, polynomialfeatures__degree=5;, score=-10096.145 total time=   0.0s\n"
     ]
    },
    {
     "data": {
      "text/plain": [
       "GridSearchCV(cv=10,\n",
       "             estimator=Pipeline(steps=[('standardscaler', StandardScaler()),\n",
       "                                       ('polynomialfeatures',\n",
       "                                        PolynomialFeatures()),\n",
       "                                       ('linearregression',\n",
       "                                        LinearRegression())]),\n",
       "             param_grid={'linearregression__fit_intercept': [True, False],\n",
       "                         'linearregression__normalize': [True, False],\n",
       "                         'polynomialfeatures__degree': [3, 4, 5]},\n",
       "             scoring='neg_mean_squared_error', verbose=3)"
      ]
     },
     "execution_count": 87,
     "metadata": {},
     "output_type": "execute_result"
    }
   ],
   "source": [
    "gr_search.fit(X_train, y_train)"
   ]
  },
  {
   "cell_type": "code",
   "execution_count": 88,
   "metadata": {},
   "outputs": [
    {
     "name": "stdout",
     "output_type": "stream",
     "text": [
      "Best Score: -4538194736604.956\n",
      "Best Hyperparameters: {'linearregression__fit_intercept': True, 'linearregression__normalize': False, 'polynomialfeatures__degree': 3}\n"
     ]
    }
   ],
   "source": [
    "print('Best Score: %s' % gr_search.best_score_)\n",
    "print('Best Hyperparameters: %s' % gr_search.best_params_)"
   ]
  },
  {
   "attachments": {},
   "cell_type": "markdown",
   "metadata": {},
   "source": [
    "### **3. Train model**"
   ]
  },
  {
   "cell_type": "code",
   "execution_count": 89,
   "metadata": {},
   "outputs": [
    {
     "data": {
      "text/plain": [
       "Pipeline(steps=[('standardscaler', StandardScaler()),\n",
       "                ('polynomialfeatures', PolynomialFeatures(degree=3)),\n",
       "                ('linearregression', LinearRegression())])"
      ]
     },
     "execution_count": 89,
     "metadata": {},
     "output_type": "execute_result"
    }
   ],
   "source": [
    "linear_fit_intercept, linear_normalize = gr_search.best_params_.get('linearregression__fit_intercept'), gr_search.best_params_.get('linearregression__normalize')\n",
    "poly_grid = PolynomialRegression(degree=3, fit_intercept=linear_fit_intercept, normalize=linear_normalize)\n",
    "poly_grid.fit(X_train, y_train)"
   ]
  },
  {
   "attachments": {},
   "cell_type": "markdown",
   "metadata": {},
   "source": [
    "### **4. Predict with model**"
   ]
  },
  {
   "cell_type": "code",
   "execution_count": 90,
   "metadata": {},
   "outputs": [],
   "source": [
    "y_pred = poly_grid.predict(X_test)"
   ]
  },
  {
   "attachments": {},
   "cell_type": "markdown",
   "metadata": {},
   "source": [
    "#### **<font color='green'>Visualize Predict and Error values</font>**"
   ]
  },
  {
   "cell_type": "code",
   "execution_count": 91,
   "metadata": {},
   "outputs": [
    {
     "data": {
      "image/png": "[encoded data removed]",
      "text/plain": [
       "<Figure size 640x480 with 1 Axes>"
      ]
     },
     "metadata": {},
     "output_type": "display_data"
    }
   ],
   "source": [
    "plot_predict = [i for i in range (1, len(y_test) + 1, 1)]\n",
    "plt.plot(plot_predict,y_test,color='r',linestyle='-')\n",
    "plt.plot(plot_predict,y_pred,color='b',linestyle='-')\n",
    "plt.legend(['y_test','y_predict'])\n",
    "plt.xlabel('y_test')\n",
    "plt.ylabel('y_predict')\n",
    "plt.title('Prediction')\n",
    "plt.show()"
   ]
  },
  {
   "cell_type": "code",
   "execution_count": 92,
   "metadata": {},
   "outputs": [
    {
     "data": {
      "image/png": "[encoded data removed]",
      "text/plain": [
       "<Figure size 640x480 with 1 Axes>"
      ]
     },
     "metadata": {},
     "output_type": "display_data"
    }
   ],
   "source": [
    "plot_error_value = [i for i in range(1, len(y_test) + 1, 1)]\n",
    "plt.plot(plot_error_value, y_test-y_pred, color='green', linestyle='-')\n",
    "plt.xlabel('Day')\n",
    "plt.ylabel('Sold quantity')\n",
    "plt.title('Error Value')\n",
    "plt.show()"
   ]
  },
  {
   "attachments": {},
   "cell_type": "markdown",
   "metadata": {},
   "source": [
    "### 5. Evaluate Linear Model with Poly nominal features"
   ]
  },
  {
   "cell_type": "code",
   "execution_count": 93,
   "metadata": {},
   "outputs": [
    {
     "name": "stdout",
     "output_type": "stream",
     "text": [
      "MSE:  0.5976363481589506\n",
      "MAE:  0.3782701648987051\n",
      "RMSE:  0.7730694329482641\n"
     ]
    }
   ],
   "source": [
    "print('MSE: ', mean_squared_error(y_test, y_pred))\n",
    "print('MAE: ', mean_absolute_error(y_test, y_pred))\n",
    "print('RMSE: ', np.sqrt(mean_squared_error(y_test, y_pred)))"
   ]
  },
  {
   "attachments": {},
   "cell_type": "markdown",
   "metadata": {},
   "source": [
    "#### **Intecept and coeff of the model**"
   ]
  },
  {
   "cell_type": "code",
   "execution_count": 94,
   "metadata": {},
   "outputs": [
    {
     "name": "stdout",
     "output_type": "stream",
     "text": [
      "Intercept of the model: 0.10974709800249062\n",
      "Coefficient of the line: [ 1.12310564e-15 -1.88942359e-01 -1.04364136e-01  1.08106970e+01\n",
      " -1.28446572e-01  5.04098116e-01 -3.02893948e-02  5.92584925e-02\n",
      " -1.07943420e+01 -7.16345128e-01 -2.75331497e-01  9.34049397e-02\n",
      " -2.35141113e-01 -8.37916506e-02  5.76105017e-02  9.17985954e+01\n",
      "  1.22933941e+01  1.95969407e+01  9.99545593e-02  3.79266199e-01\n",
      "  2.40234230e-01 -3.02791245e-02 -4.53272201e-02  2.86353770e-02\n",
      "  2.13732414e-01 -5.01565351e-02  3.01885083e-02  1.19928783e+00\n",
      " -1.56029602e-01  1.22747505e-02 -1.03922892e+02 -1.83506103e+01\n",
      " -5.57866864e+00  1.39905183e-01 -4.65203931e-01 -2.99693008e-02\n",
      "  5.36740965e-02  2.33605628e-01 -8.04562313e-02 -5.76951705e-02\n",
      " -1.85230809e+00  2.35688040e+00  2.00623145e+00  1.39005022e-01\n",
      "  1.91316931e-01  1.41505845e-02  7.18549348e+00  1.26313862e+02\n",
      "  2.58534635e+02  2.78568970e+00  8.14917905e+00  6.05048394e+00\n",
      "  1.25895919e-03  5.54289887e-02  9.90613252e-02  1.26890937e-02]\n"
     ]
    }
   ],
   "source": [
    "print('Intercept of the model:',gr_search.best_estimator_.named_steps['linearregression'].intercept_)\n",
    "print('Coefficient of the line:',gr_search.best_estimator_.named_steps['linearregression'].coef_)"
   ]
  }
 ],
 "metadata": {
  "kernelspec": {
   "display_name": "DataScience",
   "language": "python",
   "name": "python3"
  },
  "language_info": {
   "codemirror_mode": {
    "name": "ipython",
    "version": 3
   },
   "file_extension": ".py",
   "mimetype": "text/x-python",
   "name": "python",
   "nbconvert_exporter": "python",
   "pygments_lexer": "ipython3",
   "version": "3.8.8"
  },
  "orig_nbformat": 4,
  "vscode": {
   "interpreter": {
    "hash": "837c31c3b16f6f9a2689a247a1a2f11a52dd62aa3cb8540b2e00097f256f0faa"
   }
  }
 },
 "nbformat": 4,
 "nbformat_minor": 2
}
