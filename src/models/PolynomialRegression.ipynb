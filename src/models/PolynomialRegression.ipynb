{
 "cells": [
  {
   "cell_type": "code",
   "execution_count": 15,
   "metadata": {},
   "outputs": [],
   "source": [
    "import numpy as np\n",
    "import pandas as pd\n",
    "import seaborn as sns\n",
    "import matplotlib.pyplot as plt\n",
    "from sklearn.model_selection import GridSearchCV, train_test_split\n",
    "from sklearn.pipeline import make_pipeline\n",
    "from sklearn.preprocessing import PolynomialFeatures, StandardScaler\n",
    "from sklearn.linear_model import LinearRegression\n",
    "\n",
    "from sklearn.metrics import mean_squared_error, mean_absolute_error\n",
    "import warnings \n",
    "warnings.filterwarnings('ignore')\n",
    "%matplotlib inline"
   ]
  },
  {
   "attachments": {},
   "cell_type": "markdown",
   "metadata": {},
   "source": [
    "### **1. Read data**"
   ]
  },
  {
   "cell_type": "code",
   "execution_count": 16,
   "metadata": {},
   "outputs": [
    {
     "data": {
      "text/html": [
       "<div>\n",
       "<style scoped>\n",
       "    .dataframe tbody tr th:only-of-type {\n",
       "        vertical-align: middle;\n",
       "    }\n",
       "\n",
       "    .dataframe tbody tr th {\n",
       "        vertical-align: top;\n",
       "    }\n",
       "\n",
       "    .dataframe thead th {\n",
       "        text-align: right;\n",
       "    }\n",
       "</style>\n",
       "<table border=\"1\" class=\"dataframe\">\n",
       "  <thead>\n",
       "    <tr style=\"text-align: right;\">\n",
       "      <th></th>\n",
       "      <th>p_categories</th>\n",
       "      <th>p_brand</th>\n",
       "      <th>p_day_created</th>\n",
       "      <th>p_sold_quantity</th>\n",
       "      <th>p_original_price</th>\n",
       "      <th>p_discount_rate</th>\n",
       "    </tr>\n",
       "  </thead>\n",
       "  <tbody>\n",
       "    <tr>\n",
       "      <th>0</th>\n",
       "      <td>7</td>\n",
       "      <td>155</td>\n",
       "      <td>659.0</td>\n",
       "      <td>0.041052</td>\n",
       "      <td>528000</td>\n",
       "      <td>49</td>\n",
       "    </tr>\n",
       "    <tr>\n",
       "      <th>1</th>\n",
       "      <td>84</td>\n",
       "      <td>198</td>\n",
       "      <td>974.0</td>\n",
       "      <td>7.554966</td>\n",
       "      <td>799000</td>\n",
       "      <td>46</td>\n",
       "    </tr>\n",
       "    <tr>\n",
       "      <th>2</th>\n",
       "      <td>84</td>\n",
       "      <td>192</td>\n",
       "      <td>1372.0</td>\n",
       "      <td>0.187097</td>\n",
       "      <td>209000</td>\n",
       "      <td>0</td>\n",
       "    </tr>\n",
       "    <tr>\n",
       "      <th>3</th>\n",
       "      <td>7</td>\n",
       "      <td>155</td>\n",
       "      <td>593.0</td>\n",
       "      <td>6.017157</td>\n",
       "      <td>473000</td>\n",
       "      <td>50</td>\n",
       "    </tr>\n",
       "    <tr>\n",
       "      <th>4</th>\n",
       "      <td>15</td>\n",
       "      <td>145</td>\n",
       "      <td>529.0</td>\n",
       "      <td>1.053469</td>\n",
       "      <td>106000</td>\n",
       "      <td>16</td>\n",
       "    </tr>\n",
       "  </tbody>\n",
       "</table>\n",
       "</div>"
      ],
      "text/plain": [
       "   p_categories  p_brand  p_day_created  p_sold_quantity  p_original_price  \\\n",
       "0             7      155          659.0         0.041052            528000   \n",
       "1            84      198          974.0         7.554966            799000   \n",
       "2            84      192         1372.0         0.187097            209000   \n",
       "3             7      155          593.0         6.017157            473000   \n",
       "4            15      145          529.0         1.053469            106000   \n",
       "\n",
       "   p_discount_rate  \n",
       "0               49  \n",
       "1               46  \n",
       "2                0  \n",
       "3               50  \n",
       "4               16  "
      ]
     },
     "execution_count": 16,
     "metadata": {},
     "output_type": "execute_result"
    }
   ],
   "source": [
    "df = pd.read_csv('../../data/processed/canonical_data.csv')\n",
    "df.head()"
   ]
  },
  {
   "attachments": {},
   "cell_type": "markdown",
   "metadata": {},
   "source": [
    "### **2. Train test split**\n",
    "&#9889; This cell we choose columns X and y to split train test. Test set with size 20% and Train set with size 80% "
   ]
  },
  {
   "cell_type": "code",
   "execution_count": 17,
   "metadata": {},
   "outputs": [],
   "source": [
    "X = df.drop(['p_sold_quantity'], axis='columns')\n",
    "y = testLabels = df.p_sold_quantity\n",
    "\n",
    "X_train, X_test, y_train, y_test = train_test_split(X, y, test_size=0.3, random_state=15)"
   ]
  },
  {
   "attachments": {},
   "cell_type": "markdown",
   "metadata": {},
   "source": [
    "#### Make polynomial regression by pipeline \n",
    "&#9889; **NOTE:** We use pipeline to make polynomial regression. We can use pipeline to make many steps in one cell. Inside `Polynomial regression` used to make polynomial regression. We can change degree of polynomial regression by change `degree` in `PolynomialFeatures`"
   ]
  },
  {
   "cell_type": "code",
   "execution_count": 18,
   "metadata": {},
   "outputs": [],
   "source": [
    "def PolynomialRegression(degree=2, **kwargs):\n",
    "    return make_pipeline(StandardScaler(), PolynomialFeatures(degree), LinearRegression(**kwargs))"
   ]
  },
  {
   "attachments": {},
   "cell_type": "markdown",
   "metadata": {},
   "source": [
    "#### Create paramater grid to use GridSearchCV"
   ]
  },
  {
   "cell_type": "code",
   "execution_count": 19,
   "metadata": {},
   "outputs": [],
   "source": [
    "param_grid = {\n",
    "   'polynomialfeatures__degree': [3,4,5], \n",
    "   'linearregression__fit_intercept': [True, False], \n",
    "   'linearregression__normalize': [True, False]\n",
    "}"
   ]
  },
  {
   "cell_type": "code",
   "execution_count": 20,
   "metadata": {},
   "outputs": [],
   "source": [
    "gr_search = GridSearchCV(PolynomialRegression(), \n",
    "                         param_grid, \n",
    "                         cv=10, \n",
    "                         scoring='neg_mean_squared_error', \n",
    "                         verbose=3) "
   ]
  },
  {
   "attachments": {},
   "cell_type": "markdown",
   "metadata": {},
   "source": [
    "#### Fit grid search to find best score and best param "
   ]
  },
  {
   "cell_type": "code",
   "execution_count": 21,
   "metadata": {},
   "outputs": [
    {
     "name": "stdout",
     "output_type": "stream",
     "text": [
      "Fitting 10 folds for each of 12 candidates, totalling 120 fits\n",
      "[CV 1/10] END linearregression__fit_intercept=True, linearregression__normalize=True, polynomialfeatures__degree=3;, score=-49493313401932.531 total time=   0.0s\n",
      "[CV 2/10] END linearregression__fit_intercept=True, linearregression__normalize=True, polynomialfeatures__degree=3;, score=-0.436 total time=   0.0s\n",
      "[CV 3/10] END linearregression__fit_intercept=True, linearregression__normalize=True, polynomialfeatures__degree=3;, score=-0.556 total time=   0.0s\n",
      "[CV 4/10] END linearregression__fit_intercept=True, linearregression__normalize=True, polynomialfeatures__degree=3;, score=-1.037 total time=   0.0s\n",
      "[CV 5/10] END linearregression__fit_intercept=True, linearregression__normalize=True, polynomialfeatures__degree=3;, score=-7.870 total time=   0.0s\n",
      "[CV 6/10] END linearregression__fit_intercept=True, linearregression__normalize=True, polynomialfeatures__degree=3;, score=-1.646 total time=   0.0s\n",
      "[CV 7/10] END linearregression__fit_intercept=True, linearregression__normalize=True, polynomialfeatures__degree=3;, score=-0.411 total time=   0.0s\n",
      "[CV 8/10] END linearregression__fit_intercept=True, linearregression__normalize=True, polynomialfeatures__degree=3;, score=-1.382 total time=   0.0s\n",
      "[CV 9/10] END linearregression__fit_intercept=True, linearregression__normalize=True, polynomialfeatures__degree=3;, score=-0.289 total time=   0.0s\n",
      "[CV 10/10] END linearregression__fit_intercept=True, linearregression__normalize=True, polynomialfeatures__degree=3;, score=-1.420 total time=   0.0s\n",
      "[CV 1/10] END linearregression__fit_intercept=True, linearregression__normalize=True, polynomialfeatures__degree=4;, score=-265987670219568352.000 total time=   0.2s\n",
      "[CV 2/10] END linearregression__fit_intercept=True, linearregression__normalize=True, polynomialfeatures__degree=4;, score=-123.657 total time=   0.1s\n",
      "[CV 3/10] END linearregression__fit_intercept=True, linearregression__normalize=True, polynomialfeatures__degree=4;, score=-1.270 total time=   0.0s\n",
      "[CV 4/10] END linearregression__fit_intercept=True, linearregression__normalize=True, polynomialfeatures__degree=4;, score=-4.463 total time=   0.1s\n",
      "[CV 5/10] END linearregression__fit_intercept=True, linearregression__normalize=True, polynomialfeatures__degree=4;, score=-2113.707 total time=   0.1s\n",
      "[CV 6/10] END linearregression__fit_intercept=True, linearregression__normalize=True, polynomialfeatures__degree=4;, score=-1.928 total time=   0.0s\n",
      "[CV 7/10] END linearregression__fit_intercept=True, linearregression__normalize=True, polynomialfeatures__degree=4;, score=-5.491 total time=   0.0s\n",
      "[CV 8/10] END linearregression__fit_intercept=True, linearregression__normalize=True, polynomialfeatures__degree=4;, score=-7.863 total time=   0.0s\n",
      "[CV 9/10] END linearregression__fit_intercept=True, linearregression__normalize=True, polynomialfeatures__degree=4;, score=-0.499 total time=   0.1s\n",
      "[CV 10/10] END linearregression__fit_intercept=True, linearregression__normalize=True, polynomialfeatures__degree=4;, score=-1324.312 total time=   0.0s\n",
      "[CV 1/10] END linearregression__fit_intercept=True, linearregression__normalize=True, polynomialfeatures__degree=5;, score=-3241289907486785349873565696.000 total time=   0.1s\n",
      "[CV 2/10] END linearregression__fit_intercept=True, linearregression__normalize=True, polynomialfeatures__degree=5;, score=-1477109015.439 total time=   0.1s\n",
      "[CV 3/10] END linearregression__fit_intercept=True, linearregression__normalize=True, polynomialfeatures__degree=5;, score=-10961.314 total time=   0.1s\n",
      "[CV 4/10] END linearregression__fit_intercept=True, linearregression__normalize=True, polynomialfeatures__degree=5;, score=-5798.242 total time=   0.0s\n",
      "[CV 5/10] END linearregression__fit_intercept=True, linearregression__normalize=True, polynomialfeatures__degree=5;, score=-16581357.610 total time=   0.0s\n",
      "[CV 6/10] END linearregression__fit_intercept=True, linearregression__normalize=True, polynomialfeatures__degree=5;, score=-285.396 total time=   0.1s\n",
      "[CV 7/10] END linearregression__fit_intercept=True, linearregression__normalize=True, polynomialfeatures__degree=5;, score=-141146.152 total time=   0.1s\n",
      "[CV 8/10] END linearregression__fit_intercept=True, linearregression__normalize=True, polynomialfeatures__degree=5;, score=-46351.402 total time=   0.1s\n",
      "[CV 9/10] END linearregression__fit_intercept=True, linearregression__normalize=True, polynomialfeatures__degree=5;, score=-56.488 total time=   0.1s\n",
      "[CV 10/10] END linearregression__fit_intercept=True, linearregression__normalize=True, polynomialfeatures__degree=5;, score=-10096.150 total time=   0.1s\n",
      "[CV 1/10] END linearregression__fit_intercept=True, linearregression__normalize=False, polynomialfeatures__degree=3;, score=-45381947366029.906 total time=   0.0s\n",
      "[CV 2/10] END linearregression__fit_intercept=True, linearregression__normalize=False, polynomialfeatures__degree=3;, score=-0.436 total time=   0.0s\n",
      "[CV 3/10] END linearregression__fit_intercept=True, linearregression__normalize=False, polynomialfeatures__degree=3;, score=-0.556 total time=   0.1s\n",
      "[CV 4/10] END linearregression__fit_intercept=True, linearregression__normalize=False, polynomialfeatures__degree=3;, score=-1.037 total time=   0.1s\n",
      "[CV 5/10] END linearregression__fit_intercept=True, linearregression__normalize=False, polynomialfeatures__degree=3;, score=-7.870 total time=   0.0s\n",
      "[CV 6/10] END linearregression__fit_intercept=True, linearregression__normalize=False, polynomialfeatures__degree=3;, score=-1.646 total time=   0.0s\n",
      "[CV 7/10] END linearregression__fit_intercept=True, linearregression__normalize=False, polynomialfeatures__degree=3;, score=-0.411 total time=   0.1s\n",
      "[CV 8/10] END linearregression__fit_intercept=True, linearregression__normalize=False, polynomialfeatures__degree=3;, score=-1.382 total time=   0.0s\n",
      "[CV 9/10] END linearregression__fit_intercept=True, linearregression__normalize=False, polynomialfeatures__degree=3;, score=-0.289 total time=   0.0s\n",
      "[CV 10/10] END linearregression__fit_intercept=True, linearregression__normalize=False, polynomialfeatures__degree=3;, score=-1.420 total time=   0.1s\n",
      "[CV 1/10] END linearregression__fit_intercept=True, linearregression__normalize=False, polynomialfeatures__degree=4;, score=-22989835238838702080.000 total time=   0.1s\n",
      "[CV 2/10] END linearregression__fit_intercept=True, linearregression__normalize=False, polynomialfeatures__degree=4;, score=-123.657 total time=   0.0s\n",
      "[CV 3/10] END linearregression__fit_intercept=True, linearregression__normalize=False, polynomialfeatures__degree=4;, score=-1.270 total time=   0.0s\n",
      "[CV 4/10] END linearregression__fit_intercept=True, linearregression__normalize=False, polynomialfeatures__degree=4;, score=-4.463 total time=   0.0s\n",
      "[CV 5/10] END linearregression__fit_intercept=True, linearregression__normalize=False, polynomialfeatures__degree=4;, score=-2113.707 total time=   0.1s\n",
      "[CV 6/10] END linearregression__fit_intercept=True, linearregression__normalize=False, polynomialfeatures__degree=4;, score=-1.928 total time=   0.0s\n",
      "[CV 7/10] END linearregression__fit_intercept=True, linearregression__normalize=False, polynomialfeatures__degree=4;, score=-5.491 total time=   0.1s\n",
      "[CV 8/10] END linearregression__fit_intercept=True, linearregression__normalize=False, polynomialfeatures__degree=4;, score=-7.863 total time=   0.0s\n",
      "[CV 9/10] END linearregression__fit_intercept=True, linearregression__normalize=False, polynomialfeatures__degree=4;, score=-0.499 total time=   0.0s\n",
      "[CV 10/10] END linearregression__fit_intercept=True, linearregression__normalize=False, polynomialfeatures__degree=4;, score=-1324.312 total time=   0.0s\n",
      "[CV 1/10] END linearregression__fit_intercept=True, linearregression__normalize=False, polynomialfeatures__degree=5;, score=-3778976123705297040077488128.000 total time=   0.0s\n",
      "[CV 2/10] END linearregression__fit_intercept=True, linearregression__normalize=False, polynomialfeatures__degree=5;, score=-1477107637.382 total time=   0.0s\n",
      "[CV 3/10] END linearregression__fit_intercept=True, linearregression__normalize=False, polynomialfeatures__degree=5;, score=-19049.175 total time=   0.0s\n",
      "[CV 4/10] END linearregression__fit_intercept=True, linearregression__normalize=False, polynomialfeatures__degree=5;, score=-5924.851 total time=   0.0s\n",
      "[CV 5/10] END linearregression__fit_intercept=True, linearregression__normalize=False, polynomialfeatures__degree=5;, score=-16581142.254 total time=   0.1s\n",
      "[CV 6/10] END linearregression__fit_intercept=True, linearregression__normalize=False, polynomialfeatures__degree=5;, score=-316.344 total time=   0.0s\n",
      "[CV 7/10] END linearregression__fit_intercept=True, linearregression__normalize=False, polynomialfeatures__degree=5;, score=-93157.830 total time=   0.1s\n",
      "[CV 8/10] END linearregression__fit_intercept=True, linearregression__normalize=False, polynomialfeatures__degree=5;, score=-24034.411 total time=   0.1s\n",
      "[CV 9/10] END linearregression__fit_intercept=True, linearregression__normalize=False, polynomialfeatures__degree=5;, score=-66.520 total time=   0.1s\n",
      "[CV 10/10] END linearregression__fit_intercept=True, linearregression__normalize=False, polynomialfeatures__degree=5;, score=-224.637 total time=   0.0s\n",
      "[CV 1/10] END linearregression__fit_intercept=False, linearregression__normalize=True, polynomialfeatures__degree=3;, score=-49412760480498.711 total time=   0.0s\n",
      "[CV 2/10] END linearregression__fit_intercept=False, linearregression__normalize=True, polynomialfeatures__degree=3;, score=-0.436 total time=   0.0s\n",
      "[CV 3/10] END linearregression__fit_intercept=False, linearregression__normalize=True, polynomialfeatures__degree=3;, score=-0.556 total time=   0.0s\n",
      "[CV 4/10] END linearregression__fit_intercept=False, linearregression__normalize=True, polynomialfeatures__degree=3;, score=-1.037 total time=   0.0s\n",
      "[CV 5/10] END linearregression__fit_intercept=False, linearregression__normalize=True, polynomialfeatures__degree=3;, score=-7.870 total time=   0.0s\n",
      "[CV 6/10] END linearregression__fit_intercept=False, linearregression__normalize=True, polynomialfeatures__degree=3;, score=-1.646 total time=   0.0s\n",
      "[CV 7/10] END linearregression__fit_intercept=False, linearregression__normalize=True, polynomialfeatures__degree=3;, score=-0.411 total time=   0.0s\n",
      "[CV 8/10] END linearregression__fit_intercept=False, linearregression__normalize=True, polynomialfeatures__degree=3;, score=-1.382 total time=   0.0s\n",
      "[CV 9/10] END linearregression__fit_intercept=False, linearregression__normalize=True, polynomialfeatures__degree=3;, score=-0.289 total time=   0.0s\n",
      "[CV 10/10] END linearregression__fit_intercept=False, linearregression__normalize=True, polynomialfeatures__degree=3;, score=-1.420 total time=   0.0s\n",
      "[CV 1/10] END linearregression__fit_intercept=False, linearregression__normalize=True, polynomialfeatures__degree=4;, score=-265987670231746272.000 total time=   0.1s\n",
      "[CV 2/10] END linearregression__fit_intercept=False, linearregression__normalize=True, polynomialfeatures__degree=4;, score=-123.657 total time=   0.0s\n",
      "[CV 3/10] END linearregression__fit_intercept=False, linearregression__normalize=True, polynomialfeatures__degree=4;, score=-1.270 total time=   0.1s\n",
      "[CV 4/10] END linearregression__fit_intercept=False, linearregression__normalize=True, polynomialfeatures__degree=4;, score=-4.463 total time=   0.0s\n",
      "[CV 5/10] END linearregression__fit_intercept=False, linearregression__normalize=True, polynomialfeatures__degree=4;, score=-2113.707 total time=   0.0s\n",
      "[CV 6/10] END linearregression__fit_intercept=False, linearregression__normalize=True, polynomialfeatures__degree=4;, score=-1.928 total time=   0.0s\n",
      "[CV 7/10] END linearregression__fit_intercept=False, linearregression__normalize=True, polynomialfeatures__degree=4;, score=-5.491 total time=   0.0s\n",
      "[CV 8/10] END linearregression__fit_intercept=False, linearregression__normalize=True, polynomialfeatures__degree=4;, score=-7.863 total time=   0.0s\n",
      "[CV 9/10] END linearregression__fit_intercept=False, linearregression__normalize=True, polynomialfeatures__degree=4;, score=-0.499 total time=   0.0s\n",
      "[CV 10/10] END linearregression__fit_intercept=False, linearregression__normalize=True, polynomialfeatures__degree=4;, score=-1324.312 total time=   0.0s\n",
      "[CV 1/10] END linearregression__fit_intercept=False, linearregression__normalize=True, polynomialfeatures__degree=5;, score=-3241289907743679644633661440.000 total time=   0.0s\n",
      "[CV 2/10] END linearregression__fit_intercept=False, linearregression__normalize=True, polynomialfeatures__degree=5;, score=-1477102267.112 total time=   0.1s\n",
      "[CV 3/10] END linearregression__fit_intercept=False, linearregression__normalize=True, polynomialfeatures__degree=5;, score=-10961.222 total time=   0.0s\n",
      "[CV 4/10] END linearregression__fit_intercept=False, linearregression__normalize=True, polynomialfeatures__degree=5;, score=-5798.270 total time=   0.0s\n",
      "[CV 5/10] END linearregression__fit_intercept=False, linearregression__normalize=True, polynomialfeatures__degree=5;, score=-16629772.508 total time=   0.0s\n",
      "[CV 6/10] END linearregression__fit_intercept=False, linearregression__normalize=True, polynomialfeatures__degree=5;, score=-285.396 total time=   0.0s\n",
      "[CV 7/10] END linearregression__fit_intercept=False, linearregression__normalize=True, polynomialfeatures__degree=5;, score=-141327.365 total time=   0.0s\n",
      "[CV 8/10] END linearregression__fit_intercept=False, linearregression__normalize=True, polynomialfeatures__degree=5;, score=-46350.379 total time=   0.1s\n",
      "[CV 9/10] END linearregression__fit_intercept=False, linearregression__normalize=True, polynomialfeatures__degree=5;, score=-56.427 total time=   0.0s\n",
      "[CV 10/10] END linearregression__fit_intercept=False, linearregression__normalize=True, polynomialfeatures__degree=5;, score=-10096.019 total time=   0.0s\n",
      "[CV 1/10] END linearregression__fit_intercept=False, linearregression__normalize=False, polynomialfeatures__degree=3;, score=-49412760480498.711 total time=   0.0s\n",
      "[CV 2/10] END linearregression__fit_intercept=False, linearregression__normalize=False, polynomialfeatures__degree=3;, score=-0.436 total time=   0.0s\n",
      "[CV 3/10] END linearregression__fit_intercept=False, linearregression__normalize=False, polynomialfeatures__degree=3;, score=-0.556 total time=   0.0s\n",
      "[CV 4/10] END linearregression__fit_intercept=False, linearregression__normalize=False, polynomialfeatures__degree=3;, score=-1.037 total time=   0.0s\n",
      "[CV 5/10] END linearregression__fit_intercept=False, linearregression__normalize=False, polynomialfeatures__degree=3;, score=-7.870 total time=   0.0s\n",
      "[CV 6/10] END linearregression__fit_intercept=False, linearregression__normalize=False, polynomialfeatures__degree=3;, score=-1.646 total time=   0.0s\n",
      "[CV 7/10] END linearregression__fit_intercept=False, linearregression__normalize=False, polynomialfeatures__degree=3;, score=-0.411 total time=   0.1s\n",
      "[CV 8/10] END linearregression__fit_intercept=False, linearregression__normalize=False, polynomialfeatures__degree=3;, score=-1.382 total time=   0.0s\n",
      "[CV 9/10] END linearregression__fit_intercept=False, linearregression__normalize=False, polynomialfeatures__degree=3;, score=-0.289 total time=   0.0s\n",
      "[CV 10/10] END linearregression__fit_intercept=False, linearregression__normalize=False, polynomialfeatures__degree=3;, score=-1.420 total time=   0.0s\n",
      "[CV 1/10] END linearregression__fit_intercept=False, linearregression__normalize=False, polynomialfeatures__degree=4;, score=-265987670231746272.000 total time=   0.0s\n",
      "[CV 2/10] END linearregression__fit_intercept=False, linearregression__normalize=False, polynomialfeatures__degree=4;, score=-123.657 total time=   0.0s\n",
      "[CV 3/10] END linearregression__fit_intercept=False, linearregression__normalize=False, polynomialfeatures__degree=4;, score=-1.270 total time=   0.0s\n",
      "[CV 4/10] END linearregression__fit_intercept=False, linearregression__normalize=False, polynomialfeatures__degree=4;, score=-4.463 total time=   0.0s\n",
      "[CV 5/10] END linearregression__fit_intercept=False, linearregression__normalize=False, polynomialfeatures__degree=4;, score=-2113.707 total time=   0.0s\n",
      "[CV 6/10] END linearregression__fit_intercept=False, linearregression__normalize=False, polynomialfeatures__degree=4;, score=-1.928 total time=   0.0s\n",
      "[CV 7/10] END linearregression__fit_intercept=False, linearregression__normalize=False, polynomialfeatures__degree=4;, score=-5.491 total time=   0.1s\n",
      "[CV 8/10] END linearregression__fit_intercept=False, linearregression__normalize=False, polynomialfeatures__degree=4;, score=-7.863 total time=   0.2s\n",
      "[CV 9/10] END linearregression__fit_intercept=False, linearregression__normalize=False, polynomialfeatures__degree=4;, score=-0.499 total time=   0.1s\n",
      "[CV 10/10] END linearregression__fit_intercept=False, linearregression__normalize=False, polynomialfeatures__degree=4;, score=-1324.312 total time=   0.0s\n",
      "[CV 1/10] END linearregression__fit_intercept=False, linearregression__normalize=False, polynomialfeatures__degree=5;, score=-3241289907743679644633661440.000 total time=   0.1s\n",
      "[CV 2/10] END linearregression__fit_intercept=False, linearregression__normalize=False, polynomialfeatures__degree=5;, score=-1477102267.112 total time=   0.1s\n",
      "[CV 3/10] END linearregression__fit_intercept=False, linearregression__normalize=False, polynomialfeatures__degree=5;, score=-10961.222 total time=   0.1s\n",
      "[CV 4/10] END linearregression__fit_intercept=False, linearregression__normalize=False, polynomialfeatures__degree=5;, score=-5798.270 total time=   0.0s\n",
      "[CV 5/10] END linearregression__fit_intercept=False, linearregression__normalize=False, polynomialfeatures__degree=5;, score=-16629772.508 total time=   0.0s\n",
      "[CV 6/10] END linearregression__fit_intercept=False, linearregression__normalize=False, polynomialfeatures__degree=5;, score=-285.396 total time=   0.1s\n",
      "[CV 7/10] END linearregression__fit_intercept=False, linearregression__normalize=False, polynomialfeatures__degree=5;, score=-141327.365 total time=   0.1s\n",
      "[CV 8/10] END linearregression__fit_intercept=False, linearregression__normalize=False, polynomialfeatures__degree=5;, score=-46350.379 total time=   0.1s\n",
      "[CV 9/10] END linearregression__fit_intercept=False, linearregression__normalize=False, polynomialfeatures__degree=5;, score=-56.427 total time=   0.1s\n",
      "[CV 10/10] END linearregression__fit_intercept=False, linearregression__normalize=False, polynomialfeatures__degree=5;, score=-10096.019 total time=   0.1s\n"
     ]
    },
    {
     "data": {
      "text/plain": [
       "GridSearchCV(cv=10,\n",
       "             estimator=Pipeline(steps=[('standardscaler', StandardScaler()),\n",
       "                                       ('polynomialfeatures',\n",
       "                                        PolynomialFeatures()),\n",
       "                                       ('linearregression',\n",
       "                                        LinearRegression())]),\n",
       "             param_grid={'linearregression__fit_intercept': [True, False],\n",
       "                         'linearregression__normalize': [True, False],\n",
       "                         'polynomialfeatures__degree': [3, 4, 5]},\n",
       "             scoring='neg_mean_squared_error', verbose=3)"
      ]
     },
     "execution_count": 21,
     "metadata": {},
     "output_type": "execute_result"
    }
   ],
   "source": [
    "gr_search.fit(X_train, y_train)"
   ]
  },
  {
   "cell_type": "code",
   "execution_count": 22,
   "metadata": {},
   "outputs": [
    {
     "name": "stdout",
     "output_type": "stream",
     "text": [
      "Best Score: -4538194736604.496\n",
      "Best Hyperparameters: {'linearregression__fit_intercept': True, 'linearregression__normalize': False, 'polynomialfeatures__degree': 3}\n"
     ]
    }
   ],
   "source": [
    "print('Best Score: %s' % gr_search.best_score_)\n",
    "print('Best Hyperparameters: %s' % gr_search.best_params_)"
   ]
  },
  {
   "attachments": {},
   "cell_type": "markdown",
   "metadata": {},
   "source": [
    "### **3. Train model**"
   ]
  },
  {
   "cell_type": "code",
   "execution_count": 23,
   "metadata": {},
   "outputs": [
    {
     "data": {
      "text/plain": [
       "Pipeline(steps=[('standardscaler', StandardScaler()),\n",
       "                ('polynomialfeatures', PolynomialFeatures(degree=3)),\n",
       "                ('linearregression', LinearRegression())])"
      ]
     },
     "execution_count": 23,
     "metadata": {},
     "output_type": "execute_result"
    }
   ],
   "source": [
    "linear_fit_intercept, linear_normalize = gr_search.best_params_.get('linearregression__fit_intercept'), gr_search.best_params_.get('linearregression__normalize')\n",
    "poly_grid = PolynomialRegression(degree=3, fit_intercept=linear_fit_intercept, normalize=linear_normalize)\n",
    "poly_grid.fit(X_train, y_train)"
   ]
  },
  {
   "attachments": {},
   "cell_type": "markdown",
   "metadata": {},
   "source": [
    "### **4. Predict with model**"
   ]
  },
  {
   "cell_type": "code",
   "execution_count": 24,
   "metadata": {},
   "outputs": [],
   "source": [
    "y_pred = poly_grid.predict(X_test)"
   ]
  },
  {
   "attachments": {},
   "cell_type": "markdown",
   "metadata": {},
   "source": [
    "#### **<font color='green'>Visualize Predict and Error values</font>**"
   ]
  },
  {
   "cell_type": "code",
   "execution_count": 25,
   "metadata": {},
   "outputs": [
    {
     "data": {
      "image/png": "[encoded data removed]",
      "text/plain": [
       "<Figure size 640x480 with 1 Axes>"
      ]
     },
     "metadata": {},
     "output_type": "display_data"
    }
   ],
   "source": [
    "plot_predict = [i for i in range (1, len(y_test) + 1, 1)]\n",
    "plt.plot(plot_predict,y_test,color='r',linestyle='-')\n",
    "plt.plot(plot_predict,y_pred,color='b',linestyle='-')\n",
    "plt.legend(['y_test','y_predict'])\n",
    "plt.title('Prediction')\n",
    "plt.show()"
   ]
  },
  {
   "cell_type": "code",
   "execution_count": 26,
   "metadata": {},
   "outputs": [
    {
     "data": {
      "image/png": "[encoded data removed]",
      "text/plain": [
       "<Figure size 640x480 with 1 Axes>"
      ]
     },
     "metadata": {},
     "output_type": "display_data"
    }
   ],
   "source": [
    "plot_error_value = [i for i in range(1, len(y_test) + 1, 1)]\n",
    "plt.plot(plot_error_value, y_test-y_pred, color='green', linestyle='-')\n",
    "plt.xlabel('Day')\n",
    "plt.ylabel('Sold quantity')\n",
    "plt.title('Error Value')\n",
    "plt.show()"
   ]
  },
  {
   "attachments": {},
   "cell_type": "markdown",
   "metadata": {},
   "source": [
    "### 5. Evaluate Linear Model with Poly nominal features"
   ]
  },
  {
   "cell_type": "code",
   "execution_count": 27,
   "metadata": {},
   "outputs": [
    {
     "name": "stdout",
     "output_type": "stream",
     "text": [
      "MSE:  0.5976363481591647\n",
      "MAE:  0.3782701648986338\n",
      "RMSE:  0.7730694329484026\n"
     ]
    }
   ],
   "source": [
    "print('MSE: ', mean_squared_error(y_test, y_pred))\n",
    "print('MAE: ', mean_absolute_error(y_test, y_pred))\n",
    "print('RMSE: ', np.sqrt(mean_squared_error(y_test, y_pred)))"
   ]
  },
  {
   "attachments": {},
   "cell_type": "markdown",
   "metadata": {},
   "source": [
    "#### **Intecept and coeff of the model**"
   ]
  },
  {
   "cell_type": "code",
   "execution_count": 28,
   "metadata": {},
   "outputs": [
    {
     "name": "stdout",
     "output_type": "stream",
     "text": [
      "Intercept of the model: 0.10974709800205283\n",
      "Coefficient of the line: [ 1.12311111e-15 -1.88942359e-01 -1.04364136e-01  1.08106970e+01\n",
      " -1.28446572e-01  5.04098116e-01 -3.02893948e-02  5.92584925e-02\n",
      " -1.07943420e+01 -7.16345128e-01 -2.75331497e-01  9.34049397e-02\n",
      " -2.35141113e-01 -8.37916506e-02  5.76105017e-02  9.17985954e+01\n",
      "  1.22933941e+01  1.95969407e+01  9.99545593e-02  3.79266199e-01\n",
      "  2.40234230e-01 -3.02791245e-02 -4.53272201e-02  2.86353770e-02\n",
      "  2.13732414e-01 -5.01565351e-02  3.01885083e-02  1.19928783e+00\n",
      " -1.56029602e-01  1.22747505e-02 -1.03922892e+02 -1.83506103e+01\n",
      " -5.57866864e+00  1.39905183e-01 -4.65203931e-01 -2.99693008e-02\n",
      "  5.36740965e-02  2.33605628e-01 -8.04562313e-02 -5.76951705e-02\n",
      " -1.85230809e+00  2.35688040e+00  2.00623145e+00  1.39005022e-01\n",
      "  1.91316931e-01  1.41505845e-02  7.18549348e+00  1.26313862e+02\n",
      "  2.58534635e+02  2.78568970e+00  8.14917905e+00  6.05048394e+00\n",
      "  1.25895919e-03  5.54289887e-02  9.90613252e-02  1.26890937e-02]\n"
     ]
    }
   ],
   "source": [
    "print('Intercept of the model:',gr_search.best_estimator_.named_steps['linearregression'].intercept_)\n",
    "print('Coefficient of the line:',gr_search.best_estimator_.named_steps['linearregression'].coef_)"
   ]
  }
 ],
 "metadata": {
  "kernelspec": {
   "display_name": "min_ds-env",
   "language": "python",
   "name": "python3"
  },
  "language_info": {
   "codemirror_mode": {
    "name": "ipython",
    "version": 3
   },
   "file_extension": ".py",
   "mimetype": "text/x-python",
   "name": "python",
   "nbconvert_exporter": "python",
   "pygments_lexer": "ipython3",
   "version": "3.8.8 | packaged by conda-forge | (default, Feb 20 2021, 16:22:27) \n[GCC 9.3.0]"
  },
  "orig_nbformat": 4,
  "vscode": {
   "interpreter": {
    "hash": "a5e1ec076bd572246a92e5395011ccb4d0c3c0a63992a65b30abbf30f49ecb0c"
   }
  }
 },
 "nbformat": 4,
 "nbformat_minor": 2
}
